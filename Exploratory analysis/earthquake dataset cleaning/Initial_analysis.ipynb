{
 "cells": [
  {
   "cell_type": "code",
   "execution_count": 5,
   "metadata": {},
   "outputs": [],
   "source": [
    "import pandas as pd\n",
    "import numpy as np\n",
    "from datetime import datetime\n",
    "import matplotlib.pyplot as plt"
   ]
  },
  {
   "cell_type": "code",
   "execution_count": 2,
   "metadata": {},
   "outputs": [
    {
     "name": "stdout",
     "output_type": "stream",
     "text": [
      "         Date      Time  Latitude  Longitude        Type  Depth  Depth Error  \\\n",
      "0  01/02/1965  13:44:18    19.246    145.616  Earthquake  131.6          NaN   \n",
      "1  01/04/1965  11:29:49     1.863    127.352  Earthquake   80.0          NaN   \n",
      "2  01/05/1965  18:05:58   -20.579   -173.972  Earthquake   20.0          NaN   \n",
      "3  01/08/1965  18:49:43   -59.076    -23.557  Earthquake   15.0          NaN   \n",
      "4  01/09/1965  13:32:50    11.938    126.427  Earthquake   15.0          NaN   \n",
      "\n",
      "   Depth Seismic Stations  Magnitude Magnitude Type  ...  \\\n",
      "0                     NaN        6.0             MW  ...   \n",
      "1                     NaN        5.8             MW  ...   \n",
      "2                     NaN        6.2             MW  ...   \n",
      "3                     NaN        5.8             MW  ...   \n",
      "4                     NaN        5.8             MW  ...   \n",
      "\n",
      "   Magnitude Seismic Stations  Azimuthal Gap  Horizontal Distance  \\\n",
      "0                         NaN            NaN                  NaN   \n",
      "1                         NaN            NaN                  NaN   \n",
      "2                         NaN            NaN                  NaN   \n",
      "3                         NaN            NaN                  NaN   \n",
      "4                         NaN            NaN                  NaN   \n",
      "\n",
      "   Horizontal Error  Root Mean Square            ID  Source Location Source  \\\n",
      "0               NaN               NaN  ISCGEM860706  ISCGEM          ISCGEM   \n",
      "1               NaN               NaN  ISCGEM860737  ISCGEM          ISCGEM   \n",
      "2               NaN               NaN  ISCGEM860762  ISCGEM          ISCGEM   \n",
      "3               NaN               NaN  ISCGEM860856  ISCGEM          ISCGEM   \n",
      "4               NaN               NaN  ISCGEM860890  ISCGEM          ISCGEM   \n",
      "\n",
      "  Magnitude Source     Status  \n",
      "0           ISCGEM  Automatic  \n",
      "1           ISCGEM  Automatic  \n",
      "2           ISCGEM  Automatic  \n",
      "3           ISCGEM  Automatic  \n",
      "4           ISCGEM  Automatic  \n",
      "\n",
      "[5 rows x 21 columns]\n"
     ]
    }
   ],
   "source": [
    "earthquake = pd.read_csv('database.csv')\n",
    "print(earthquake.head())"
   ]
  },
  {
   "cell_type": "code",
   "execution_count": 3,
   "metadata": {},
   "outputs": [
    {
     "data": {
      "text/plain": [
       "dtype('O')"
      ]
     },
     "execution_count": 3,
     "metadata": {},
     "output_type": "execute_result"
    }
   ],
   "source": [
    "earthquake['Date'].dtype"
   ]
  },
  {
   "cell_type": "code",
   "execution_count": 6,
   "metadata": {},
   "outputs": [
    {
     "name": "stdout",
     "output_type": "stream",
     "text": [
      "1965-02-01 00:00:00\n",
      "1965-04-01 00:00:00\n",
      "1965-05-01 00:00:00\n",
      "1965-08-01 00:00:00\n",
      "1965-09-01 00:00:00\n",
      "1965-10-01 00:00:00\n",
      "1965-12-01 00:00:00\n"
     ]
    },
    {
     "ename": "ValueError",
     "evalue": "time data '01/15/1965' does not match format '%d/%m/%Y'",
     "output_type": "error",
     "traceback": [
      "\u001b[1;31m---------------------------------------------------------------------------\u001b[0m",
      "\u001b[1;31mValueError\u001b[0m                                Traceback (most recent call last)",
      "Cell \u001b[1;32mIn[6], line 3\u001b[0m\n\u001b[0;32m      1\u001b[0m \u001b[38;5;28;01mfor\u001b[39;00m d \u001b[38;5;129;01min\u001b[39;00m earthquake[\u001b[38;5;124m'\u001b[39m\u001b[38;5;124mDate\u001b[39m\u001b[38;5;124m'\u001b[39m]:\n\u001b[0;32m      2\u001b[0m     \u001b[38;5;28mformat\u001b[39m \u001b[38;5;241m=\u001b[39m \u001b[38;5;124m\"\u001b[39m\u001b[38;5;132;01m%d\u001b[39;00m\u001b[38;5;124m/\u001b[39m\u001b[38;5;124m%\u001b[39m\u001b[38;5;124mm/\u001b[39m\u001b[38;5;124m%\u001b[39m\u001b[38;5;124mY\u001b[39m\u001b[38;5;124m\"\u001b[39m\n\u001b[1;32m----> 3\u001b[0m     dtobject \u001b[38;5;241m=\u001b[39m \u001b[43mdatetime\u001b[49m\u001b[38;5;241;43m.\u001b[39;49m\u001b[43mstrptime\u001b[49m\u001b[43m(\u001b[49m\u001b[43md\u001b[49m\u001b[43m,\u001b[49m\u001b[43m \u001b[49m\u001b[38;5;28;43mformat\u001b[39;49m\u001b[43m)\u001b[49m\n\u001b[0;32m      4\u001b[0m     \u001b[38;5;28mprint\u001b[39m (dtobject)\n",
      "File \u001b[1;32mc:\\Users\\Owner\\AppData\\Local\\Programs\\Python\\Python313\\Lib\\_strptime.py:674\u001b[0m, in \u001b[0;36m_strptime_datetime\u001b[1;34m(cls, data_string, format)\u001b[0m\n\u001b[0;32m    671\u001b[0m \u001b[38;5;28;01mdef\u001b[39;00m\u001b[38;5;250m \u001b[39m\u001b[38;5;21m_strptime_datetime\u001b[39m(\u001b[38;5;28mcls\u001b[39m, data_string, \u001b[38;5;28mformat\u001b[39m\u001b[38;5;241m=\u001b[39m\u001b[38;5;124m\"\u001b[39m\u001b[38;5;132;01m%a\u001b[39;00m\u001b[38;5;124m \u001b[39m\u001b[38;5;124m%\u001b[39m\u001b[38;5;124mb \u001b[39m\u001b[38;5;132;01m%d\u001b[39;00m\u001b[38;5;124m \u001b[39m\u001b[38;5;124m%\u001b[39m\u001b[38;5;124mH:\u001b[39m\u001b[38;5;124m%\u001b[39m\u001b[38;5;124mM:\u001b[39m\u001b[38;5;124m%\u001b[39m\u001b[38;5;124mS \u001b[39m\u001b[38;5;124m%\u001b[39m\u001b[38;5;124mY\u001b[39m\u001b[38;5;124m\"\u001b[39m):\n\u001b[0;32m    672\u001b[0m \u001b[38;5;250m    \u001b[39m\u001b[38;5;124;03m\"\"\"Return a class cls instance based on the input string and the\u001b[39;00m\n\u001b[0;32m    673\u001b[0m \u001b[38;5;124;03m    format string.\"\"\"\u001b[39;00m\n\u001b[1;32m--> 674\u001b[0m     tt, fraction, gmtoff_fraction \u001b[38;5;241m=\u001b[39m \u001b[43m_strptime\u001b[49m\u001b[43m(\u001b[49m\u001b[43mdata_string\u001b[49m\u001b[43m,\u001b[49m\u001b[43m \u001b[49m\u001b[38;5;28;43mformat\u001b[39;49m\u001b[43m)\u001b[49m\n\u001b[0;32m    675\u001b[0m     tzname, gmtoff \u001b[38;5;241m=\u001b[39m tt[\u001b[38;5;241m-\u001b[39m\u001b[38;5;241m2\u001b[39m:]\n\u001b[0;32m    676\u001b[0m     args \u001b[38;5;241m=\u001b[39m tt[:\u001b[38;5;241m6\u001b[39m] \u001b[38;5;241m+\u001b[39m (fraction,)\n",
      "File \u001b[1;32mc:\\Users\\Owner\\AppData\\Local\\Programs\\Python\\Python313\\Lib\\_strptime.py:453\u001b[0m, in \u001b[0;36m_strptime\u001b[1;34m(data_string, format)\u001b[0m\n\u001b[0;32m    451\u001b[0m found \u001b[38;5;241m=\u001b[39m format_regex\u001b[38;5;241m.\u001b[39mmatch(data_string)\n\u001b[0;32m    452\u001b[0m \u001b[38;5;28;01mif\u001b[39;00m \u001b[38;5;129;01mnot\u001b[39;00m found:\n\u001b[1;32m--> 453\u001b[0m     \u001b[38;5;28;01mraise\u001b[39;00m \u001b[38;5;167;01mValueError\u001b[39;00m(\u001b[38;5;124m\"\u001b[39m\u001b[38;5;124mtime data \u001b[39m\u001b[38;5;132;01m%r\u001b[39;00m\u001b[38;5;124m does not match format \u001b[39m\u001b[38;5;132;01m%r\u001b[39;00m\u001b[38;5;124m\"\u001b[39m \u001b[38;5;241m%\u001b[39m\n\u001b[0;32m    454\u001b[0m                      (data_string, \u001b[38;5;28mformat\u001b[39m))\n\u001b[0;32m    455\u001b[0m \u001b[38;5;28;01mif\u001b[39;00m \u001b[38;5;28mlen\u001b[39m(data_string) \u001b[38;5;241m!=\u001b[39m found\u001b[38;5;241m.\u001b[39mend():\n\u001b[0;32m    456\u001b[0m     \u001b[38;5;28;01mraise\u001b[39;00m \u001b[38;5;167;01mValueError\u001b[39;00m(\u001b[38;5;124m\"\u001b[39m\u001b[38;5;124munconverted data remains: \u001b[39m\u001b[38;5;132;01m%s\u001b[39;00m\u001b[38;5;124m\"\u001b[39m \u001b[38;5;241m%\u001b[39m\n\u001b[0;32m    457\u001b[0m                       data_string[found\u001b[38;5;241m.\u001b[39mend():])\n",
      "\u001b[1;31mValueError\u001b[0m: time data '01/15/1965' does not match format '%d/%m/%Y'"
     ]
    }
   ],
   "source": [
    "for d in earthquake['Date']:\n",
    "    format = \"%d/%m/%Y\"\n",
    "    dtobject = datetime.strptime(d, format)\n",
    "    print (dtobject)\n"
   ]
  },
  {
   "cell_type": "markdown",
   "metadata": {},
   "source": [
    "strptime() method is not helpful in converting the date time for all rows as some of the rows in the series object are in different format\n",
    "\n",
    "It only works if all rows are in same format such as %d/%m/%Y. Here some rows are in %m/%d/%Y as well as some have time stamps so this method of conversion failed"
   ]
  },
  {
   "cell_type": "code",
   "execution_count": 59,
   "metadata": {},
   "outputs": [
    {
     "name": "stdout",
     "output_type": "stream",
     "text": [
      "<class 'pandas.core.frame.DataFrame'>\n",
      "RangeIndex: 23412 entries, 0 to 23411\n",
      "Data columns (total 21 columns):\n",
      " #   Column                      Non-Null Count  Dtype  \n",
      "---  ------                      --------------  -----  \n",
      " 0   Date                        23412 non-null  object \n",
      " 1   Time                        23412 non-null  object \n",
      " 2   Latitude                    23412 non-null  float64\n",
      " 3   Longitude                   23412 non-null  float64\n",
      " 4   Type                        23412 non-null  object \n",
      " 5   Depth                       23412 non-null  float64\n",
      " 6   Depth Error                 4461 non-null   float64\n",
      " 7   Depth Seismic Stations      7097 non-null   float64\n",
      " 8   Magnitude                   23412 non-null  float64\n",
      " 9   Magnitude Type              23409 non-null  object \n",
      " 10  Magnitude Error             327 non-null    float64\n",
      " 11  Magnitude Seismic Stations  2564 non-null   float64\n",
      " 12  Azimuthal Gap               7299 non-null   float64\n",
      " 13  Horizontal Distance         1604 non-null   float64\n",
      " 14  Horizontal Error            1156 non-null   float64\n",
      " 15  Root Mean Square            17352 non-null  float64\n",
      " 16  ID                          23412 non-null  object \n",
      " 17  Source                      23412 non-null  object \n",
      " 18  Location Source             23412 non-null  object \n",
      " 19  Magnitude Source            23412 non-null  object \n",
      " 20  Status                      23412 non-null  object \n",
      "dtypes: float64(12), object(9)\n",
      "memory usage: 3.8+ MB\n"
     ]
    }
   ],
   "source": [
    "earthquake.info()"
   ]
  },
  {
   "cell_type": "markdown",
   "metadata": {},
   "source": [
    "Above information shows that that date is an object data type. It need to be converted to date time data type"
   ]
  },
  {
   "cell_type": "code",
   "execution_count": 60,
   "metadata": {},
   "outputs": [
    {
     "name": "stdout",
     "output_type": "stream",
     "text": [
      "0        10\n",
      "1        10\n",
      "2        10\n",
      "3        10\n",
      "4        10\n",
      "         ..\n",
      "23407    10\n",
      "23408    10\n",
      "23409    10\n",
      "23410    10\n",
      "23411    10\n",
      "Name: Date, Length: 23412, dtype: int64\n"
     ]
    }
   ],
   "source": [
    "date_lengths = earthquake['Date'].str.len()\n",
    "print(date_lengths)"
   ]
  },
  {
   "cell_type": "code",
   "execution_count": 61,
   "metadata": {},
   "outputs": [
    {
     "name": "stdout",
     "output_type": "stream",
     "text": [
      "Date\n",
      "10    23409\n",
      "24        3\n",
      "Name: count, dtype: int64\n"
     ]
    }
   ],
   "source": [
    "print(date_lengths.value_counts())"
   ]
  },
  {
   "cell_type": "code",
   "execution_count": 62,
   "metadata": {},
   "outputs": [
    {
     "name": "stdout",
     "output_type": "stream",
     "text": [
      "                           Date                      Time  Latitude  \\\n",
      "3378   1975-02-23T02:58:41.000Z  1975-02-23T02:58:41.000Z     8.017   \n",
      "7512   1985-04-28T02:53:41.530Z  1985-04-28T02:53:41.530Z   -32.998   \n",
      "20650  2011-03-13T02:23:34.520Z  2011-03-13T02:23:34.520Z    36.344   \n",
      "\n",
      "       Longitude        Type  Depth  Depth Error  Depth Seismic Stations  \\\n",
      "3378     124.075  Earthquake  623.0          NaN                     NaN   \n",
      "7512     -71.766  Earthquake   33.0          NaN                     NaN   \n",
      "20650    142.344  Earthquake   10.1         13.9                   289.0   \n",
      "\n",
      "       Magnitude Magnitude Type  ...  Magnitude Seismic Stations  \\\n",
      "3378         5.6             MB  ...                         NaN   \n",
      "7512         5.6             MW  ...                         NaN   \n",
      "20650        5.8            MWC  ...                         NaN   \n",
      "\n",
      "       Azimuthal Gap  Horizontal Distance  Horizontal Error  Root Mean Square  \\\n",
      "3378             NaN                  NaN               NaN               NaN   \n",
      "7512             NaN                  NaN               NaN              1.30   \n",
      "20650           32.3                  NaN               NaN              1.06   \n",
      "\n",
      "               ID Source Location Source Magnitude Source    Status  \n",
      "3378   USP0000A09     US              US               US  Reviewed  \n",
      "7512   USP0002E81     US              US              HRV  Reviewed  \n",
      "20650  USP000HWQP     US              US             GCMT  Reviewed  \n",
      "\n",
      "[3 rows x 21 columns]\n"
     ]
    }
   ],
   "source": [
    "indices = earthquake[date_lengths == 24]\n",
    "#earthquake['Date'][3378]\n",
    "print(indices)\n"
   ]
  },
  {
   "cell_type": "code",
   "execution_count": 65,
   "metadata": {},
   "outputs": [],
   "source": [
    "earthquake.loc[3378,\"Date\"] = '23/02/1975'\n",
    "earthquake.loc[7512,\"Date\"] = '28/04/1985'\n",
    "earthquake.loc[20650,\"Date\"] = '13/03/2011'"
   ]
  },
  {
   "cell_type": "code",
   "execution_count": 67,
   "metadata": {},
   "outputs": [
    {
     "name": "stdout",
     "output_type": "stream",
     "text": [
      "0       1965-01-02\n",
      "1       1965-01-04\n",
      "2       1965-01-05\n",
      "3       1965-01-08\n",
      "4       1965-01-09\n",
      "           ...    \n",
      "23407   2016-12-28\n",
      "23408   2016-12-28\n",
      "23409   2016-12-28\n",
      "23410   2016-12-29\n",
      "23411   2016-12-30\n",
      "Name: dateformat, Length: 23412, dtype: datetime64[ns]\n"
     ]
    }
   ],
   "source": [
    "earthquake['dateformat'] = pd.to_datetime(earthquake['Date'], format = \"mixed\")\n",
    "print(earthquake['dateformat'])"
   ]
  },
  {
   "cell_type": "code",
   "execution_count": 71,
   "metadata": {},
   "outputs": [
    {
     "data": {
      "text/plain": [
       "pandas.core.series.Series"
      ]
     },
     "execution_count": 71,
     "metadata": {},
     "output_type": "execute_result"
    }
   ],
   "source": [
    "type(earthquake['dateformat'])"
   ]
  },
  {
   "cell_type": "code",
   "execution_count": 70,
   "metadata": {},
   "outputs": [
    {
     "data": {
      "text/plain": [
       "dtype('<M8[ns]')"
      ]
     },
     "execution_count": 70,
     "metadata": {},
     "output_type": "execute_result"
    }
   ],
   "source": [
    "earthquake['dateformat'].dtype"
   ]
  },
  {
   "cell_type": "code",
   "execution_count": 72,
   "metadata": {},
   "outputs": [
    {
     "name": "stdout",
     "output_type": "stream",
     "text": [
      "0       1965-01-02\n",
      "1       1965-01-04\n",
      "2       1965-01-05\n",
      "3       1965-01-08\n",
      "4       1965-01-09\n",
      "           ...    \n",
      "23407   2016-12-28\n",
      "23408   2016-12-28\n",
      "23409   2016-12-28\n",
      "23410   2016-12-29\n",
      "23411   2016-12-30\n",
      "Name: dateformat, Length: 23412, dtype: datetime64[ns]\n"
     ]
    }
   ],
   "source": [
    "print(earthquake['dateformat'])"
   ]
  },
  {
   "cell_type": "code",
   "execution_count": 74,
   "metadata": {},
   "outputs": [],
   "source": [
    "earthquake['Date'] = earthquake['dateformat']"
   ]
  },
  {
   "cell_type": "code",
   "execution_count": 75,
   "metadata": {},
   "outputs": [
    {
     "name": "stdout",
     "output_type": "stream",
     "text": [
      "<class 'pandas.core.frame.DataFrame'>\n",
      "RangeIndex: 23412 entries, 0 to 23411\n",
      "Data columns (total 22 columns):\n",
      " #   Column                      Non-Null Count  Dtype         \n",
      "---  ------                      --------------  -----         \n",
      " 0   Date                        23412 non-null  datetime64[ns]\n",
      " 1   Time                        23412 non-null  object        \n",
      " 2   Latitude                    23412 non-null  float64       \n",
      " 3   Longitude                   23412 non-null  float64       \n",
      " 4   Type                        23412 non-null  object        \n",
      " 5   Depth                       23412 non-null  float64       \n",
      " 6   Depth Error                 4461 non-null   float64       \n",
      " 7   Depth Seismic Stations      7097 non-null   float64       \n",
      " 8   Magnitude                   23412 non-null  float64       \n",
      " 9   Magnitude Type              23409 non-null  object        \n",
      " 10  Magnitude Error             327 non-null    float64       \n",
      " 11  Magnitude Seismic Stations  2564 non-null   float64       \n",
      " 12  Azimuthal Gap               7299 non-null   float64       \n",
      " 13  Horizontal Distance         1604 non-null   float64       \n",
      " 14  Horizontal Error            1156 non-null   float64       \n",
      " 15  Root Mean Square            17352 non-null  float64       \n",
      " 16  ID                          23412 non-null  object        \n",
      " 17  Source                      23412 non-null  object        \n",
      " 18  Location Source             23412 non-null  object        \n",
      " 19  Magnitude Source            23412 non-null  object        \n",
      " 20  Status                      23412 non-null  object        \n",
      " 21  dateformat                  23412 non-null  datetime64[ns]\n",
      "dtypes: datetime64[ns](2), float64(12), object(8)\n",
      "memory usage: 3.9+ MB\n"
     ]
    }
   ],
   "source": [
    "earthquake.info()"
   ]
  },
  {
   "cell_type": "code",
   "execution_count": 76,
   "metadata": {},
   "outputs": [
    {
     "data": {
      "text/html": [
       "<div>\n",
       "<style scoped>\n",
       "    .dataframe tbody tr th:only-of-type {\n",
       "        vertical-align: middle;\n",
       "    }\n",
       "\n",
       "    .dataframe tbody tr th {\n",
       "        vertical-align: top;\n",
       "    }\n",
       "\n",
       "    .dataframe thead th {\n",
       "        text-align: right;\n",
       "    }\n",
       "</style>\n",
       "<table border=\"1\" class=\"dataframe\">\n",
       "  <thead>\n",
       "    <tr style=\"text-align: right;\">\n",
       "      <th></th>\n",
       "      <th>Date</th>\n",
       "      <th>Time</th>\n",
       "      <th>Latitude</th>\n",
       "      <th>Longitude</th>\n",
       "      <th>Type</th>\n",
       "      <th>Depth</th>\n",
       "      <th>Depth Error</th>\n",
       "      <th>Depth Seismic Stations</th>\n",
       "      <th>Magnitude</th>\n",
       "      <th>Magnitude Type</th>\n",
       "      <th>...</th>\n",
       "      <th>Magnitude Seismic Stations</th>\n",
       "      <th>Azimuthal Gap</th>\n",
       "      <th>Horizontal Distance</th>\n",
       "      <th>Horizontal Error</th>\n",
       "      <th>Root Mean Square</th>\n",
       "      <th>ID</th>\n",
       "      <th>Source</th>\n",
       "      <th>Location Source</th>\n",
       "      <th>Magnitude Source</th>\n",
       "      <th>Status</th>\n",
       "    </tr>\n",
       "  </thead>\n",
       "  <tbody>\n",
       "    <tr>\n",
       "      <th>0</th>\n",
       "      <td>1965-01-02</td>\n",
       "      <td>13:44:18</td>\n",
       "      <td>19.2460</td>\n",
       "      <td>145.6160</td>\n",
       "      <td>Earthquake</td>\n",
       "      <td>131.60</td>\n",
       "      <td>NaN</td>\n",
       "      <td>NaN</td>\n",
       "      <td>6.0</td>\n",
       "      <td>MW</td>\n",
       "      <td>...</td>\n",
       "      <td>NaN</td>\n",
       "      <td>NaN</td>\n",
       "      <td>NaN</td>\n",
       "      <td>NaN</td>\n",
       "      <td>NaN</td>\n",
       "      <td>ISCGEM860706</td>\n",
       "      <td>ISCGEM</td>\n",
       "      <td>ISCGEM</td>\n",
       "      <td>ISCGEM</td>\n",
       "      <td>Automatic</td>\n",
       "    </tr>\n",
       "    <tr>\n",
       "      <th>1</th>\n",
       "      <td>1965-01-04</td>\n",
       "      <td>11:29:49</td>\n",
       "      <td>1.8630</td>\n",
       "      <td>127.3520</td>\n",
       "      <td>Earthquake</td>\n",
       "      <td>80.00</td>\n",
       "      <td>NaN</td>\n",
       "      <td>NaN</td>\n",
       "      <td>5.8</td>\n",
       "      <td>MW</td>\n",
       "      <td>...</td>\n",
       "      <td>NaN</td>\n",
       "      <td>NaN</td>\n",
       "      <td>NaN</td>\n",
       "      <td>NaN</td>\n",
       "      <td>NaN</td>\n",
       "      <td>ISCGEM860737</td>\n",
       "      <td>ISCGEM</td>\n",
       "      <td>ISCGEM</td>\n",
       "      <td>ISCGEM</td>\n",
       "      <td>Automatic</td>\n",
       "    </tr>\n",
       "    <tr>\n",
       "      <th>2</th>\n",
       "      <td>1965-01-05</td>\n",
       "      <td>18:05:58</td>\n",
       "      <td>-20.5790</td>\n",
       "      <td>-173.9720</td>\n",
       "      <td>Earthquake</td>\n",
       "      <td>20.00</td>\n",
       "      <td>NaN</td>\n",
       "      <td>NaN</td>\n",
       "      <td>6.2</td>\n",
       "      <td>MW</td>\n",
       "      <td>...</td>\n",
       "      <td>NaN</td>\n",
       "      <td>NaN</td>\n",
       "      <td>NaN</td>\n",
       "      <td>NaN</td>\n",
       "      <td>NaN</td>\n",
       "      <td>ISCGEM860762</td>\n",
       "      <td>ISCGEM</td>\n",
       "      <td>ISCGEM</td>\n",
       "      <td>ISCGEM</td>\n",
       "      <td>Automatic</td>\n",
       "    </tr>\n",
       "    <tr>\n",
       "      <th>3</th>\n",
       "      <td>1965-01-08</td>\n",
       "      <td>18:49:43</td>\n",
       "      <td>-59.0760</td>\n",
       "      <td>-23.5570</td>\n",
       "      <td>Earthquake</td>\n",
       "      <td>15.00</td>\n",
       "      <td>NaN</td>\n",
       "      <td>NaN</td>\n",
       "      <td>5.8</td>\n",
       "      <td>MW</td>\n",
       "      <td>...</td>\n",
       "      <td>NaN</td>\n",
       "      <td>NaN</td>\n",
       "      <td>NaN</td>\n",
       "      <td>NaN</td>\n",
       "      <td>NaN</td>\n",
       "      <td>ISCGEM860856</td>\n",
       "      <td>ISCGEM</td>\n",
       "      <td>ISCGEM</td>\n",
       "      <td>ISCGEM</td>\n",
       "      <td>Automatic</td>\n",
       "    </tr>\n",
       "    <tr>\n",
       "      <th>4</th>\n",
       "      <td>1965-01-09</td>\n",
       "      <td>13:32:50</td>\n",
       "      <td>11.9380</td>\n",
       "      <td>126.4270</td>\n",
       "      <td>Earthquake</td>\n",
       "      <td>15.00</td>\n",
       "      <td>NaN</td>\n",
       "      <td>NaN</td>\n",
       "      <td>5.8</td>\n",
       "      <td>MW</td>\n",
       "      <td>...</td>\n",
       "      <td>NaN</td>\n",
       "      <td>NaN</td>\n",
       "      <td>NaN</td>\n",
       "      <td>NaN</td>\n",
       "      <td>NaN</td>\n",
       "      <td>ISCGEM860890</td>\n",
       "      <td>ISCGEM</td>\n",
       "      <td>ISCGEM</td>\n",
       "      <td>ISCGEM</td>\n",
       "      <td>Automatic</td>\n",
       "    </tr>\n",
       "    <tr>\n",
       "      <th>...</th>\n",
       "      <td>...</td>\n",
       "      <td>...</td>\n",
       "      <td>...</td>\n",
       "      <td>...</td>\n",
       "      <td>...</td>\n",
       "      <td>...</td>\n",
       "      <td>...</td>\n",
       "      <td>...</td>\n",
       "      <td>...</td>\n",
       "      <td>...</td>\n",
       "      <td>...</td>\n",
       "      <td>...</td>\n",
       "      <td>...</td>\n",
       "      <td>...</td>\n",
       "      <td>...</td>\n",
       "      <td>...</td>\n",
       "      <td>...</td>\n",
       "      <td>...</td>\n",
       "      <td>...</td>\n",
       "      <td>...</td>\n",
       "      <td>...</td>\n",
       "    </tr>\n",
       "    <tr>\n",
       "      <th>23407</th>\n",
       "      <td>2016-12-28</td>\n",
       "      <td>08:22:12</td>\n",
       "      <td>38.3917</td>\n",
       "      <td>-118.8941</td>\n",
       "      <td>Earthquake</td>\n",
       "      <td>12.30</td>\n",
       "      <td>1.2</td>\n",
       "      <td>40.0</td>\n",
       "      <td>5.6</td>\n",
       "      <td>ML</td>\n",
       "      <td>...</td>\n",
       "      <td>18.0</td>\n",
       "      <td>42.47</td>\n",
       "      <td>0.120</td>\n",
       "      <td>NaN</td>\n",
       "      <td>0.1898</td>\n",
       "      <td>NN00570710</td>\n",
       "      <td>NN</td>\n",
       "      <td>NN</td>\n",
       "      <td>NN</td>\n",
       "      <td>Reviewed</td>\n",
       "    </tr>\n",
       "    <tr>\n",
       "      <th>23408</th>\n",
       "      <td>2016-12-28</td>\n",
       "      <td>09:13:47</td>\n",
       "      <td>38.3777</td>\n",
       "      <td>-118.8957</td>\n",
       "      <td>Earthquake</td>\n",
       "      <td>8.80</td>\n",
       "      <td>2.0</td>\n",
       "      <td>33.0</td>\n",
       "      <td>5.5</td>\n",
       "      <td>ML</td>\n",
       "      <td>...</td>\n",
       "      <td>18.0</td>\n",
       "      <td>48.58</td>\n",
       "      <td>0.129</td>\n",
       "      <td>NaN</td>\n",
       "      <td>0.2187</td>\n",
       "      <td>NN00570744</td>\n",
       "      <td>NN</td>\n",
       "      <td>NN</td>\n",
       "      <td>NN</td>\n",
       "      <td>Reviewed</td>\n",
       "    </tr>\n",
       "    <tr>\n",
       "      <th>23409</th>\n",
       "      <td>2016-12-28</td>\n",
       "      <td>12:38:51</td>\n",
       "      <td>36.9179</td>\n",
       "      <td>140.4262</td>\n",
       "      <td>Earthquake</td>\n",
       "      <td>10.00</td>\n",
       "      <td>1.8</td>\n",
       "      <td>NaN</td>\n",
       "      <td>5.9</td>\n",
       "      <td>MWW</td>\n",
       "      <td>...</td>\n",
       "      <td>NaN</td>\n",
       "      <td>91.00</td>\n",
       "      <td>0.992</td>\n",
       "      <td>4.8</td>\n",
       "      <td>1.5200</td>\n",
       "      <td>US10007NAF</td>\n",
       "      <td>US</td>\n",
       "      <td>US</td>\n",
       "      <td>US</td>\n",
       "      <td>Reviewed</td>\n",
       "    </tr>\n",
       "    <tr>\n",
       "      <th>23410</th>\n",
       "      <td>2016-12-29</td>\n",
       "      <td>22:30:19</td>\n",
       "      <td>-9.0283</td>\n",
       "      <td>118.6639</td>\n",
       "      <td>Earthquake</td>\n",
       "      <td>79.00</td>\n",
       "      <td>1.8</td>\n",
       "      <td>NaN</td>\n",
       "      <td>6.3</td>\n",
       "      <td>MWW</td>\n",
       "      <td>...</td>\n",
       "      <td>NaN</td>\n",
       "      <td>26.00</td>\n",
       "      <td>3.553</td>\n",
       "      <td>6.0</td>\n",
       "      <td>1.4300</td>\n",
       "      <td>US10007NL0</td>\n",
       "      <td>US</td>\n",
       "      <td>US</td>\n",
       "      <td>US</td>\n",
       "      <td>Reviewed</td>\n",
       "    </tr>\n",
       "    <tr>\n",
       "      <th>23411</th>\n",
       "      <td>2016-12-30</td>\n",
       "      <td>20:08:28</td>\n",
       "      <td>37.3973</td>\n",
       "      <td>141.4103</td>\n",
       "      <td>Earthquake</td>\n",
       "      <td>11.94</td>\n",
       "      <td>2.2</td>\n",
       "      <td>NaN</td>\n",
       "      <td>5.5</td>\n",
       "      <td>MB</td>\n",
       "      <td>...</td>\n",
       "      <td>428.0</td>\n",
       "      <td>97.00</td>\n",
       "      <td>0.681</td>\n",
       "      <td>4.5</td>\n",
       "      <td>0.9100</td>\n",
       "      <td>US10007NTD</td>\n",
       "      <td>US</td>\n",
       "      <td>US</td>\n",
       "      <td>US</td>\n",
       "      <td>Reviewed</td>\n",
       "    </tr>\n",
       "  </tbody>\n",
       "</table>\n",
       "<p>23412 rows × 21 columns</p>\n",
       "</div>"
      ],
      "text/plain": [
       "            Date      Time  Latitude  Longitude        Type   Depth  \\\n",
       "0     1965-01-02  13:44:18   19.2460   145.6160  Earthquake  131.60   \n",
       "1     1965-01-04  11:29:49    1.8630   127.3520  Earthquake   80.00   \n",
       "2     1965-01-05  18:05:58  -20.5790  -173.9720  Earthquake   20.00   \n",
       "3     1965-01-08  18:49:43  -59.0760   -23.5570  Earthquake   15.00   \n",
       "4     1965-01-09  13:32:50   11.9380   126.4270  Earthquake   15.00   \n",
       "...          ...       ...       ...        ...         ...     ...   \n",
       "23407 2016-12-28  08:22:12   38.3917  -118.8941  Earthquake   12.30   \n",
       "23408 2016-12-28  09:13:47   38.3777  -118.8957  Earthquake    8.80   \n",
       "23409 2016-12-28  12:38:51   36.9179   140.4262  Earthquake   10.00   \n",
       "23410 2016-12-29  22:30:19   -9.0283   118.6639  Earthquake   79.00   \n",
       "23411 2016-12-30  20:08:28   37.3973   141.4103  Earthquake   11.94   \n",
       "\n",
       "       Depth Error  Depth Seismic Stations  Magnitude Magnitude Type  ...  \\\n",
       "0              NaN                     NaN        6.0             MW  ...   \n",
       "1              NaN                     NaN        5.8             MW  ...   \n",
       "2              NaN                     NaN        6.2             MW  ...   \n",
       "3              NaN                     NaN        5.8             MW  ...   \n",
       "4              NaN                     NaN        5.8             MW  ...   \n",
       "...            ...                     ...        ...            ...  ...   \n",
       "23407          1.2                    40.0        5.6             ML  ...   \n",
       "23408          2.0                    33.0        5.5             ML  ...   \n",
       "23409          1.8                     NaN        5.9            MWW  ...   \n",
       "23410          1.8                     NaN        6.3            MWW  ...   \n",
       "23411          2.2                     NaN        5.5             MB  ...   \n",
       "\n",
       "       Magnitude Seismic Stations  Azimuthal Gap  Horizontal Distance  \\\n",
       "0                             NaN            NaN                  NaN   \n",
       "1                             NaN            NaN                  NaN   \n",
       "2                             NaN            NaN                  NaN   \n",
       "3                             NaN            NaN                  NaN   \n",
       "4                             NaN            NaN                  NaN   \n",
       "...                           ...            ...                  ...   \n",
       "23407                        18.0          42.47                0.120   \n",
       "23408                        18.0          48.58                0.129   \n",
       "23409                         NaN          91.00                0.992   \n",
       "23410                         NaN          26.00                3.553   \n",
       "23411                       428.0          97.00                0.681   \n",
       "\n",
       "       Horizontal Error  Root Mean Square            ID  Source  \\\n",
       "0                   NaN               NaN  ISCGEM860706  ISCGEM   \n",
       "1                   NaN               NaN  ISCGEM860737  ISCGEM   \n",
       "2                   NaN               NaN  ISCGEM860762  ISCGEM   \n",
       "3                   NaN               NaN  ISCGEM860856  ISCGEM   \n",
       "4                   NaN               NaN  ISCGEM860890  ISCGEM   \n",
       "...                 ...               ...           ...     ...   \n",
       "23407               NaN            0.1898    NN00570710      NN   \n",
       "23408               NaN            0.2187    NN00570744      NN   \n",
       "23409               4.8            1.5200    US10007NAF      US   \n",
       "23410               6.0            1.4300    US10007NL0      US   \n",
       "23411               4.5            0.9100    US10007NTD      US   \n",
       "\n",
       "      Location Source Magnitude Source     Status  \n",
       "0              ISCGEM           ISCGEM  Automatic  \n",
       "1              ISCGEM           ISCGEM  Automatic  \n",
       "2              ISCGEM           ISCGEM  Automatic  \n",
       "3              ISCGEM           ISCGEM  Automatic  \n",
       "4              ISCGEM           ISCGEM  Automatic  \n",
       "...               ...              ...        ...  \n",
       "23407              NN               NN   Reviewed  \n",
       "23408              NN               NN   Reviewed  \n",
       "23409              US               US   Reviewed  \n",
       "23410              US               US   Reviewed  \n",
       "23411              US               US   Reviewed  \n",
       "\n",
       "[23412 rows x 21 columns]"
      ]
     },
     "execution_count": 76,
     "metadata": {},
     "output_type": "execute_result"
    }
   ],
   "source": [
    "earthquake.drop('dateformat',axis = 1)"
   ]
  },
  {
   "cell_type": "code",
   "execution_count": 77,
   "metadata": {},
   "outputs": [
    {
     "name": "stdout",
     "output_type": "stream",
     "text": [
      "<class 'pandas.core.frame.DataFrame'>\n",
      "RangeIndex: 23412 entries, 0 to 23411\n",
      "Data columns (total 22 columns):\n",
      " #   Column                      Non-Null Count  Dtype         \n",
      "---  ------                      --------------  -----         \n",
      " 0   Date                        23412 non-null  datetime64[ns]\n",
      " 1   Time                        23412 non-null  object        \n",
      " 2   Latitude                    23412 non-null  float64       \n",
      " 3   Longitude                   23412 non-null  float64       \n",
      " 4   Type                        23412 non-null  object        \n",
      " 5   Depth                       23412 non-null  float64       \n",
      " 6   Depth Error                 4461 non-null   float64       \n",
      " 7   Depth Seismic Stations      7097 non-null   float64       \n",
      " 8   Magnitude                   23412 non-null  float64       \n",
      " 9   Magnitude Type              23409 non-null  object        \n",
      " 10  Magnitude Error             327 non-null    float64       \n",
      " 11  Magnitude Seismic Stations  2564 non-null   float64       \n",
      " 12  Azimuthal Gap               7299 non-null   float64       \n",
      " 13  Horizontal Distance         1604 non-null   float64       \n",
      " 14  Horizontal Error            1156 non-null   float64       \n",
      " 15  Root Mean Square            17352 non-null  float64       \n",
      " 16  ID                          23412 non-null  object        \n",
      " 17  Source                      23412 non-null  object        \n",
      " 18  Location Source             23412 non-null  object        \n",
      " 19  Magnitude Source            23412 non-null  object        \n",
      " 20  Status                      23412 non-null  object        \n",
      " 21  dateformat                  23412 non-null  datetime64[ns]\n",
      "dtypes: datetime64[ns](2), float64(12), object(8)\n",
      "memory usage: 3.9+ MB\n"
     ]
    }
   ],
   "source": [
    "earthquake.info()"
   ]
  },
  {
   "cell_type": "code",
   "execution_count": 78,
   "metadata": {},
   "outputs": [
    {
     "data": {
      "text/plain": [
       "0        NaN\n",
       "1        NaN\n",
       "2        NaN\n",
       "3        NaN\n",
       "4        NaN\n",
       "        ... \n",
       "23407    1.2\n",
       "23408    2.0\n",
       "23409    1.8\n",
       "23410    1.8\n",
       "23411    2.2\n",
       "Name: Depth Error, Length: 23412, dtype: float64"
      ]
     },
     "execution_count": 78,
     "metadata": {},
     "output_type": "execute_result"
    }
   ],
   "source": [
    "earthquake['Depth Error']"
   ]
  },
  {
   "cell_type": "code",
   "execution_count": 79,
   "metadata": {},
   "outputs": [
    {
     "data": {
      "text/plain": [
       "Depth Error\n",
       "True     18951\n",
       "False     4461\n",
       "Name: count, dtype: int64"
      ]
     },
     "execution_count": 79,
     "metadata": {},
     "output_type": "execute_result"
    }
   ],
   "source": [
    "earthquake['Depth Error'].isna().value_counts()"
   ]
  },
  {
   "cell_type": "markdown",
   "metadata": {},
   "source": [
    "Shows it has 4461 empty rows"
   ]
  },
  {
   "cell_type": "code",
   "execution_count": 80,
   "metadata": {},
   "outputs": [],
   "source": [
    "earthquake['Depth Error'] = earthquake['Depth Error'].fillna(value = 0)"
   ]
  },
  {
   "cell_type": "code",
   "execution_count": 81,
   "metadata": {},
   "outputs": [
    {
     "data": {
      "text/plain": [
       "Depth Error\n",
       "False    23412\n",
       "Name: count, dtype: int64"
      ]
     },
     "execution_count": 81,
     "metadata": {},
     "output_type": "execute_result"
    }
   ],
   "source": [
    "earthquake['Depth Error'].isna().value_counts()"
   ]
  },
  {
   "cell_type": "markdown",
   "metadata": {},
   "source": [
    "Above result shows there are no null values at all for Depth Error column"
   ]
  },
  {
   "cell_type": "code",
   "execution_count": 82,
   "metadata": {},
   "outputs": [
    {
     "name": "stdout",
     "output_type": "stream",
     "text": [
      "<class 'pandas.core.frame.DataFrame'>\n",
      "RangeIndex: 23412 entries, 0 to 23411\n",
      "Data columns (total 22 columns):\n",
      " #   Column                      Non-Null Count  Dtype         \n",
      "---  ------                      --------------  -----         \n",
      " 0   Date                        23412 non-null  datetime64[ns]\n",
      " 1   Time                        23412 non-null  object        \n",
      " 2   Latitude                    23412 non-null  float64       \n",
      " 3   Longitude                   23412 non-null  float64       \n",
      " 4   Type                        23412 non-null  object        \n",
      " 5   Depth                       23412 non-null  float64       \n",
      " 6   Depth Error                 23412 non-null  float64       \n",
      " 7   Depth Seismic Stations      7097 non-null   float64       \n",
      " 8   Magnitude                   23412 non-null  float64       \n",
      " 9   Magnitude Type              23409 non-null  object        \n",
      " 10  Magnitude Error             327 non-null    float64       \n",
      " 11  Magnitude Seismic Stations  2564 non-null   float64       \n",
      " 12  Azimuthal Gap               7299 non-null   float64       \n",
      " 13  Horizontal Distance         1604 non-null   float64       \n",
      " 14  Horizontal Error            1156 non-null   float64       \n",
      " 15  Root Mean Square            17352 non-null  float64       \n",
      " 16  ID                          23412 non-null  object        \n",
      " 17  Source                      23412 non-null  object        \n",
      " 18  Location Source             23412 non-null  object        \n",
      " 19  Magnitude Source            23412 non-null  object        \n",
      " 20  Status                      23412 non-null  object        \n",
      " 21  dateformat                  23412 non-null  datetime64[ns]\n",
      "dtypes: datetime64[ns](2), float64(12), object(8)\n",
      "memory usage: 3.9+ MB\n"
     ]
    }
   ],
   "source": [
    "earthquake.info()"
   ]
  },
  {
   "cell_type": "code",
   "execution_count": 84,
   "metadata": {},
   "outputs": [
    {
     "data": {
      "text/plain": [
       "Magnitude Type\n",
       "False    23409\n",
       "True         3\n",
       "Name: count, dtype: int64"
      ]
     },
     "execution_count": 84,
     "metadata": {},
     "output_type": "execute_result"
    }
   ],
   "source": [
    "earthquake['Magnitude Type'].isnull().value_counts()"
   ]
  },
  {
   "cell_type": "code",
   "execution_count": 92,
   "metadata": {},
   "outputs": [],
   "source": [
    "import matplotlib as plt"
   ]
  },
  {
   "cell_type": "code",
   "execution_count": 93,
   "metadata": {},
   "outputs": [
    {
     "data": {
      "text/plain": [
       "<Axes: xlabel='Magnitude Type'>"
      ]
     },
     "execution_count": 93,
     "metadata": {},
     "output_type": "execute_result"
    },
    {
     "data": {
      "image/png": "[encoded data removed]",
      "text/plain": [
       "<Figure size 640x480 with 1 Axes>"
      ]
     },
     "metadata": {},
     "output_type": "display_data"
    }
   ],
   "source": [
    "earthquake['Magnitude Type'].value_counts().plot(kind='bar')"
   ]
  },
  {
   "cell_type": "code",
   "execution_count": 95,
   "metadata": {},
   "outputs": [
    {
     "data": {
      "text/html": [
       "<div>\n",
       "<style scoped>\n",
       "    .dataframe tbody tr th:only-of-type {\n",
       "        vertical-align: middle;\n",
       "    }\n",
       "\n",
       "    .dataframe tbody tr th {\n",
       "        vertical-align: top;\n",
       "    }\n",
       "\n",
       "    .dataframe thead th {\n",
       "        text-align: right;\n",
       "    }\n",
       "</style>\n",
       "<table border=\"1\" class=\"dataframe\">\n",
       "  <thead>\n",
       "    <tr style=\"text-align: right;\">\n",
       "      <th></th>\n",
       "      <th>Date</th>\n",
       "      <th>Time</th>\n",
       "      <th>Latitude</th>\n",
       "      <th>Longitude</th>\n",
       "      <th>Type</th>\n",
       "      <th>Depth</th>\n",
       "      <th>Depth Error</th>\n",
       "      <th>Depth Seismic Stations</th>\n",
       "      <th>Magnitude</th>\n",
       "      <th>Magnitude Type</th>\n",
       "      <th>...</th>\n",
       "      <th>Azimuthal Gap</th>\n",
       "      <th>Horizontal Distance</th>\n",
       "      <th>Horizontal Error</th>\n",
       "      <th>Root Mean Square</th>\n",
       "      <th>ID</th>\n",
       "      <th>Source</th>\n",
       "      <th>Location Source</th>\n",
       "      <th>Magnitude Source</th>\n",
       "      <th>Status</th>\n",
       "      <th>dateformat</th>\n",
       "    </tr>\n",
       "  </thead>\n",
       "  <tbody>\n",
       "    <tr>\n",
       "      <th>6703</th>\n",
       "      <td>1983-08-24</td>\n",
       "      <td>13:36:00</td>\n",
       "      <td>40.3732</td>\n",
       "      <td>-124.9227</td>\n",
       "      <td>Earthquake</td>\n",
       "      <td>11.93</td>\n",
       "      <td>0.0</td>\n",
       "      <td>NaN</td>\n",
       "      <td>5.70</td>\n",
       "      <td>NaN</td>\n",
       "      <td>...</td>\n",
       "      <td>NaN</td>\n",
       "      <td>NaN</td>\n",
       "      <td>NaN</td>\n",
       "      <td>NaN</td>\n",
       "      <td>ATLAS19830824133600</td>\n",
       "      <td>ATLAS</td>\n",
       "      <td>ATLAS</td>\n",
       "      <td>ATLAS</td>\n",
       "      <td>Automatic</td>\n",
       "      <td>1983-08-24</td>\n",
       "    </tr>\n",
       "    <tr>\n",
       "      <th>7294</th>\n",
       "      <td>1984-11-23</td>\n",
       "      <td>18:08:00</td>\n",
       "      <td>37.4600</td>\n",
       "      <td>-118.5900</td>\n",
       "      <td>Earthquake</td>\n",
       "      <td>9.00</td>\n",
       "      <td>0.0</td>\n",
       "      <td>NaN</td>\n",
       "      <td>5.82</td>\n",
       "      <td>NaN</td>\n",
       "      <td>...</td>\n",
       "      <td>NaN</td>\n",
       "      <td>NaN</td>\n",
       "      <td>NaN</td>\n",
       "      <td>NaN</td>\n",
       "      <td>ATLAS19841123180800</td>\n",
       "      <td>ATLAS</td>\n",
       "      <td>ATLAS</td>\n",
       "      <td>ATLAS</td>\n",
       "      <td>Automatic</td>\n",
       "      <td>1984-11-23</td>\n",
       "    </tr>\n",
       "    <tr>\n",
       "      <th>7919</th>\n",
       "      <td>1986-03-31</td>\n",
       "      <td>11:55:00</td>\n",
       "      <td>37.4788</td>\n",
       "      <td>-121.6858</td>\n",
       "      <td>Earthquake</td>\n",
       "      <td>9.17</td>\n",
       "      <td>0.0</td>\n",
       "      <td>NaN</td>\n",
       "      <td>5.60</td>\n",
       "      <td>NaN</td>\n",
       "      <td>...</td>\n",
       "      <td>NaN</td>\n",
       "      <td>NaN</td>\n",
       "      <td>NaN</td>\n",
       "      <td>NaN</td>\n",
       "      <td>ATLAS19860331115500</td>\n",
       "      <td>ATLAS</td>\n",
       "      <td>ATLAS</td>\n",
       "      <td>ATLAS</td>\n",
       "      <td>Automatic</td>\n",
       "      <td>1986-03-31</td>\n",
       "    </tr>\n",
       "  </tbody>\n",
       "</table>\n",
       "<p>3 rows × 22 columns</p>\n",
       "</div>"
      ],
      "text/plain": [
       "           Date      Time  Latitude  Longitude        Type  Depth  \\\n",
       "6703 1983-08-24  13:36:00   40.3732  -124.9227  Earthquake  11.93   \n",
       "7294 1984-11-23  18:08:00   37.4600  -118.5900  Earthquake   9.00   \n",
       "7919 1986-03-31  11:55:00   37.4788  -121.6858  Earthquake   9.17   \n",
       "\n",
       "      Depth Error  Depth Seismic Stations  Magnitude Magnitude Type  ...  \\\n",
       "6703          0.0                     NaN       5.70            NaN  ...   \n",
       "7294          0.0                     NaN       5.82            NaN  ...   \n",
       "7919          0.0                     NaN       5.60            NaN  ...   \n",
       "\n",
       "      Azimuthal Gap  Horizontal Distance  Horizontal Error  Root Mean Square  \\\n",
       "6703            NaN                  NaN               NaN               NaN   \n",
       "7294            NaN                  NaN               NaN               NaN   \n",
       "7919            NaN                  NaN               NaN               NaN   \n",
       "\n",
       "                       ID  Source Location Source Magnitude Source     Status  \\\n",
       "6703  ATLAS19830824133600   ATLAS           ATLAS            ATLAS  Automatic   \n",
       "7294  ATLAS19841123180800   ATLAS           ATLAS            ATLAS  Automatic   \n",
       "7919  ATLAS19860331115500   ATLAS           ATLAS            ATLAS  Automatic   \n",
       "\n",
       "     dateformat  \n",
       "6703 1983-08-24  \n",
       "7294 1984-11-23  \n",
       "7919 1986-03-31  \n",
       "\n",
       "[3 rows x 22 columns]"
      ]
     },
     "execution_count": 95,
     "metadata": {},
     "output_type": "execute_result"
    }
   ],
   "source": [
    "earthquake[earthquake['Magnitude Type'].isnull()]"
   ]
  },
  {
   "cell_type": "code",
   "execution_count": 96,
   "metadata": {},
   "outputs": [],
   "source": [
    "earthquake.loc[6703,\"Magnitude Type\"] = \"MW\"\n",
    "earthquake.loc[7294,\"Magnitude Type\"] = \"MW\"\n",
    "earthquake.loc[7919,\"Magnitude Type\"] = \"MW\""
   ]
  },
  {
   "cell_type": "code",
   "execution_count": 97,
   "metadata": {},
   "outputs": [
    {
     "data": {
      "text/plain": [
       "Magnitude Type\n",
       "False    23412\n",
       "Name: count, dtype: int64"
      ]
     },
     "execution_count": 97,
     "metadata": {},
     "output_type": "execute_result"
    }
   ],
   "source": [
    "earthquake['Magnitude Type'].isna().value_counts()"
   ]
  },
  {
   "cell_type": "markdown",
   "metadata": {},
   "source": [
    "It shows all there are no null values in the column"
   ]
  },
  {
   "cell_type": "code",
   "execution_count": 99,
   "metadata": {},
   "outputs": [
    {
     "data": {
      "text/plain": [
       "Magnitude Type\n",
       "MW     7725\n",
       "MWC    5669\n",
       "MB     3761\n",
       "MWB    2458\n",
       "MWW    1983\n",
       "MS     1702\n",
       "ML       77\n",
       "MWR      26\n",
       "MD        6\n",
       "MH        5\n",
       "Name: count, dtype: int64"
      ]
     },
     "execution_count": 99,
     "metadata": {},
     "output_type": "execute_result"
    }
   ],
   "source": [
    "earthquake['Magnitude Type'].value_counts()"
   ]
  },
  {
   "cell_type": "code",
   "execution_count": 100,
   "metadata": {},
   "outputs": [
    {
     "name": "stdout",
     "output_type": "stream",
     "text": [
      "<class 'pandas.core.frame.DataFrame'>\n",
      "RangeIndex: 23412 entries, 0 to 23411\n",
      "Data columns (total 22 columns):\n",
      " #   Column                      Non-Null Count  Dtype         \n",
      "---  ------                      --------------  -----         \n",
      " 0   Date                        23412 non-null  datetime64[ns]\n",
      " 1   Time                        23412 non-null  object        \n",
      " 2   Latitude                    23412 non-null  float64       \n",
      " 3   Longitude                   23412 non-null  float64       \n",
      " 4   Type                        23412 non-null  object        \n",
      " 5   Depth                       23412 non-null  float64       \n",
      " 6   Depth Error                 23412 non-null  float64       \n",
      " 7   Depth Seismic Stations      7097 non-null   float64       \n",
      " 8   Magnitude                   23412 non-null  float64       \n",
      " 9   Magnitude Type              23412 non-null  object        \n",
      " 10  Magnitude Error             327 non-null    float64       \n",
      " 11  Magnitude Seismic Stations  2564 non-null   float64       \n",
      " 12  Azimuthal Gap               7299 non-null   float64       \n",
      " 13  Horizontal Distance         1604 non-null   float64       \n",
      " 14  Horizontal Error            1156 non-null   float64       \n",
      " 15  Root Mean Square            17352 non-null  float64       \n",
      " 16  ID                          23412 non-null  object        \n",
      " 17  Source                      23412 non-null  object        \n",
      " 18  Location Source             23412 non-null  object        \n",
      " 19  Magnitude Source            23412 non-null  object        \n",
      " 20  Status                      23412 non-null  object        \n",
      " 21  dateformat                  23412 non-null  datetime64[ns]\n",
      "dtypes: datetime64[ns](2), float64(12), object(8)\n",
      "memory usage: 3.9+ MB\n"
     ]
    }
   ],
   "source": [
    "earthquake.info()"
   ]
  },
  {
   "cell_type": "code",
   "execution_count": 102,
   "metadata": {},
   "outputs": [],
   "source": [
    "earthquake.drop('dateformat',axis=1, inplace= True)"
   ]
  },
  {
   "cell_type": "code",
   "execution_count": 103,
   "metadata": {},
   "outputs": [
    {
     "name": "stdout",
     "output_type": "stream",
     "text": [
      "<class 'pandas.core.frame.DataFrame'>\n",
      "RangeIndex: 23412 entries, 0 to 23411\n",
      "Data columns (total 21 columns):\n",
      " #   Column                      Non-Null Count  Dtype         \n",
      "---  ------                      --------------  -----         \n",
      " 0   Date                        23412 non-null  datetime64[ns]\n",
      " 1   Time                        23412 non-null  object        \n",
      " 2   Latitude                    23412 non-null  float64       \n",
      " 3   Longitude                   23412 non-null  float64       \n",
      " 4   Type                        23412 non-null  object        \n",
      " 5   Depth                       23412 non-null  float64       \n",
      " 6   Depth Error                 23412 non-null  float64       \n",
      " 7   Depth Seismic Stations      7097 non-null   float64       \n",
      " 8   Magnitude                   23412 non-null  float64       \n",
      " 9   Magnitude Type              23412 non-null  object        \n",
      " 10  Magnitude Error             327 non-null    float64       \n",
      " 11  Magnitude Seismic Stations  2564 non-null   float64       \n",
      " 12  Azimuthal Gap               7299 non-null   float64       \n",
      " 13  Horizontal Distance         1604 non-null   float64       \n",
      " 14  Horizontal Error            1156 non-null   float64       \n",
      " 15  Root Mean Square            17352 non-null  float64       \n",
      " 16  ID                          23412 non-null  object        \n",
      " 17  Source                      23412 non-null  object        \n",
      " 18  Location Source             23412 non-null  object        \n",
      " 19  Magnitude Source            23412 non-null  object        \n",
      " 20  Status                      23412 non-null  object        \n",
      "dtypes: datetime64[ns](1), float64(12), object(8)\n",
      "memory usage: 3.8+ MB\n"
     ]
    }
   ],
   "source": [
    "earthquake.info()"
   ]
  },
  {
   "cell_type": "code",
   "execution_count": 104,
   "metadata": {},
   "outputs": [],
   "source": [
    "earthquake.drop(['Depth Seismic Stations','Magnitude Error'],axis=1, inplace= True)"
   ]
  },
  {
   "cell_type": "code",
   "execution_count": 105,
   "metadata": {},
   "outputs": [
    {
     "name": "stdout",
     "output_type": "stream",
     "text": [
      "<class 'pandas.core.frame.DataFrame'>\n",
      "RangeIndex: 23412 entries, 0 to 23411\n",
      "Data columns (total 19 columns):\n",
      " #   Column                      Non-Null Count  Dtype         \n",
      "---  ------                      --------------  -----         \n",
      " 0   Date                        23412 non-null  datetime64[ns]\n",
      " 1   Time                        23412 non-null  object        \n",
      " 2   Latitude                    23412 non-null  float64       \n",
      " 3   Longitude                   23412 non-null  float64       \n",
      " 4   Type                        23412 non-null  object        \n",
      " 5   Depth                       23412 non-null  float64       \n",
      " 6   Depth Error                 23412 non-null  float64       \n",
      " 7   Magnitude                   23412 non-null  float64       \n",
      " 8   Magnitude Type              23412 non-null  object        \n",
      " 9   Magnitude Seismic Stations  2564 non-null   float64       \n",
      " 10  Azimuthal Gap               7299 non-null   float64       \n",
      " 11  Horizontal Distance         1604 non-null   float64       \n",
      " 12  Horizontal Error            1156 non-null   float64       \n",
      " 13  Root Mean Square            17352 non-null  float64       \n",
      " 14  ID                          23412 non-null  object        \n",
      " 15  Source                      23412 non-null  object        \n",
      " 16  Location Source             23412 non-null  object        \n",
      " 17  Magnitude Source            23412 non-null  object        \n",
      " 18  Status                      23412 non-null  object        \n",
      "dtypes: datetime64[ns](1), float64(10), object(8)\n",
      "memory usage: 3.4+ MB\n"
     ]
    }
   ],
   "source": [
    "earthquake.info()"
   ]
  },
  {
   "cell_type": "code",
   "execution_count": 106,
   "metadata": {},
   "outputs": [],
   "source": [
    "earthquake.drop(['Magnitude Seismic Stations','Azimuthal Gap', 'Horizontal Distance', 'Horizontal Error', 'Root Mean Square'], axis=1, inplace=True)"
   ]
  },
  {
   "cell_type": "code",
   "execution_count": 107,
   "metadata": {},
   "outputs": [
    {
     "name": "stdout",
     "output_type": "stream",
     "text": [
      "<class 'pandas.core.frame.DataFrame'>\n",
      "RangeIndex: 23412 entries, 0 to 23411\n",
      "Data columns (total 14 columns):\n",
      " #   Column            Non-Null Count  Dtype         \n",
      "---  ------            --------------  -----         \n",
      " 0   Date              23412 non-null  datetime64[ns]\n",
      " 1   Time              23412 non-null  object        \n",
      " 2   Latitude          23412 non-null  float64       \n",
      " 3   Longitude         23412 non-null  float64       \n",
      " 4   Type              23412 non-null  object        \n",
      " 5   Depth             23412 non-null  float64       \n",
      " 6   Depth Error       23412 non-null  float64       \n",
      " 7   Magnitude         23412 non-null  float64       \n",
      " 8   Magnitude Type    23412 non-null  object        \n",
      " 9   ID                23412 non-null  object        \n",
      " 10  Source            23412 non-null  object        \n",
      " 11  Location Source   23412 non-null  object        \n",
      " 12  Magnitude Source  23412 non-null  object        \n",
      " 13  Status            23412 non-null  object        \n",
      "dtypes: datetime64[ns](1), float64(5), object(8)\n",
      "memory usage: 2.5+ MB\n"
     ]
    }
   ],
   "source": [
    "earthquake.info()"
   ]
  },
  {
   "cell_type": "code",
   "execution_count": 108,
   "metadata": {},
   "outputs": [
    {
     "name": "stdout",
     "output_type": "stream",
     "text": [
      "         Type Magnitude Type  Source Location Source Magnitude Source  \\\n",
      "0  Earthquake             MW  ISCGEM          ISCGEM           ISCGEM   \n",
      "1  Earthquake             MW  ISCGEM          ISCGEM           ISCGEM   \n",
      "2  Earthquake             MW  ISCGEM          ISCGEM           ISCGEM   \n",
      "3  Earthquake             MW  ISCGEM          ISCGEM           ISCGEM   \n",
      "4  Earthquake             MW  ISCGEM          ISCGEM           ISCGEM   \n",
      "\n",
      "      Status  \n",
      "0  Automatic  \n",
      "1  Automatic  \n",
      "2  Automatic  \n",
      "3  Automatic  \n",
      "4  Automatic  \n"
     ]
    }
   ],
   "source": [
    "correlation_df = earthquake[['Type','Magnitude Type','Source','Location Source','Magnitude Source','Status']]\n",
    "print(correlation_df.head())"
   ]
  },
  {
   "cell_type": "code",
   "execution_count": 109,
   "metadata": {},
   "outputs": [
    {
     "data": {
      "text/plain": [
       "Type\n",
       "Earthquake           23232\n",
       "Nuclear Explosion      175\n",
       "Explosion                4\n",
       "Rock Burst               1\n",
       "Name: count, dtype: int64"
      ]
     },
     "execution_count": 109,
     "metadata": {},
     "output_type": "execute_result"
    }
   ],
   "source": [
    "correlation_df['Type'].value_counts()"
   ]
  },
  {
   "cell_type": "code",
   "execution_count": 110,
   "metadata": {},
   "outputs": [
    {
     "data": {
      "text/plain": [
       "Magnitude Type\n",
       "MW     7725\n",
       "MWC    5669\n",
       "MB     3761\n",
       "MWB    2458\n",
       "MWW    1983\n",
       "MS     1702\n",
       "ML       77\n",
       "MWR      26\n",
       "MD        6\n",
       "MH        5\n",
       "Name: count, dtype: int64"
      ]
     },
     "execution_count": 110,
     "metadata": {},
     "output_type": "execute_result"
    }
   ],
   "source": [
    "correlation_df['Magnitude Type'].value_counts()"
   ]
  },
  {
   "cell_type": "code",
   "execution_count": 111,
   "metadata": {},
   "outputs": [
    {
     "data": {
      "text/plain": [
       "Source\n",
       "US           20630\n",
       "ISCGEM        2460\n",
       "ISCGEMSUP      120\n",
       "CI              61\n",
       "GCMT            55\n",
       "NC              51\n",
       "AK              12\n",
       "OFFICIAL         8\n",
       "UW               6\n",
       "NN               4\n",
       "ATLAS            3\n",
       "SE               1\n",
       "PR               1\n",
       "Name: count, dtype: int64"
      ]
     },
     "execution_count": 111,
     "metadata": {},
     "output_type": "execute_result"
    }
   ],
   "source": [
    "correlation_df['Source'].value_counts()"
   ]
  },
  {
   "cell_type": "code",
   "execution_count": 112,
   "metadata": {},
   "outputs": [
    {
     "data": {
      "text/plain": [
       "Location Source\n",
       "US        20350\n",
       "ISCGEM     2581\n",
       "CI           61\n",
       "GCMT         56\n",
       "NC           54\n",
       "GUC          46\n",
       "AEIC         40\n",
       "UNM          21\n",
       "PGC          19\n",
       "WEL          18\n",
       "AGS          17\n",
       "ISK          15\n",
       "AK           14\n",
       "ATH          14\n",
       "HVO          12\n",
       "SPE          10\n",
       "ROM           7\n",
       "AEI           7\n",
       "TEH           7\n",
       "H             7\n",
       "UW            6\n",
       "US_WEL        4\n",
       "NN            4\n",
       "CASC          4\n",
       "RSPR          3\n",
       "THR           3\n",
       "THE           3\n",
       "JMA           3\n",
       "ATLAS         3\n",
       "G             2\n",
       "MDD           2\n",
       "B             2\n",
       "TUL           2\n",
       "BRK           1\n",
       "U             1\n",
       "AG            1\n",
       "CSEM          1\n",
       "OTT           1\n",
       "BOU           1\n",
       "SLC           1\n",
       "UCR           1\n",
       "BEO           1\n",
       "SJA           1\n",
       "CAR           1\n",
       "TAP           1\n",
       "SE            1\n",
       "LIM           1\n",
       "PR            1\n",
       "Name: count, dtype: int64"
      ]
     },
     "execution_count": 112,
     "metadata": {},
     "output_type": "execute_result"
    }
   ],
   "source": [
    "correlation_df['Location Source'].value_counts()"
   ]
  },
  {
   "cell_type": "code",
   "execution_count": 113,
   "metadata": {},
   "outputs": [
    {
     "data": {
      "text/plain": [
       "Magnitude Source\n",
       "US          10458\n",
       "HRV          8223\n",
       "ISCGEM       2580\n",
       "GCMT         1489\n",
       "NC            533\n",
       "CI             61\n",
       "AK             12\n",
       "PAR             9\n",
       "OFFICIAL        8\n",
       "GUC             6\n",
       "UW              6\n",
       "NIED            4\n",
       "NN              4\n",
       "ATLAS           3\n",
       "1000            3\n",
       "US_GCMT         3\n",
       "PGC             2\n",
       "BRK             2\n",
       "1020            1\n",
       "1023            1\n",
       "1009            1\n",
       "SE              1\n",
       "US_PGC          1\n",
       "PR              1\n",
       "Name: count, dtype: int64"
      ]
     },
     "execution_count": 113,
     "metadata": {},
     "output_type": "execute_result"
    }
   ],
   "source": [
    "correlation_df['Magnitude Source'].value_counts()"
   ]
  },
  {
   "cell_type": "code",
   "execution_count": 114,
   "metadata": {},
   "outputs": [
    {
     "data": {
      "text/plain": [
       "Status\n",
       "Reviewed     20773\n",
       "Automatic     2639\n",
       "Name: count, dtype: int64"
      ]
     },
     "execution_count": 114,
     "metadata": {},
     "output_type": "execute_result"
    }
   ],
   "source": [
    "correlation_df['Status'].value_counts()"
   ]
  },
  {
   "cell_type": "code",
   "execution_count": null,
   "metadata": {},
   "outputs": [
    {
     "data": {
      "text/html": [
       "<div>\n",
       "<style scoped>\n",
       "    .dataframe tbody tr th:only-of-type {\n",
       "        vertical-align: middle;\n",
       "    }\n",
       "\n",
       "    .dataframe tbody tr th {\n",
       "        vertical-align: top;\n",
       "    }\n",
       "\n",
       "    .dataframe thead th {\n",
       "        text-align: right;\n",
       "    }\n",
       "</style>\n",
       "<table border=\"1\" class=\"dataframe\">\n",
       "  <thead>\n",
       "    <tr style=\"text-align: right;\">\n",
       "      <th></th>\n",
       "      <th>Type</th>\n",
       "      <th>Magnitude Type</th>\n",
       "      <th>Source</th>\n",
       "      <th>Location Source</th>\n",
       "      <th>Magnitude Source</th>\n",
       "      <th>Status</th>\n",
       "    </tr>\n",
       "  </thead>\n",
       "  <tbody>\n",
       "    <tr>\n",
       "      <th>2575</th>\n",
       "      <td>Earthquake</td>\n",
       "      <td>MS</td>\n",
       "      <td>US</td>\n",
       "      <td>US</td>\n",
       "      <td>US</td>\n",
       "      <td>Reviewed</td>\n",
       "    </tr>\n",
       "    <tr>\n",
       "      <th>2576</th>\n",
       "      <td>Earthquake</td>\n",
       "      <td>MB</td>\n",
       "      <td>US</td>\n",
       "      <td>US</td>\n",
       "      <td>US</td>\n",
       "      <td>Reviewed</td>\n",
       "    </tr>\n",
       "    <tr>\n",
       "      <th>2577</th>\n",
       "      <td>Earthquake</td>\n",
       "      <td>MB</td>\n",
       "      <td>US</td>\n",
       "      <td>US</td>\n",
       "      <td>US</td>\n",
       "      <td>Reviewed</td>\n",
       "    </tr>\n",
       "    <tr>\n",
       "      <th>2578</th>\n",
       "      <td>Earthquake</td>\n",
       "      <td>MB</td>\n",
       "      <td>US</td>\n",
       "      <td>US</td>\n",
       "      <td>US</td>\n",
       "      <td>Reviewed</td>\n",
       "    </tr>\n",
       "    <tr>\n",
       "      <th>2579</th>\n",
       "      <td>Earthquake</td>\n",
       "      <td>MB</td>\n",
       "      <td>US</td>\n",
       "      <td>US</td>\n",
       "      <td>US</td>\n",
       "      <td>Reviewed</td>\n",
       "    </tr>\n",
       "    <tr>\n",
       "      <th>...</th>\n",
       "      <td>...</td>\n",
       "      <td>...</td>\n",
       "      <td>...</td>\n",
       "      <td>...</td>\n",
       "      <td>...</td>\n",
       "      <td>...</td>\n",
       "    </tr>\n",
       "    <tr>\n",
       "      <th>23404</th>\n",
       "      <td>Earthquake</td>\n",
       "      <td>MB</td>\n",
       "      <td>US</td>\n",
       "      <td>US</td>\n",
       "      <td>US</td>\n",
       "      <td>Reviewed</td>\n",
       "    </tr>\n",
       "    <tr>\n",
       "      <th>23405</th>\n",
       "      <td>Earthquake</td>\n",
       "      <td>MWW</td>\n",
       "      <td>US</td>\n",
       "      <td>US</td>\n",
       "      <td>US</td>\n",
       "      <td>Reviewed</td>\n",
       "    </tr>\n",
       "    <tr>\n",
       "      <th>23409</th>\n",
       "      <td>Earthquake</td>\n",
       "      <td>MWW</td>\n",
       "      <td>US</td>\n",
       "      <td>US</td>\n",
       "      <td>US</td>\n",
       "      <td>Reviewed</td>\n",
       "    </tr>\n",
       "    <tr>\n",
       "      <th>23410</th>\n",
       "      <td>Earthquake</td>\n",
       "      <td>MWW</td>\n",
       "      <td>US</td>\n",
       "      <td>US</td>\n",
       "      <td>US</td>\n",
       "      <td>Reviewed</td>\n",
       "    </tr>\n",
       "    <tr>\n",
       "      <th>23411</th>\n",
       "      <td>Earthquake</td>\n",
       "      <td>MB</td>\n",
       "      <td>US</td>\n",
       "      <td>US</td>\n",
       "      <td>US</td>\n",
       "      <td>Reviewed</td>\n",
       "    </tr>\n",
       "  </tbody>\n",
       "</table>\n",
       "<p>10458 rows × 6 columns</p>\n",
       "</div>"
      ],
      "text/plain": [
       "             Type Magnitude Type Source Location Source Magnitude Source  \\\n",
       "2575   Earthquake             MS     US              US               US   \n",
       "2576   Earthquake             MB     US              US               US   \n",
       "2577   Earthquake             MB     US              US               US   \n",
       "2578   Earthquake             MB     US              US               US   \n",
       "2579   Earthquake             MB     US              US               US   \n",
       "...           ...            ...    ...             ...              ...   \n",
       "23404  Earthquake             MB     US              US               US   \n",
       "23405  Earthquake            MWW     US              US               US   \n",
       "23409  Earthquake            MWW     US              US               US   \n",
       "23410  Earthquake            MWW     US              US               US   \n",
       "23411  Earthquake             MB     US              US               US   \n",
       "\n",
       "         Status  \n",
       "2575   Reviewed  \n",
       "2576   Reviewed  \n",
       "2577   Reviewed  \n",
       "2578   Reviewed  \n",
       "2579   Reviewed  \n",
       "...         ...  \n",
       "23404  Reviewed  \n",
       "23405  Reviewed  \n",
       "23409  Reviewed  \n",
       "23410  Reviewed  \n",
       "23411  Reviewed  \n",
       "\n",
       "[10458 rows x 6 columns]"
      ]
     },
     "execution_count": 115,
     "metadata": {},
     "output_type": "execute_result"
    }
   ],
   "source": [
    "correlation_df[correlation_df['Magnitude Source']==\"US\"]"
   ]
  },
  {
   "cell_type": "code",
   "execution_count": 117,
   "metadata": {},
   "outputs": [],
   "source": [
    "earthquake_us = correlation_df[correlation_df['Magnitude Source']==\"US\"]"
   ]
  },
  {
   "cell_type": "code",
   "execution_count": 118,
   "metadata": {},
   "outputs": [
    {
     "data": {
      "text/html": [
       "<div>\n",
       "<style scoped>\n",
       "    .dataframe tbody tr th:only-of-type {\n",
       "        vertical-align: middle;\n",
       "    }\n",
       "\n",
       "    .dataframe tbody tr th {\n",
       "        vertical-align: top;\n",
       "    }\n",
       "\n",
       "    .dataframe thead th {\n",
       "        text-align: right;\n",
       "    }\n",
       "</style>\n",
       "<table border=\"1\" class=\"dataframe\">\n",
       "  <thead>\n",
       "    <tr style=\"text-align: right;\">\n",
       "      <th></th>\n",
       "      <th>Type</th>\n",
       "      <th>Magnitude Type</th>\n",
       "      <th>Source</th>\n",
       "      <th>Location Source</th>\n",
       "      <th>Magnitude Source</th>\n",
       "      <th>Status</th>\n",
       "    </tr>\n",
       "  </thead>\n",
       "  <tbody>\n",
       "    <tr>\n",
       "      <th>2575</th>\n",
       "      <td>Earthquake</td>\n",
       "      <td>MS</td>\n",
       "      <td>US</td>\n",
       "      <td>US</td>\n",
       "      <td>US</td>\n",
       "      <td>Reviewed</td>\n",
       "    </tr>\n",
       "    <tr>\n",
       "      <th>2576</th>\n",
       "      <td>Earthquake</td>\n",
       "      <td>MB</td>\n",
       "      <td>US</td>\n",
       "      <td>US</td>\n",
       "      <td>US</td>\n",
       "      <td>Reviewed</td>\n",
       "    </tr>\n",
       "    <tr>\n",
       "      <th>2577</th>\n",
       "      <td>Earthquake</td>\n",
       "      <td>MB</td>\n",
       "      <td>US</td>\n",
       "      <td>US</td>\n",
       "      <td>US</td>\n",
       "      <td>Reviewed</td>\n",
       "    </tr>\n",
       "    <tr>\n",
       "      <th>2578</th>\n",
       "      <td>Earthquake</td>\n",
       "      <td>MB</td>\n",
       "      <td>US</td>\n",
       "      <td>US</td>\n",
       "      <td>US</td>\n",
       "      <td>Reviewed</td>\n",
       "    </tr>\n",
       "    <tr>\n",
       "      <th>2579</th>\n",
       "      <td>Earthquake</td>\n",
       "      <td>MB</td>\n",
       "      <td>US</td>\n",
       "      <td>US</td>\n",
       "      <td>US</td>\n",
       "      <td>Reviewed</td>\n",
       "    </tr>\n",
       "  </tbody>\n",
       "</table>\n",
       "</div>"
      ],
      "text/plain": [
       "            Type Magnitude Type Source Location Source Magnitude Source  \\\n",
       "2575  Earthquake             MS     US              US               US   \n",
       "2576  Earthquake             MB     US              US               US   \n",
       "2577  Earthquake             MB     US              US               US   \n",
       "2578  Earthquake             MB     US              US               US   \n",
       "2579  Earthquake             MB     US              US               US   \n",
       "\n",
       "        Status  \n",
       "2575  Reviewed  \n",
       "2576  Reviewed  \n",
       "2577  Reviewed  \n",
       "2578  Reviewed  \n",
       "2579  Reviewed  "
      ]
     },
     "execution_count": 118,
     "metadata": {},
     "output_type": "execute_result"
    }
   ],
   "source": [
    "earthquake_us.head()"
   ]
  },
  {
   "cell_type": "code",
   "execution_count": 123,
   "metadata": {},
   "outputs": [
    {
     "data": {
      "text/html": [
       "<div>\n",
       "<style scoped>\n",
       "    .dataframe tbody tr th:only-of-type {\n",
       "        vertical-align: middle;\n",
       "    }\n",
       "\n",
       "    .dataframe tbody tr th {\n",
       "        vertical-align: top;\n",
       "    }\n",
       "\n",
       "    .dataframe thead th {\n",
       "        text-align: right;\n",
       "    }\n",
       "</style>\n",
       "<table border=\"1\" class=\"dataframe\">\n",
       "  <thead>\n",
       "    <tr style=\"text-align: right;\">\n",
       "      <th></th>\n",
       "      <th>Type</th>\n",
       "      <th>Magnitude Type</th>\n",
       "      <th>Source</th>\n",
       "      <th>Magnitude Source</th>\n",
       "      <th>Status</th>\n",
       "    </tr>\n",
       "  </thead>\n",
       "  <tbody>\n",
       "    <tr>\n",
       "      <th>2575</th>\n",
       "      <td>Earthquake</td>\n",
       "      <td>MS</td>\n",
       "      <td>US</td>\n",
       "      <td>US</td>\n",
       "      <td>Reviewed</td>\n",
       "    </tr>\n",
       "    <tr>\n",
       "      <th>2576</th>\n",
       "      <td>Earthquake</td>\n",
       "      <td>MB</td>\n",
       "      <td>US</td>\n",
       "      <td>US</td>\n",
       "      <td>Reviewed</td>\n",
       "    </tr>\n",
       "    <tr>\n",
       "      <th>2577</th>\n",
       "      <td>Earthquake</td>\n",
       "      <td>MB</td>\n",
       "      <td>US</td>\n",
       "      <td>US</td>\n",
       "      <td>Reviewed</td>\n",
       "    </tr>\n",
       "    <tr>\n",
       "      <th>2578</th>\n",
       "      <td>Earthquake</td>\n",
       "      <td>MB</td>\n",
       "      <td>US</td>\n",
       "      <td>US</td>\n",
       "      <td>Reviewed</td>\n",
       "    </tr>\n",
       "    <tr>\n",
       "      <th>2579</th>\n",
       "      <td>Earthquake</td>\n",
       "      <td>MB</td>\n",
       "      <td>US</td>\n",
       "      <td>US</td>\n",
       "      <td>Reviewed</td>\n",
       "    </tr>\n",
       "  </tbody>\n",
       "</table>\n",
       "</div>"
      ],
      "text/plain": [
       "            Type Magnitude Type Source Magnitude Source    Status\n",
       "2575  Earthquake             MS     US               US  Reviewed\n",
       "2576  Earthquake             MB     US               US  Reviewed\n",
       "2577  Earthquake             MB     US               US  Reviewed\n",
       "2578  Earthquake             MB     US               US  Reviewed\n",
       "2579  Earthquake             MB     US               US  Reviewed"
      ]
     },
     "execution_count": 123,
     "metadata": {},
     "output_type": "execute_result"
    }
   ],
   "source": [
    "earthquake_us.head()"
   ]
  },
  {
   "cell_type": "code",
   "execution_count": 126,
   "metadata": {},
   "outputs": [
    {
     "name": "stderr",
     "output_type": "stream",
     "text": [
      "C:\\Users\\Owner\\AppData\\Local\\Temp\\ipykernel_6176\\4090843728.py:1: SettingWithCopyWarning: \n",
      "A value is trying to be set on a copy of a slice from a DataFrame\n",
      "\n",
      "See the caveats in the documentation: https://pandas.pydata.org/pandas-docs/stable/user_guide/indexing.html#returning-a-view-versus-a-copy\n",
      "  earthquake_us.drop('Source', axis= 1, inplace= True)\n"
     ]
    }
   ],
   "source": [
    "earthquake_us.drop('Source', axis= 1, inplace= True)"
   ]
  },
  {
   "cell_type": "code",
   "execution_count": 127,
   "metadata": {},
   "outputs": [
    {
     "data": {
      "text/html": [
       "<div>\n",
       "<style scoped>\n",
       "    .dataframe tbody tr th:only-of-type {\n",
       "        vertical-align: middle;\n",
       "    }\n",
       "\n",
       "    .dataframe tbody tr th {\n",
       "        vertical-align: top;\n",
       "    }\n",
       "\n",
       "    .dataframe thead th {\n",
       "        text-align: right;\n",
       "    }\n",
       "</style>\n",
       "<table border=\"1\" class=\"dataframe\">\n",
       "  <thead>\n",
       "    <tr style=\"text-align: right;\">\n",
       "      <th></th>\n",
       "      <th>Type</th>\n",
       "      <th>Magnitude Type</th>\n",
       "      <th>Magnitude Source</th>\n",
       "      <th>Status</th>\n",
       "    </tr>\n",
       "  </thead>\n",
       "  <tbody>\n",
       "    <tr>\n",
       "      <th>2575</th>\n",
       "      <td>Earthquake</td>\n",
       "      <td>MS</td>\n",
       "      <td>US</td>\n",
       "      <td>Reviewed</td>\n",
       "    </tr>\n",
       "    <tr>\n",
       "      <th>2576</th>\n",
       "      <td>Earthquake</td>\n",
       "      <td>MB</td>\n",
       "      <td>US</td>\n",
       "      <td>Reviewed</td>\n",
       "    </tr>\n",
       "    <tr>\n",
       "      <th>2577</th>\n",
       "      <td>Earthquake</td>\n",
       "      <td>MB</td>\n",
       "      <td>US</td>\n",
       "      <td>Reviewed</td>\n",
       "    </tr>\n",
       "    <tr>\n",
       "      <th>2578</th>\n",
       "      <td>Earthquake</td>\n",
       "      <td>MB</td>\n",
       "      <td>US</td>\n",
       "      <td>Reviewed</td>\n",
       "    </tr>\n",
       "    <tr>\n",
       "      <th>2579</th>\n",
       "      <td>Earthquake</td>\n",
       "      <td>MB</td>\n",
       "      <td>US</td>\n",
       "      <td>Reviewed</td>\n",
       "    </tr>\n",
       "  </tbody>\n",
       "</table>\n",
       "</div>"
      ],
      "text/plain": [
       "            Type Magnitude Type Magnitude Source    Status\n",
       "2575  Earthquake             MS               US  Reviewed\n",
       "2576  Earthquake             MB               US  Reviewed\n",
       "2577  Earthquake             MB               US  Reviewed\n",
       "2578  Earthquake             MB               US  Reviewed\n",
       "2579  Earthquake             MB               US  Reviewed"
      ]
     },
     "execution_count": 127,
     "metadata": {},
     "output_type": "execute_result"
    }
   ],
   "source": [
    "earthquake_us.head()"
   ]
  },
  {
   "cell_type": "code",
   "execution_count": 128,
   "metadata": {},
   "outputs": [
    {
     "data": {
      "text/plain": [
       "Magnitude Type\n",
       "MB     3758\n",
       "MWB    2458\n",
       "MWW    1978\n",
       "MS     1697\n",
       "MWC     555\n",
       "MWR      12\n",
       "Name: count, dtype: int64"
      ]
     },
     "execution_count": 128,
     "metadata": {},
     "output_type": "execute_result"
    }
   ],
   "source": [
    "earthquake_us['Magnitude Type'].value_counts()"
   ]
  },
  {
   "cell_type": "code",
   "execution_count": 129,
   "metadata": {},
   "outputs": [
    {
     "data": {
      "text/plain": [
       "Status\n",
       "Reviewed    10458\n",
       "Name: count, dtype: int64"
      ]
     },
     "execution_count": 129,
     "metadata": {},
     "output_type": "execute_result"
    }
   ],
   "source": [
    "earthquake_us['Status'].value_counts()"
   ]
  },
  {
   "cell_type": "markdown",
   "metadata": {},
   "source": [
    "As staus is same for all values this column can be ignored"
   ]
  },
  {
   "cell_type": "code",
   "execution_count": 130,
   "metadata": {},
   "outputs": [
    {
     "data": {
      "text/plain": [
       "Type\n",
       "Earthquake           10290\n",
       "Nuclear Explosion      163\n",
       "Explosion                4\n",
       "Rock Burst               1\n",
       "Name: count, dtype: int64"
      ]
     },
     "execution_count": 130,
     "metadata": {},
     "output_type": "execute_result"
    }
   ],
   "source": [
    "earthquake_us['Type'].value_counts()"
   ]
  },
  {
   "cell_type": "code",
   "execution_count": 131,
   "metadata": {},
   "outputs": [
    {
     "data": {
      "text/html": [
       "<div>\n",
       "<style scoped>\n",
       "    .dataframe tbody tr th:only-of-type {\n",
       "        vertical-align: middle;\n",
       "    }\n",
       "\n",
       "    .dataframe tbody tr th {\n",
       "        vertical-align: top;\n",
       "    }\n",
       "\n",
       "    .dataframe thead th {\n",
       "        text-align: right;\n",
       "    }\n",
       "</style>\n",
       "<table border=\"1\" class=\"dataframe\">\n",
       "  <thead>\n",
       "    <tr style=\"text-align: right;\">\n",
       "      <th></th>\n",
       "      <th>Type</th>\n",
       "      <th>Magnitude Type</th>\n",
       "      <th>Magnitude Source</th>\n",
       "      <th>Status</th>\n",
       "    </tr>\n",
       "  </thead>\n",
       "  <tbody>\n",
       "    <tr>\n",
       "      <th>2575</th>\n",
       "      <td>Earthquake</td>\n",
       "      <td>MS</td>\n",
       "      <td>US</td>\n",
       "      <td>Reviewed</td>\n",
       "    </tr>\n",
       "    <tr>\n",
       "      <th>2576</th>\n",
       "      <td>Earthquake</td>\n",
       "      <td>MB</td>\n",
       "      <td>US</td>\n",
       "      <td>Reviewed</td>\n",
       "    </tr>\n",
       "    <tr>\n",
       "      <th>2577</th>\n",
       "      <td>Earthquake</td>\n",
       "      <td>MB</td>\n",
       "      <td>US</td>\n",
       "      <td>Reviewed</td>\n",
       "    </tr>\n",
       "    <tr>\n",
       "      <th>2578</th>\n",
       "      <td>Earthquake</td>\n",
       "      <td>MB</td>\n",
       "      <td>US</td>\n",
       "      <td>Reviewed</td>\n",
       "    </tr>\n",
       "    <tr>\n",
       "      <th>2579</th>\n",
       "      <td>Earthquake</td>\n",
       "      <td>MB</td>\n",
       "      <td>US</td>\n",
       "      <td>Reviewed</td>\n",
       "    </tr>\n",
       "  </tbody>\n",
       "</table>\n",
       "</div>"
      ],
      "text/plain": [
       "            Type Magnitude Type Magnitude Source    Status\n",
       "2575  Earthquake             MS               US  Reviewed\n",
       "2576  Earthquake             MB               US  Reviewed\n",
       "2577  Earthquake             MB               US  Reviewed\n",
       "2578  Earthquake             MB               US  Reviewed\n",
       "2579  Earthquake             MB               US  Reviewed"
      ]
     },
     "execution_count": 131,
     "metadata": {},
     "output_type": "execute_result"
    }
   ],
   "source": [
    "earthquake_type_us = earthquake_us[earthquake_us['Type']== 'Earthquake']\n",
    "earthquake_type_us.head()"
   ]
  },
  {
   "cell_type": "code",
   "execution_count": 132,
   "metadata": {},
   "outputs": [
    {
     "data": {
      "text/plain": [
       "Magnitude Type\n",
       "MB     3591\n",
       "MWB    2458\n",
       "MWW    1978\n",
       "MS     1697\n",
       "MWC     554\n",
       "MWR      12\n",
       "Name: count, dtype: int64"
      ]
     },
     "execution_count": 132,
     "metadata": {},
     "output_type": "execute_result"
    }
   ],
   "source": [
    "earthquake_type_us['Magnitude Type'].value_counts()"
   ]
  }
 ],
 "metadata": {
  "kernelspec": {
   "display_name": "Python 3",
   "language": "python",
   "name": "python3"
  },
  "language_info": {
   "codemirror_mode": {
    "name": "ipython",
    "version": 3
   },
   "file_extension": ".py",
   "mimetype": "text/x-python",
   "name": "python",
   "nbconvert_exporter": "python",
   "pygments_lexer": "ipython3",
   "version": "3.13.2"
  }
 },
 "nbformat": 4,
 "nbformat_minor": 2
}
