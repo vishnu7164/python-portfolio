{
 "cells": [
  {
   "cell_type": "code",
   "execution_count": 1,
   "metadata": {},
   "outputs": [],
   "source": [
    "import pandas as pd\n",
    "import numpy as np\n",
    "import matplotlib.pyplot as plt"
   ]
  },
  {
   "cell_type": "code",
   "execution_count": 2,
   "metadata": {},
   "outputs": [
    {
     "name": "stdout",
     "output_type": "stream",
     "text": [
      "         Date      Time  Latitude  Longitude        Type  Depth  Depth Error  \\\n",
      "0  01/02/1965  13:44:18    19.246    145.616  Earthquake  131.6          NaN   \n",
      "1  01/04/1965  11:29:49     1.863    127.352  Earthquake   80.0          NaN   \n",
      "2  01/05/1965  18:05:58   -20.579   -173.972  Earthquake   20.0          NaN   \n",
      "3  01/08/1965  18:49:43   -59.076    -23.557  Earthquake   15.0          NaN   \n",
      "4  01/09/1965  13:32:50    11.938    126.427  Earthquake   15.0          NaN   \n",
      "\n",
      "   Depth Seismic Stations  Magnitude Magnitude Type  ...  \\\n",
      "0                     NaN        6.0             MW  ...   \n",
      "1                     NaN        5.8             MW  ...   \n",
      "2                     NaN        6.2             MW  ...   \n",
      "3                     NaN        5.8             MW  ...   \n",
      "4                     NaN        5.8             MW  ...   \n",
      "\n",
      "   Magnitude Seismic Stations  Azimuthal Gap  Horizontal Distance  \\\n",
      "0                         NaN            NaN                  NaN   \n",
      "1                         NaN            NaN                  NaN   \n",
      "2                         NaN            NaN                  NaN   \n",
      "3                         NaN            NaN                  NaN   \n",
      "4                         NaN            NaN                  NaN   \n",
      "\n",
      "   Horizontal Error  Root Mean Square            ID  Source Location Source  \\\n",
      "0               NaN               NaN  ISCGEM860706  ISCGEM          ISCGEM   \n",
      "1               NaN               NaN  ISCGEM860737  ISCGEM          ISCGEM   \n",
      "2               NaN               NaN  ISCGEM860762  ISCGEM          ISCGEM   \n",
      "3               NaN               NaN  ISCGEM860856  ISCGEM          ISCGEM   \n",
      "4               NaN               NaN  ISCGEM860890  ISCGEM          ISCGEM   \n",
      "\n",
      "  Magnitude Source     Status  \n",
      "0           ISCGEM  Automatic  \n",
      "1           ISCGEM  Automatic  \n",
      "2           ISCGEM  Automatic  \n",
      "3           ISCGEM  Automatic  \n",
      "4           ISCGEM  Automatic  \n",
      "\n",
      "[5 rows x 21 columns]\n"
     ]
    }
   ],
   "source": [
    "earthquake = pd.read_csv('database.csv')\n",
    "print(earthquake.head())"
   ]
  },
  {
   "cell_type": "code",
   "execution_count": 3,
   "metadata": {},
   "outputs": [
    {
     "name": "stdout",
     "output_type": "stream",
     "text": [
      "<class 'pandas.core.frame.DataFrame'>\n",
      "RangeIndex: 23412 entries, 0 to 23411\n",
      "Data columns (total 21 columns):\n",
      " #   Column                      Non-Null Count  Dtype  \n",
      "---  ------                      --------------  -----  \n",
      " 0   Date                        23412 non-null  object \n",
      " 1   Time                        23412 non-null  object \n",
      " 2   Latitude                    23412 non-null  float64\n",
      " 3   Longitude                   23412 non-null  float64\n",
      " 4   Type                        23412 non-null  object \n",
      " 5   Depth                       23412 non-null  float64\n",
      " 6   Depth Error                 4461 non-null   float64\n",
      " 7   Depth Seismic Stations      7097 non-null   float64\n",
      " 8   Magnitude                   23412 non-null  float64\n",
      " 9   Magnitude Type              23409 non-null  object \n",
      " 10  Magnitude Error             327 non-null    float64\n",
      " 11  Magnitude Seismic Stations  2564 non-null   float64\n",
      " 12  Azimuthal Gap               7299 non-null   float64\n",
      " 13  Horizontal Distance         1604 non-null   float64\n",
      " 14  Horizontal Error            1156 non-null   float64\n",
      " 15  Root Mean Square            17352 non-null  float64\n",
      " 16  ID                          23412 non-null  object \n",
      " 17  Source                      23412 non-null  object \n",
      " 18  Location Source             23412 non-null  object \n",
      " 19  Magnitude Source            23412 non-null  object \n",
      " 20  Status                      23412 non-null  object \n",
      "dtypes: float64(12), object(9)\n",
      "memory usage: 3.8+ MB\n"
     ]
    }
   ],
   "source": [
    "earthquake.info()"
   ]
  },
  {
   "cell_type": "markdown",
   "metadata": {},
   "source": [
    "Some of the columns can be eliminated as they have higher number of Null values and do not add value for the analysis"
   ]
  },
  {
   "cell_type": "markdown",
   "metadata": {},
   "source": [
    "Columns such as Magnitude Error, Magnitude Seismic Stations, Azimuthal Gap, Horizontal Distance, Horizontal Error, Root Mean Square Error can be removed from analysis"
   ]
  },
  {
   "cell_type": "code",
   "execution_count": 4,
   "metadata": {},
   "outputs": [],
   "source": [
    "earthquake.drop(['Magnitude Error', 'Magnitude Seismic Stations', 'Azimuthal Gap', 'Horizontal Distance', 'Horizontal Error', 'Root Mean Square'], axis = 1, inplace= True)"
   ]
  },
  {
   "cell_type": "code",
   "execution_count": 5,
   "metadata": {},
   "outputs": [
    {
     "name": "stdout",
     "output_type": "stream",
     "text": [
      "<class 'pandas.core.frame.DataFrame'>\n",
      "RangeIndex: 23412 entries, 0 to 23411\n",
      "Data columns (total 15 columns):\n",
      " #   Column                  Non-Null Count  Dtype  \n",
      "---  ------                  --------------  -----  \n",
      " 0   Date                    23412 non-null  object \n",
      " 1   Time                    23412 non-null  object \n",
      " 2   Latitude                23412 non-null  float64\n",
      " 3   Longitude               23412 non-null  float64\n",
      " 4   Type                    23412 non-null  object \n",
      " 5   Depth                   23412 non-null  float64\n",
      " 6   Depth Error             4461 non-null   float64\n",
      " 7   Depth Seismic Stations  7097 non-null   float64\n",
      " 8   Magnitude               23412 non-null  float64\n",
      " 9   Magnitude Type          23409 non-null  object \n",
      " 10  ID                      23412 non-null  object \n",
      " 11  Source                  23412 non-null  object \n",
      " 12  Location Source         23412 non-null  object \n",
      " 13  Magnitude Source        23412 non-null  object \n",
      " 14  Status                  23412 non-null  object \n",
      "dtypes: float64(6), object(9)\n",
      "memory usage: 2.7+ MB\n"
     ]
    }
   ],
   "source": [
    "earthquake.info()"
   ]
  },
  {
   "cell_type": "markdown",
   "metadata": {},
   "source": [
    "Almost all columns are removed. It seems there are two more columns Depth Error and Depth Seismic Stations need to be dropped as well"
   ]
  },
  {
   "cell_type": "code",
   "execution_count": 6,
   "metadata": {},
   "outputs": [],
   "source": [
    "earthquake.drop(['Depth Error', 'Depth Seismic Stations'], axis=1, inplace= True)"
   ]
  },
  {
   "cell_type": "code",
   "execution_count": 7,
   "metadata": {},
   "outputs": [
    {
     "name": "stdout",
     "output_type": "stream",
     "text": [
      "<class 'pandas.core.frame.DataFrame'>\n",
      "RangeIndex: 23412 entries, 0 to 23411\n",
      "Data columns (total 13 columns):\n",
      " #   Column            Non-Null Count  Dtype  \n",
      "---  ------            --------------  -----  \n",
      " 0   Date              23412 non-null  object \n",
      " 1   Time              23412 non-null  object \n",
      " 2   Latitude          23412 non-null  float64\n",
      " 3   Longitude         23412 non-null  float64\n",
      " 4   Type              23412 non-null  object \n",
      " 5   Depth             23412 non-null  float64\n",
      " 6   Magnitude         23412 non-null  float64\n",
      " 7   Magnitude Type    23409 non-null  object \n",
      " 8   ID                23412 non-null  object \n",
      " 9   Source            23412 non-null  object \n",
      " 10  Location Source   23412 non-null  object \n",
      " 11  Magnitude Source  23412 non-null  object \n",
      " 12  Status            23412 non-null  object \n",
      "dtypes: float64(4), object(9)\n",
      "memory usage: 2.3+ MB\n"
     ]
    }
   ],
   "source": [
    "earthquake.info()"
   ]
  },
  {
   "cell_type": "code",
   "execution_count": 8,
   "metadata": {},
   "outputs": [
    {
     "data": {
      "text/plain": [
       "Magnitude Type\n",
       "MW     7722\n",
       "MWC    5669\n",
       "MB     3761\n",
       "MWB    2458\n",
       "MWW    1983\n",
       "MS     1702\n",
       "ML       77\n",
       "MWR      26\n",
       "MD        6\n",
       "MH        5\n",
       "Name: count, dtype: int64"
      ]
     },
     "execution_count": 8,
     "metadata": {},
     "output_type": "execute_result"
    }
   ],
   "source": [
    "earthquake['Magnitude Type'].value_counts()\n"
   ]
  },
  {
   "cell_type": "code",
   "execution_count": 9,
   "metadata": {},
   "outputs": [
    {
     "data": {
      "text/html": [
       "<div>\n",
       "<style scoped>\n",
       "    .dataframe tbody tr th:only-of-type {\n",
       "        vertical-align: middle;\n",
       "    }\n",
       "\n",
       "    .dataframe tbody tr th {\n",
       "        vertical-align: top;\n",
       "    }\n",
       "\n",
       "    .dataframe thead th {\n",
       "        text-align: right;\n",
       "    }\n",
       "</style>\n",
       "<table border=\"1\" class=\"dataframe\">\n",
       "  <thead>\n",
       "    <tr style=\"text-align: right;\">\n",
       "      <th></th>\n",
       "      <th>Date</th>\n",
       "      <th>Time</th>\n",
       "      <th>Latitude</th>\n",
       "      <th>Longitude</th>\n",
       "      <th>Type</th>\n",
       "      <th>Depth</th>\n",
       "      <th>Magnitude</th>\n",
       "      <th>Magnitude Type</th>\n",
       "      <th>ID</th>\n",
       "      <th>Source</th>\n",
       "      <th>Location Source</th>\n",
       "      <th>Magnitude Source</th>\n",
       "      <th>Status</th>\n",
       "    </tr>\n",
       "  </thead>\n",
       "  <tbody>\n",
       "    <tr>\n",
       "      <th>6703</th>\n",
       "      <td>08/24/1983</td>\n",
       "      <td>13:36:00</td>\n",
       "      <td>40.3732</td>\n",
       "      <td>-124.9227</td>\n",
       "      <td>Earthquake</td>\n",
       "      <td>11.93</td>\n",
       "      <td>5.70</td>\n",
       "      <td>NaN</td>\n",
       "      <td>ATLAS19830824133600</td>\n",
       "      <td>ATLAS</td>\n",
       "      <td>ATLAS</td>\n",
       "      <td>ATLAS</td>\n",
       "      <td>Automatic</td>\n",
       "    </tr>\n",
       "    <tr>\n",
       "      <th>7294</th>\n",
       "      <td>11/23/1984</td>\n",
       "      <td>18:08:00</td>\n",
       "      <td>37.4600</td>\n",
       "      <td>-118.5900</td>\n",
       "      <td>Earthquake</td>\n",
       "      <td>9.00</td>\n",
       "      <td>5.82</td>\n",
       "      <td>NaN</td>\n",
       "      <td>ATLAS19841123180800</td>\n",
       "      <td>ATLAS</td>\n",
       "      <td>ATLAS</td>\n",
       "      <td>ATLAS</td>\n",
       "      <td>Automatic</td>\n",
       "    </tr>\n",
       "    <tr>\n",
       "      <th>7919</th>\n",
       "      <td>03/31/1986</td>\n",
       "      <td>11:55:00</td>\n",
       "      <td>37.4788</td>\n",
       "      <td>-121.6858</td>\n",
       "      <td>Earthquake</td>\n",
       "      <td>9.17</td>\n",
       "      <td>5.60</td>\n",
       "      <td>NaN</td>\n",
       "      <td>ATLAS19860331115500</td>\n",
       "      <td>ATLAS</td>\n",
       "      <td>ATLAS</td>\n",
       "      <td>ATLAS</td>\n",
       "      <td>Automatic</td>\n",
       "    </tr>\n",
       "  </tbody>\n",
       "</table>\n",
       "</div>"
      ],
      "text/plain": [
       "            Date      Time  Latitude  Longitude        Type  Depth  Magnitude  \\\n",
       "6703  08/24/1983  13:36:00   40.3732  -124.9227  Earthquake  11.93       5.70   \n",
       "7294  11/23/1984  18:08:00   37.4600  -118.5900  Earthquake   9.00       5.82   \n",
       "7919  03/31/1986  11:55:00   37.4788  -121.6858  Earthquake   9.17       5.60   \n",
       "\n",
       "     Magnitude Type                   ID Source Location Source  \\\n",
       "6703            NaN  ATLAS19830824133600  ATLAS           ATLAS   \n",
       "7294            NaN  ATLAS19841123180800  ATLAS           ATLAS   \n",
       "7919            NaN  ATLAS19860331115500  ATLAS           ATLAS   \n",
       "\n",
       "     Magnitude Source     Status  \n",
       "6703            ATLAS  Automatic  \n",
       "7294            ATLAS  Automatic  \n",
       "7919            ATLAS  Automatic  "
      ]
     },
     "execution_count": 9,
     "metadata": {},
     "output_type": "execute_result"
    }
   ],
   "source": [
    "earthquake[earthquake['Magnitude Type'].isna()]"
   ]
  },
  {
   "cell_type": "code",
   "execution_count": 10,
   "metadata": {},
   "outputs": [],
   "source": [
    "earthquake.loc[6703, 'Magnitude Type'] = \"MW\"\n",
    "earthquake.loc[7294, 'Magnitude Type'] = \"MW\"\n",
    "earthquake.loc[7919, 'Magnitude Type'] = \"MW\""
   ]
  },
  {
   "cell_type": "code",
   "execution_count": 11,
   "metadata": {},
   "outputs": [
    {
     "data": {
      "text/plain": [
       "Magnitude Type\n",
       "False    23412\n",
       "Name: count, dtype: int64"
      ]
     },
     "execution_count": 11,
     "metadata": {},
     "output_type": "execute_result"
    }
   ],
   "source": [
    "earthquake['Magnitude Type'].isna().value_counts()"
   ]
  },
  {
   "cell_type": "markdown",
   "metadata": {},
   "source": [
    "Above output show there are no null values at all in the Magnitude Type column"
   ]
  },
  {
   "cell_type": "markdown",
   "metadata": {},
   "source": [
    "# Data cleaning"
   ]
  },
  {
   "cell_type": "markdown",
   "metadata": {},
   "source": [
    "### Handling dates"
   ]
  },
  {
   "cell_type": "code",
   "execution_count": 12,
   "metadata": {},
   "outputs": [
    {
     "data": {
      "text/plain": [
       "0     01/02/1965\n",
       "1     01/04/1965\n",
       "2     01/05/1965\n",
       "3     01/08/1965\n",
       "4     01/09/1965\n",
       "5     01/10/1965\n",
       "6     01/12/1965\n",
       "7     01/15/1965\n",
       "8     01/16/1965\n",
       "9     01/17/1965\n",
       "10    01/17/1965\n",
       "11    01/24/1965\n",
       "12    01/29/1965\n",
       "13    02/01/1965\n",
       "14    02/02/1965\n",
       "15    02/04/1965\n",
       "16    02/04/1965\n",
       "17    02/04/1965\n",
       "18    02/04/1965\n",
       "19    02/04/1965\n",
       "Name: Date, dtype: object"
      ]
     },
     "execution_count": 12,
     "metadata": {},
     "output_type": "execute_result"
    }
   ],
   "source": [
    "earthquake['Date'].head(20)"
   ]
  },
  {
   "cell_type": "markdown",
   "metadata": {},
   "source": [
    "It seems there is a mix in the date format %d/%m/%Y and %m/%d/%Y"
   ]
  },
  {
   "cell_type": "code",
   "execution_count": 13,
   "metadata": {},
   "outputs": [
    {
     "ename": "ValueError",
     "evalue": "time data \"1975-02-23T02:58:41.000Z\" doesn't match format \"%m/%d/%Y\", at position 2095. You might want to try:\n    - passing `format` if your strings have a consistent format;\n    - passing `format='ISO8601'` if your strings are all ISO8601 but not necessarily in exactly the same format;\n    - passing `format='mixed'`, and the format will be inferred for each element individually. You might want to use `dayfirst` alongside this.",
     "output_type": "error",
     "traceback": [
      "\u001b[1;31m---------------------------------------------------------------------------\u001b[0m",
      "\u001b[1;31mValueError\u001b[0m                                Traceback (most recent call last)",
      "Cell \u001b[1;32mIn[13], line 1\u001b[0m\n\u001b[1;32m----> 1\u001b[0m \u001b[43mpd\u001b[49m\u001b[38;5;241;43m.\u001b[39;49m\u001b[43mto_datetime\u001b[49m\u001b[43m(\u001b[49m\u001b[43mearthquake\u001b[49m\u001b[43m[\u001b[49m\u001b[38;5;124;43m'\u001b[39;49m\u001b[38;5;124;43mDate\u001b[39;49m\u001b[38;5;124;43m'\u001b[39;49m\u001b[43m]\u001b[49m\u001b[43m)\u001b[49m\n",
      "File \u001b[1;32mc:\\Users\\Owner\\AppData\\Local\\Programs\\Python\\Python313\\Lib\\site-packages\\pandas\\core\\tools\\datetimes.py:1063\u001b[0m, in \u001b[0;36mto_datetime\u001b[1;34m(arg, errors, dayfirst, yearfirst, utc, format, exact, unit, infer_datetime_format, origin, cache)\u001b[0m\n\u001b[0;32m   1061\u001b[0m             result \u001b[38;5;241m=\u001b[39m arg\u001b[38;5;241m.\u001b[39mtz_localize(\u001b[38;5;124m\"\u001b[39m\u001b[38;5;124mutc\u001b[39m\u001b[38;5;124m\"\u001b[39m)\n\u001b[0;32m   1062\u001b[0m \u001b[38;5;28;01melif\u001b[39;00m \u001b[38;5;28misinstance\u001b[39m(arg, ABCSeries):\n\u001b[1;32m-> 1063\u001b[0m     cache_array \u001b[38;5;241m=\u001b[39m \u001b[43m_maybe_cache\u001b[49m\u001b[43m(\u001b[49m\u001b[43marg\u001b[49m\u001b[43m,\u001b[49m\u001b[43m \u001b[49m\u001b[38;5;28;43mformat\u001b[39;49m\u001b[43m,\u001b[49m\u001b[43m \u001b[49m\u001b[43mcache\u001b[49m\u001b[43m,\u001b[49m\u001b[43m \u001b[49m\u001b[43mconvert_listlike\u001b[49m\u001b[43m)\u001b[49m\n\u001b[0;32m   1064\u001b[0m     \u001b[38;5;28;01mif\u001b[39;00m \u001b[38;5;129;01mnot\u001b[39;00m cache_array\u001b[38;5;241m.\u001b[39mempty:\n\u001b[0;32m   1065\u001b[0m         result \u001b[38;5;241m=\u001b[39m arg\u001b[38;5;241m.\u001b[39mmap(cache_array)\n",
      "File \u001b[1;32mc:\\Users\\Owner\\AppData\\Local\\Programs\\Python\\Python313\\Lib\\site-packages\\pandas\\core\\tools\\datetimes.py:247\u001b[0m, in \u001b[0;36m_maybe_cache\u001b[1;34m(arg, format, cache, convert_listlike)\u001b[0m\n\u001b[0;32m    245\u001b[0m unique_dates \u001b[38;5;241m=\u001b[39m unique(arg)\n\u001b[0;32m    246\u001b[0m \u001b[38;5;28;01mif\u001b[39;00m \u001b[38;5;28mlen\u001b[39m(unique_dates) \u001b[38;5;241m<\u001b[39m \u001b[38;5;28mlen\u001b[39m(arg):\n\u001b[1;32m--> 247\u001b[0m     cache_dates \u001b[38;5;241m=\u001b[39m \u001b[43mconvert_listlike\u001b[49m\u001b[43m(\u001b[49m\u001b[43munique_dates\u001b[49m\u001b[43m,\u001b[49m\u001b[43m \u001b[49m\u001b[38;5;28;43mformat\u001b[39;49m\u001b[43m)\u001b[49m\n\u001b[0;32m    248\u001b[0m     \u001b[38;5;66;03m# GH#45319\u001b[39;00m\n\u001b[0;32m    249\u001b[0m     \u001b[38;5;28;01mtry\u001b[39;00m:\n",
      "File \u001b[1;32mc:\\Users\\Owner\\AppData\\Local\\Programs\\Python\\Python313\\Lib\\site-packages\\pandas\\core\\tools\\datetimes.py:433\u001b[0m, in \u001b[0;36m_convert_listlike_datetimes\u001b[1;34m(arg, format, name, utc, unit, errors, dayfirst, yearfirst, exact)\u001b[0m\n\u001b[0;32m    431\u001b[0m \u001b[38;5;66;03m# `format` could be inferred, or user didn't ask for mixed-format parsing.\u001b[39;00m\n\u001b[0;32m    432\u001b[0m \u001b[38;5;28;01mif\u001b[39;00m \u001b[38;5;28mformat\u001b[39m \u001b[38;5;129;01mis\u001b[39;00m \u001b[38;5;129;01mnot\u001b[39;00m \u001b[38;5;28;01mNone\u001b[39;00m \u001b[38;5;129;01mand\u001b[39;00m \u001b[38;5;28mformat\u001b[39m \u001b[38;5;241m!=\u001b[39m \u001b[38;5;124m\"\u001b[39m\u001b[38;5;124mmixed\u001b[39m\u001b[38;5;124m\"\u001b[39m:\n\u001b[1;32m--> 433\u001b[0m     \u001b[38;5;28;01mreturn\u001b[39;00m \u001b[43m_array_strptime_with_fallback\u001b[49m\u001b[43m(\u001b[49m\u001b[43marg\u001b[49m\u001b[43m,\u001b[49m\u001b[43m \u001b[49m\u001b[43mname\u001b[49m\u001b[43m,\u001b[49m\u001b[43m \u001b[49m\u001b[43mutc\u001b[49m\u001b[43m,\u001b[49m\u001b[43m \u001b[49m\u001b[38;5;28;43mformat\u001b[39;49m\u001b[43m,\u001b[49m\u001b[43m \u001b[49m\u001b[43mexact\u001b[49m\u001b[43m,\u001b[49m\u001b[43m \u001b[49m\u001b[43merrors\u001b[49m\u001b[43m)\u001b[49m\n\u001b[0;32m    435\u001b[0m result, tz_parsed \u001b[38;5;241m=\u001b[39m objects_to_datetime64(\n\u001b[0;32m    436\u001b[0m     arg,\n\u001b[0;32m    437\u001b[0m     dayfirst\u001b[38;5;241m=\u001b[39mdayfirst,\n\u001b[1;32m   (...)\u001b[0m\n\u001b[0;32m    441\u001b[0m     allow_object\u001b[38;5;241m=\u001b[39m\u001b[38;5;28;01mTrue\u001b[39;00m,\n\u001b[0;32m    442\u001b[0m )\n\u001b[0;32m    444\u001b[0m \u001b[38;5;28;01mif\u001b[39;00m tz_parsed \u001b[38;5;129;01mis\u001b[39;00m \u001b[38;5;129;01mnot\u001b[39;00m \u001b[38;5;28;01mNone\u001b[39;00m:\n\u001b[0;32m    445\u001b[0m     \u001b[38;5;66;03m# We can take a shortcut since the datetime64 numpy array\u001b[39;00m\n\u001b[0;32m    446\u001b[0m     \u001b[38;5;66;03m# is in UTC\u001b[39;00m\n",
      "File \u001b[1;32mc:\\Users\\Owner\\AppData\\Local\\Programs\\Python\\Python313\\Lib\\site-packages\\pandas\\core\\tools\\datetimes.py:467\u001b[0m, in \u001b[0;36m_array_strptime_with_fallback\u001b[1;34m(arg, name, utc, fmt, exact, errors)\u001b[0m\n\u001b[0;32m    456\u001b[0m \u001b[38;5;28;01mdef\u001b[39;00m\u001b[38;5;250m \u001b[39m\u001b[38;5;21m_array_strptime_with_fallback\u001b[39m(\n\u001b[0;32m    457\u001b[0m     arg,\n\u001b[0;32m    458\u001b[0m     name,\n\u001b[1;32m   (...)\u001b[0m\n\u001b[0;32m    462\u001b[0m     errors: \u001b[38;5;28mstr\u001b[39m,\n\u001b[0;32m    463\u001b[0m ) \u001b[38;5;241m-\u001b[39m\u001b[38;5;241m>\u001b[39m Index:\n\u001b[0;32m    464\u001b[0m \u001b[38;5;250m    \u001b[39m\u001b[38;5;124;03m\"\"\"\u001b[39;00m\n\u001b[0;32m    465\u001b[0m \u001b[38;5;124;03m    Call array_strptime, with fallback behavior depending on 'errors'.\u001b[39;00m\n\u001b[0;32m    466\u001b[0m \u001b[38;5;124;03m    \"\"\"\u001b[39;00m\n\u001b[1;32m--> 467\u001b[0m     result, tz_out \u001b[38;5;241m=\u001b[39m \u001b[43marray_strptime\u001b[49m\u001b[43m(\u001b[49m\u001b[43marg\u001b[49m\u001b[43m,\u001b[49m\u001b[43m \u001b[49m\u001b[43mfmt\u001b[49m\u001b[43m,\u001b[49m\u001b[43m \u001b[49m\u001b[43mexact\u001b[49m\u001b[38;5;241;43m=\u001b[39;49m\u001b[43mexact\u001b[49m\u001b[43m,\u001b[49m\u001b[43m \u001b[49m\u001b[43merrors\u001b[49m\u001b[38;5;241;43m=\u001b[39;49m\u001b[43merrors\u001b[49m\u001b[43m,\u001b[49m\u001b[43m \u001b[49m\u001b[43mutc\u001b[49m\u001b[38;5;241;43m=\u001b[39;49m\u001b[43mutc\u001b[49m\u001b[43m)\u001b[49m\n\u001b[0;32m    468\u001b[0m     \u001b[38;5;28;01mif\u001b[39;00m tz_out \u001b[38;5;129;01mis\u001b[39;00m \u001b[38;5;129;01mnot\u001b[39;00m \u001b[38;5;28;01mNone\u001b[39;00m:\n\u001b[0;32m    469\u001b[0m         unit \u001b[38;5;241m=\u001b[39m np\u001b[38;5;241m.\u001b[39mdatetime_data(result\u001b[38;5;241m.\u001b[39mdtype)[\u001b[38;5;241m0\u001b[39m]\n",
      "File \u001b[1;32mstrptime.pyx:501\u001b[0m, in \u001b[0;36mpandas._libs.tslibs.strptime.array_strptime\u001b[1;34m()\u001b[0m\n",
      "File \u001b[1;32mstrptime.pyx:451\u001b[0m, in \u001b[0;36mpandas._libs.tslibs.strptime.array_strptime\u001b[1;34m()\u001b[0m\n",
      "File \u001b[1;32mstrptime.pyx:583\u001b[0m, in \u001b[0;36mpandas._libs.tslibs.strptime._parse_with_format\u001b[1;34m()\u001b[0m\n",
      "\u001b[1;31mValueError\u001b[0m: time data \"1975-02-23T02:58:41.000Z\" doesn't match format \"%m/%d/%Y\", at position 2095. You might want to try:\n    - passing `format` if your strings have a consistent format;\n    - passing `format='ISO8601'` if your strings are all ISO8601 but not necessarily in exactly the same format;\n    - passing `format='mixed'`, and the format will be inferred for each element individually. You might want to use `dayfirst` alongside this."
     ]
    }
   ],
   "source": [
    "pd.to_datetime(earthquake['Date'])"
   ]
  },
  {
   "cell_type": "markdown",
   "metadata": {},
   "source": [
    "It seems there is another date format along with time stamp. There seems to be a way of handling all date type using some parameters in the to_datetime method."
   ]
  },
  {
   "cell_type": "code",
   "execution_count": 14,
   "metadata": {},
   "outputs": [
    {
     "data": {
      "text/plain": [
       "Date\n",
       "10    23409\n",
       "24        3\n",
       "Name: count, dtype: int64"
      ]
     },
     "execution_count": 14,
     "metadata": {},
     "output_type": "execute_result"
    }
   ],
   "source": [
    "earthquake['Date'].str.len().value_counts()"
   ]
  },
  {
   "cell_type": "markdown",
   "metadata": {},
   "source": [
    "It seems that there are three dates with time stamp "
   ]
  },
  {
   "cell_type": "code",
   "execution_count": 15,
   "metadata": {},
   "outputs": [
    {
     "data": {
      "text/html": [
       "<div>\n",
       "<style scoped>\n",
       "    .dataframe tbody tr th:only-of-type {\n",
       "        vertical-align: middle;\n",
       "    }\n",
       "\n",
       "    .dataframe tbody tr th {\n",
       "        vertical-align: top;\n",
       "    }\n",
       "\n",
       "    .dataframe thead th {\n",
       "        text-align: right;\n",
       "    }\n",
       "</style>\n",
       "<table border=\"1\" class=\"dataframe\">\n",
       "  <thead>\n",
       "    <tr style=\"text-align: right;\">\n",
       "      <th></th>\n",
       "      <th>Date</th>\n",
       "      <th>Time</th>\n",
       "      <th>Latitude</th>\n",
       "      <th>Longitude</th>\n",
       "      <th>Type</th>\n",
       "      <th>Depth</th>\n",
       "      <th>Magnitude</th>\n",
       "      <th>Magnitude Type</th>\n",
       "      <th>ID</th>\n",
       "      <th>Source</th>\n",
       "      <th>Location Source</th>\n",
       "      <th>Magnitude Source</th>\n",
       "      <th>Status</th>\n",
       "    </tr>\n",
       "  </thead>\n",
       "  <tbody>\n",
       "    <tr>\n",
       "      <th>3378</th>\n",
       "      <td>1975-02-23T02:58:41.000Z</td>\n",
       "      <td>1975-02-23T02:58:41.000Z</td>\n",
       "      <td>8.017</td>\n",
       "      <td>124.075</td>\n",
       "      <td>Earthquake</td>\n",
       "      <td>623.0</td>\n",
       "      <td>5.6</td>\n",
       "      <td>MB</td>\n",
       "      <td>USP0000A09</td>\n",
       "      <td>US</td>\n",
       "      <td>US</td>\n",
       "      <td>US</td>\n",
       "      <td>Reviewed</td>\n",
       "    </tr>\n",
       "    <tr>\n",
       "      <th>7512</th>\n",
       "      <td>1985-04-28T02:53:41.530Z</td>\n",
       "      <td>1985-04-28T02:53:41.530Z</td>\n",
       "      <td>-32.998</td>\n",
       "      <td>-71.766</td>\n",
       "      <td>Earthquake</td>\n",
       "      <td>33.0</td>\n",
       "      <td>5.6</td>\n",
       "      <td>MW</td>\n",
       "      <td>USP0002E81</td>\n",
       "      <td>US</td>\n",
       "      <td>US</td>\n",
       "      <td>HRV</td>\n",
       "      <td>Reviewed</td>\n",
       "    </tr>\n",
       "    <tr>\n",
       "      <th>20650</th>\n",
       "      <td>2011-03-13T02:23:34.520Z</td>\n",
       "      <td>2011-03-13T02:23:34.520Z</td>\n",
       "      <td>36.344</td>\n",
       "      <td>142.344</td>\n",
       "      <td>Earthquake</td>\n",
       "      <td>10.1</td>\n",
       "      <td>5.8</td>\n",
       "      <td>MWC</td>\n",
       "      <td>USP000HWQP</td>\n",
       "      <td>US</td>\n",
       "      <td>US</td>\n",
       "      <td>GCMT</td>\n",
       "      <td>Reviewed</td>\n",
       "    </tr>\n",
       "  </tbody>\n",
       "</table>\n",
       "</div>"
      ],
      "text/plain": [
       "                           Date                      Time  Latitude  \\\n",
       "3378   1975-02-23T02:58:41.000Z  1975-02-23T02:58:41.000Z     8.017   \n",
       "7512   1985-04-28T02:53:41.530Z  1985-04-28T02:53:41.530Z   -32.998   \n",
       "20650  2011-03-13T02:23:34.520Z  2011-03-13T02:23:34.520Z    36.344   \n",
       "\n",
       "       Longitude        Type  Depth  Magnitude Magnitude Type          ID  \\\n",
       "3378     124.075  Earthquake  623.0        5.6             MB  USP0000A09   \n",
       "7512     -71.766  Earthquake   33.0        5.6             MW  USP0002E81   \n",
       "20650    142.344  Earthquake   10.1        5.8            MWC  USP000HWQP   \n",
       "\n",
       "      Source Location Source Magnitude Source    Status  \n",
       "3378      US              US               US  Reviewed  \n",
       "7512      US              US              HRV  Reviewed  \n",
       "20650     US              US             GCMT  Reviewed  "
      ]
     },
     "execution_count": 15,
     "metadata": {},
     "output_type": "execute_result"
    }
   ],
   "source": [
    "earthquake[earthquake['Date'].str.len()==24]"
   ]
  },
  {
   "cell_type": "markdown",
   "metadata": {},
   "source": [
    "Filtering by lenght of date gives the three dates"
   ]
  },
  {
   "cell_type": "code",
   "execution_count": 16,
   "metadata": {},
   "outputs": [],
   "source": [
    "earthquake.loc[3378, 'Date'] = '23/02/1975'\n",
    "earthquake.loc[7512, 'Date'] = '28/04/1985'\n",
    "earthquake.loc[20650, 'Date'] = '13/03/2011'"
   ]
  },
  {
   "cell_type": "markdown",
   "metadata": {},
   "source": [
    "No we have changed all dates to equal length by removing timestamp. We can check it as follows"
   ]
  },
  {
   "cell_type": "code",
   "execution_count": 17,
   "metadata": {},
   "outputs": [
    {
     "data": {
      "text/plain": [
       "Date\n",
       "10    23412\n",
       "Name: count, dtype: int64"
      ]
     },
     "execution_count": 17,
     "metadata": {},
     "output_type": "execute_result"
    }
   ],
   "source": [
    "earthquake['Date'].str.len().value_counts()"
   ]
  },
  {
   "cell_type": "markdown",
   "metadata": {},
   "source": [
    "Above output confirms all dates are of equal length"
   ]
  },
  {
   "cell_type": "code",
   "execution_count": 18,
   "metadata": {},
   "outputs": [
    {
     "data": {
      "text/plain": [
       "0       1965-01-02\n",
       "1       1965-01-04\n",
       "2       1965-01-05\n",
       "3       1965-01-08\n",
       "4       1965-01-09\n",
       "           ...    \n",
       "23407   2016-12-28\n",
       "23408   2016-12-28\n",
       "23409   2016-12-28\n",
       "23410   2016-12-29\n",
       "23411   2016-12-30\n",
       "Name: Date, Length: 23412, dtype: datetime64[ns]"
      ]
     },
     "execution_count": 18,
     "metadata": {},
     "output_type": "execute_result"
    }
   ],
   "source": [
    "pd.to_datetime(earthquake['Date'], format= 'mixed')"
   ]
  },
  {
   "cell_type": "markdown",
   "metadata": {},
   "source": [
    "So changing dates after ensuring all dates in the Date column are equal length ensure successful conversion of data type to datetime"
   ]
  },
  {
   "cell_type": "code",
   "execution_count": 19,
   "metadata": {},
   "outputs": [
    {
     "name": "stdout",
     "output_type": "stream",
     "text": [
      "<class 'pandas.core.frame.DataFrame'>\n",
      "RangeIndex: 23412 entries, 0 to 23411\n",
      "Data columns (total 13 columns):\n",
      " #   Column            Non-Null Count  Dtype  \n",
      "---  ------            --------------  -----  \n",
      " 0   Date              23412 non-null  object \n",
      " 1   Time              23412 non-null  object \n",
      " 2   Latitude          23412 non-null  float64\n",
      " 3   Longitude         23412 non-null  float64\n",
      " 4   Type              23412 non-null  object \n",
      " 5   Depth             23412 non-null  float64\n",
      " 6   Magnitude         23412 non-null  float64\n",
      " 7   Magnitude Type    23412 non-null  object \n",
      " 8   ID                23412 non-null  object \n",
      " 9   Source            23412 non-null  object \n",
      " 10  Location Source   23412 non-null  object \n",
      " 11  Magnitude Source  23412 non-null  object \n",
      " 12  Status            23412 non-null  object \n",
      "dtypes: float64(4), object(9)\n",
      "memory usage: 2.3+ MB\n"
     ]
    }
   ],
   "source": [
    "earthquake.info()"
   ]
  },
  {
   "cell_type": "markdown",
   "metadata": {},
   "source": [
    "Above output shows data type is still not change. We need to assign it to column to make sure data type change is reflected"
   ]
  },
  {
   "cell_type": "code",
   "execution_count": 20,
   "metadata": {},
   "outputs": [],
   "source": [
    "earthquake['Date'] = pd.to_datetime(earthquake['Date'], format= 'mixed')"
   ]
  },
  {
   "cell_type": "code",
   "execution_count": 21,
   "metadata": {},
   "outputs": [
    {
     "name": "stdout",
     "output_type": "stream",
     "text": [
      "<class 'pandas.core.frame.DataFrame'>\n",
      "RangeIndex: 23412 entries, 0 to 23411\n",
      "Data columns (total 13 columns):\n",
      " #   Column            Non-Null Count  Dtype         \n",
      "---  ------            --------------  -----         \n",
      " 0   Date              23412 non-null  datetime64[ns]\n",
      " 1   Time              23412 non-null  object        \n",
      " 2   Latitude          23412 non-null  float64       \n",
      " 3   Longitude         23412 non-null  float64       \n",
      " 4   Type              23412 non-null  object        \n",
      " 5   Depth             23412 non-null  float64       \n",
      " 6   Magnitude         23412 non-null  float64       \n",
      " 7   Magnitude Type    23412 non-null  object        \n",
      " 8   ID                23412 non-null  object        \n",
      " 9   Source            23412 non-null  object        \n",
      " 10  Location Source   23412 non-null  object        \n",
      " 11  Magnitude Source  23412 non-null  object        \n",
      " 12  Status            23412 non-null  object        \n",
      "dtypes: datetime64[ns](1), float64(4), object(8)\n",
      "memory usage: 2.3+ MB\n"
     ]
    }
   ],
   "source": [
    "earthquake.info()"
   ]
  },
  {
   "cell_type": "code",
   "execution_count": 22,
   "metadata": {},
   "outputs": [
    {
     "data": {
      "text/plain": [
       "0    13:44:18\n",
       "1    11:29:49\n",
       "2    18:05:58\n",
       "3    18:49:43\n",
       "4    13:32:50\n",
       "Name: Time, dtype: object"
      ]
     },
     "execution_count": 22,
     "metadata": {},
     "output_type": "execute_result"
    }
   ],
   "source": [
    "earthquake['Time'].head()"
   ]
  },
  {
   "cell_type": "code",
   "execution_count": 23,
   "metadata": {},
   "outputs": [
    {
     "ename": "AttributeError",
     "evalue": "Can only use .dt accessor with datetimelike values",
     "output_type": "error",
     "traceback": [
      "\u001b[1;31m---------------------------------------------------------------------------\u001b[0m",
      "\u001b[1;31mAttributeError\u001b[0m                            Traceback (most recent call last)",
      "Cell \u001b[1;32mIn[23], line 2\u001b[0m\n\u001b[0;32m      1\u001b[0m \u001b[38;5;28;01mimport\u001b[39;00m\u001b[38;5;250m \u001b[39m\u001b[38;5;21;01mdatetime\u001b[39;00m\n\u001b[1;32m----> 2\u001b[0m \u001b[43mearthquake\u001b[49m\u001b[43m[\u001b[49m\u001b[38;5;124;43m'\u001b[39;49m\u001b[38;5;124;43mTime\u001b[39;49m\u001b[38;5;124;43m'\u001b[39;49m\u001b[43m]\u001b[49m\u001b[38;5;241;43m.\u001b[39;49m\u001b[43mdt\u001b[49m\u001b[38;5;241m.\u001b[39mhour\n",
      "File \u001b[1;32mc:\\Users\\Owner\\AppData\\Local\\Programs\\Python\\Python313\\Lib\\site-packages\\pandas\\core\\generic.py:6299\u001b[0m, in \u001b[0;36mNDFrame.__getattr__\u001b[1;34m(self, name)\u001b[0m\n\u001b[0;32m   6292\u001b[0m \u001b[38;5;28;01mif\u001b[39;00m (\n\u001b[0;32m   6293\u001b[0m     name \u001b[38;5;129;01mnot\u001b[39;00m \u001b[38;5;129;01min\u001b[39;00m \u001b[38;5;28mself\u001b[39m\u001b[38;5;241m.\u001b[39m_internal_names_set\n\u001b[0;32m   6294\u001b[0m     \u001b[38;5;129;01mand\u001b[39;00m name \u001b[38;5;129;01mnot\u001b[39;00m \u001b[38;5;129;01min\u001b[39;00m \u001b[38;5;28mself\u001b[39m\u001b[38;5;241m.\u001b[39m_metadata\n\u001b[0;32m   6295\u001b[0m     \u001b[38;5;129;01mand\u001b[39;00m name \u001b[38;5;129;01mnot\u001b[39;00m \u001b[38;5;129;01min\u001b[39;00m \u001b[38;5;28mself\u001b[39m\u001b[38;5;241m.\u001b[39m_accessors\n\u001b[0;32m   6296\u001b[0m     \u001b[38;5;129;01mand\u001b[39;00m \u001b[38;5;28mself\u001b[39m\u001b[38;5;241m.\u001b[39m_info_axis\u001b[38;5;241m.\u001b[39m_can_hold_identifiers_and_holds_name(name)\n\u001b[0;32m   6297\u001b[0m ):\n\u001b[0;32m   6298\u001b[0m     \u001b[38;5;28;01mreturn\u001b[39;00m \u001b[38;5;28mself\u001b[39m[name]\n\u001b[1;32m-> 6299\u001b[0m \u001b[38;5;28;01mreturn\u001b[39;00m \u001b[38;5;28;43mobject\u001b[39;49m\u001b[38;5;241;43m.\u001b[39;49m\u001b[38;5;21;43m__getattribute__\u001b[39;49m\u001b[43m(\u001b[49m\u001b[38;5;28;43mself\u001b[39;49m\u001b[43m,\u001b[49m\u001b[43m \u001b[49m\u001b[43mname\u001b[49m\u001b[43m)\u001b[49m\n",
      "File \u001b[1;32mc:\\Users\\Owner\\AppData\\Local\\Programs\\Python\\Python313\\Lib\\site-packages\\pandas\\core\\accessor.py:224\u001b[0m, in \u001b[0;36mCachedAccessor.__get__\u001b[1;34m(self, obj, cls)\u001b[0m\n\u001b[0;32m    221\u001b[0m \u001b[38;5;28;01mif\u001b[39;00m obj \u001b[38;5;129;01mis\u001b[39;00m \u001b[38;5;28;01mNone\u001b[39;00m:\n\u001b[0;32m    222\u001b[0m     \u001b[38;5;66;03m# we're accessing the attribute of the class, i.e., Dataset.geo\u001b[39;00m\n\u001b[0;32m    223\u001b[0m     \u001b[38;5;28;01mreturn\u001b[39;00m \u001b[38;5;28mself\u001b[39m\u001b[38;5;241m.\u001b[39m_accessor\n\u001b[1;32m--> 224\u001b[0m accessor_obj \u001b[38;5;241m=\u001b[39m \u001b[38;5;28;43mself\u001b[39;49m\u001b[38;5;241;43m.\u001b[39;49m\u001b[43m_accessor\u001b[49m\u001b[43m(\u001b[49m\u001b[43mobj\u001b[49m\u001b[43m)\u001b[49m\n\u001b[0;32m    225\u001b[0m \u001b[38;5;66;03m# Replace the property with the accessor object. Inspired by:\u001b[39;00m\n\u001b[0;32m    226\u001b[0m \u001b[38;5;66;03m# https://www.pydanny.com/cached-property.html\u001b[39;00m\n\u001b[0;32m    227\u001b[0m \u001b[38;5;66;03m# We need to use object.__setattr__ because we overwrite __setattr__ on\u001b[39;00m\n\u001b[0;32m    228\u001b[0m \u001b[38;5;66;03m# NDFrame\u001b[39;00m\n\u001b[0;32m    229\u001b[0m \u001b[38;5;28mobject\u001b[39m\u001b[38;5;241m.\u001b[39m\u001b[38;5;21m__setattr__\u001b[39m(obj, \u001b[38;5;28mself\u001b[39m\u001b[38;5;241m.\u001b[39m_name, accessor_obj)\n",
      "File \u001b[1;32mc:\\Users\\Owner\\AppData\\Local\\Programs\\Python\\Python313\\Lib\\site-packages\\pandas\\core\\indexes\\accessors.py:643\u001b[0m, in \u001b[0;36mCombinedDatetimelikeProperties.__new__\u001b[1;34m(cls, data)\u001b[0m\n\u001b[0;32m    640\u001b[0m \u001b[38;5;28;01melif\u001b[39;00m \u001b[38;5;28misinstance\u001b[39m(data\u001b[38;5;241m.\u001b[39mdtype, PeriodDtype):\n\u001b[0;32m    641\u001b[0m     \u001b[38;5;28;01mreturn\u001b[39;00m PeriodProperties(data, orig)\n\u001b[1;32m--> 643\u001b[0m \u001b[38;5;28;01mraise\u001b[39;00m \u001b[38;5;167;01mAttributeError\u001b[39;00m(\u001b[38;5;124m\"\u001b[39m\u001b[38;5;124mCan only use .dt accessor with datetimelike values\u001b[39m\u001b[38;5;124m\"\u001b[39m)\n",
      "\u001b[1;31mAttributeError\u001b[0m: Can only use .dt accessor with datetimelike values"
     ]
    }
   ],
   "source": [
    "import datetime\n",
    "earthquake['Time'].dt.hour"
   ]
  },
  {
   "cell_type": "markdown",
   "metadata": {},
   "source": [
    "We can't extract date from an object data type. So, we need to convert it to date dtype"
   ]
  },
  {
   "cell_type": "code",
   "execution_count": 24,
   "metadata": {},
   "outputs": [
    {
     "name": "stderr",
     "output_type": "stream",
     "text": [
      "C:\\Users\\Owner\\AppData\\Local\\Temp\\ipykernel_19140\\2030688786.py:1: UserWarning: Could not infer format, so each element will be parsed individually, falling back to `dateutil`. To ensure parsing is consistent and as-expected, please specify a format.\n",
      "  pd.to_datetime(earthquake['Time'])\n",
      "C:\\Users\\Owner\\AppData\\Local\\Temp\\ipykernel_19140\\2030688786.py:1: FutureWarning: In a future version of pandas, parsing datetimes with mixed time zones will raise an error unless `utc=True`. Please specify `utc=True` to opt in to the new behaviour and silence this warning. To create a `Series` with mixed offsets and `object` dtype, please use `apply` and `datetime.datetime.strptime`\n",
      "  pd.to_datetime(earthquake['Time'])\n"
     ]
    },
    {
     "data": {
      "text/plain": [
       "0        2025-02-15 13:44:18\n",
       "1        2025-02-15 11:29:49\n",
       "2        2025-02-15 18:05:58\n",
       "3        2025-02-15 18:49:43\n",
       "4        2025-02-15 13:32:50\n",
       "                ...         \n",
       "23407    2025-02-15 08:22:12\n",
       "23408    2025-02-15 09:13:47\n",
       "23409    2025-02-15 12:38:51\n",
       "23410    2025-02-15 22:30:19\n",
       "23411    2025-02-15 20:08:28\n",
       "Name: Time, Length: 23412, dtype: object"
      ]
     },
     "execution_count": 24,
     "metadata": {},
     "output_type": "execute_result"
    }
   ],
   "source": [
    "pd.to_datetime(earthquake['Time'])"
   ]
  },
  {
   "cell_type": "markdown",
   "metadata": {},
   "source": [
    "Tried to convert it into date time type but still the column in of Object dtype. It seems there are some rows which are having different format and impacted conversion of overall column\n",
    "\n",
    "We can check the outliers in the data by using len() method as it is an object data type"
   ]
  },
  {
   "cell_type": "code",
   "execution_count": 25,
   "metadata": {},
   "outputs": [
    {
     "data": {
      "text/plain": [
       "Time\n",
       "8     23409\n",
       "24        3\n",
       "Name: count, dtype: int64"
      ]
     },
     "execution_count": 25,
     "metadata": {},
     "output_type": "execute_result"
    }
   ],
   "source": [
    "earthquake['Time'].str.len().value_counts()"
   ]
  },
  {
   "cell_type": "markdown",
   "metadata": {},
   "source": [
    "There are 3 row elements which have more length of remaining rows. We can check them by filtering them in the data frame as follows"
   ]
  },
  {
   "cell_type": "code",
   "execution_count": 26,
   "metadata": {},
   "outputs": [
    {
     "data": {
      "text/html": [
       "<div>\n",
       "<style scoped>\n",
       "    .dataframe tbody tr th:only-of-type {\n",
       "        vertical-align: middle;\n",
       "    }\n",
       "\n",
       "    .dataframe tbody tr th {\n",
       "        vertical-align: top;\n",
       "    }\n",
       "\n",
       "    .dataframe thead th {\n",
       "        text-align: right;\n",
       "    }\n",
       "</style>\n",
       "<table border=\"1\" class=\"dataframe\">\n",
       "  <thead>\n",
       "    <tr style=\"text-align: right;\">\n",
       "      <th></th>\n",
       "      <th>Date</th>\n",
       "      <th>Time</th>\n",
       "      <th>Latitude</th>\n",
       "      <th>Longitude</th>\n",
       "      <th>Type</th>\n",
       "      <th>Depth</th>\n",
       "      <th>Magnitude</th>\n",
       "      <th>Magnitude Type</th>\n",
       "      <th>ID</th>\n",
       "      <th>Source</th>\n",
       "      <th>Location Source</th>\n",
       "      <th>Magnitude Source</th>\n",
       "      <th>Status</th>\n",
       "    </tr>\n",
       "  </thead>\n",
       "  <tbody>\n",
       "    <tr>\n",
       "      <th>3378</th>\n",
       "      <td>1975-02-23</td>\n",
       "      <td>1975-02-23T02:58:41.000Z</td>\n",
       "      <td>8.017</td>\n",
       "      <td>124.075</td>\n",
       "      <td>Earthquake</td>\n",
       "      <td>623.0</td>\n",
       "      <td>5.6</td>\n",
       "      <td>MB</td>\n",
       "      <td>USP0000A09</td>\n",
       "      <td>US</td>\n",
       "      <td>US</td>\n",
       "      <td>US</td>\n",
       "      <td>Reviewed</td>\n",
       "    </tr>\n",
       "    <tr>\n",
       "      <th>7512</th>\n",
       "      <td>1985-04-28</td>\n",
       "      <td>1985-04-28T02:53:41.530Z</td>\n",
       "      <td>-32.998</td>\n",
       "      <td>-71.766</td>\n",
       "      <td>Earthquake</td>\n",
       "      <td>33.0</td>\n",
       "      <td>5.6</td>\n",
       "      <td>MW</td>\n",
       "      <td>USP0002E81</td>\n",
       "      <td>US</td>\n",
       "      <td>US</td>\n",
       "      <td>HRV</td>\n",
       "      <td>Reviewed</td>\n",
       "    </tr>\n",
       "    <tr>\n",
       "      <th>20650</th>\n",
       "      <td>2011-03-13</td>\n",
       "      <td>2011-03-13T02:23:34.520Z</td>\n",
       "      <td>36.344</td>\n",
       "      <td>142.344</td>\n",
       "      <td>Earthquake</td>\n",
       "      <td>10.1</td>\n",
       "      <td>5.8</td>\n",
       "      <td>MWC</td>\n",
       "      <td>USP000HWQP</td>\n",
       "      <td>US</td>\n",
       "      <td>US</td>\n",
       "      <td>GCMT</td>\n",
       "      <td>Reviewed</td>\n",
       "    </tr>\n",
       "  </tbody>\n",
       "</table>\n",
       "</div>"
      ],
      "text/plain": [
       "            Date                      Time  Latitude  Longitude        Type  \\\n",
       "3378  1975-02-23  1975-02-23T02:58:41.000Z     8.017    124.075  Earthquake   \n",
       "7512  1985-04-28  1985-04-28T02:53:41.530Z   -32.998    -71.766  Earthquake   \n",
       "20650 2011-03-13  2011-03-13T02:23:34.520Z    36.344    142.344  Earthquake   \n",
       "\n",
       "       Depth  Magnitude Magnitude Type          ID Source Location Source  \\\n",
       "3378   623.0        5.6             MB  USP0000A09     US              US   \n",
       "7512    33.0        5.6             MW  USP0002E81     US              US   \n",
       "20650   10.1        5.8            MWC  USP000HWQP     US              US   \n",
       "\n",
       "      Magnitude Source    Status  \n",
       "3378                US  Reviewed  \n",
       "7512               HRV  Reviewed  \n",
       "20650             GCMT  Reviewed  "
      ]
     },
     "execution_count": 26,
     "metadata": {},
     "output_type": "execute_result"
    }
   ],
   "source": [
    "earthquake[earthquake['Time'].str.len()==24]"
   ]
  },
  {
   "cell_type": "code",
   "execution_count": 27,
   "metadata": {},
   "outputs": [],
   "source": [
    "earthquake.loc[3378,'Time'] = '02:58:41'\n",
    "earthquake.loc[7512,'Time'] = '02:53:41'\n",
    "earthquake.loc[20650,'Time'] = '02:23:34'"
   ]
  },
  {
   "cell_type": "markdown",
   "metadata": {},
   "source": [
    "Now we can execute conversion of data type of the column"
   ]
  },
  {
   "cell_type": "code",
   "execution_count": 28,
   "metadata": {},
   "outputs": [
    {
     "name": "stderr",
     "output_type": "stream",
     "text": [
      "C:\\Users\\Owner\\AppData\\Local\\Temp\\ipykernel_19140\\2030688786.py:1: UserWarning: Could not infer format, so each element will be parsed individually, falling back to `dateutil`. To ensure parsing is consistent and as-expected, please specify a format.\n",
      "  pd.to_datetime(earthquake['Time'])\n"
     ]
    },
    {
     "data": {
      "text/plain": [
       "0       2025-02-15 13:44:18\n",
       "1       2025-02-15 11:29:49\n",
       "2       2025-02-15 18:05:58\n",
       "3       2025-02-15 18:49:43\n",
       "4       2025-02-15 13:32:50\n",
       "                ...        \n",
       "23407   2025-02-15 08:22:12\n",
       "23408   2025-02-15 09:13:47\n",
       "23409   2025-02-15 12:38:51\n",
       "23410   2025-02-15 22:30:19\n",
       "23411   2025-02-15 20:08:28\n",
       "Name: Time, Length: 23412, dtype: datetime64[ns]"
      ]
     },
     "execution_count": 28,
     "metadata": {},
     "output_type": "execute_result"
    }
   ],
   "source": [
    "pd.to_datetime(earthquake['Time'])"
   ]
  },
  {
   "cell_type": "markdown",
   "metadata": {},
   "source": [
    "Seeing the output we can see today date but it can be ignored as our primary need is to extract specific times in a day"
   ]
  },
  {
   "cell_type": "code",
   "execution_count": 29,
   "metadata": {},
   "outputs": [
    {
     "name": "stderr",
     "output_type": "stream",
     "text": [
      "C:\\Users\\Owner\\AppData\\Local\\Temp\\ipykernel_19140\\221252963.py:1: UserWarning: Could not infer format, so each element will be parsed individually, falling back to `dateutil`. To ensure parsing is consistent and as-expected, please specify a format.\n",
      "  earthquake['Time'] = pd.to_datetime(earthquake['Time'])\n"
     ]
    }
   ],
   "source": [
    "earthquake['Time'] = pd.to_datetime(earthquake['Time'])"
   ]
  },
  {
   "cell_type": "code",
   "execution_count": 30,
   "metadata": {},
   "outputs": [
    {
     "name": "stdout",
     "output_type": "stream",
     "text": [
      "<class 'pandas.core.frame.DataFrame'>\n",
      "RangeIndex: 23412 entries, 0 to 23411\n",
      "Data columns (total 13 columns):\n",
      " #   Column            Non-Null Count  Dtype         \n",
      "---  ------            --------------  -----         \n",
      " 0   Date              23412 non-null  datetime64[ns]\n",
      " 1   Time              23412 non-null  datetime64[ns]\n",
      " 2   Latitude          23412 non-null  float64       \n",
      " 3   Longitude         23412 non-null  float64       \n",
      " 4   Type              23412 non-null  object        \n",
      " 5   Depth             23412 non-null  float64       \n",
      " 6   Magnitude         23412 non-null  float64       \n",
      " 7   Magnitude Type    23412 non-null  object        \n",
      " 8   ID                23412 non-null  object        \n",
      " 9   Source            23412 non-null  object        \n",
      " 10  Location Source   23412 non-null  object        \n",
      " 11  Magnitude Source  23412 non-null  object        \n",
      " 12  Status            23412 non-null  object        \n",
      "dtypes: datetime64[ns](2), float64(4), object(7)\n",
      "memory usage: 2.3+ MB\n"
     ]
    }
   ],
   "source": [
    "earthquake.info()"
   ]
  },
  {
   "cell_type": "code",
   "execution_count": 31,
   "metadata": {},
   "outputs": [
    {
     "data": {
      "text/plain": [
       "Type\n",
       "Earthquake           23232\n",
       "Nuclear Explosion      175\n",
       "Explosion                4\n",
       "Rock Burst               1\n",
       "Name: count, dtype: int64"
      ]
     },
     "execution_count": 31,
     "metadata": {},
     "output_type": "execute_result"
    }
   ],
   "source": [
    "earthquake['Type'].value_counts()"
   ]
  },
  {
   "cell_type": "code",
   "execution_count": 32,
   "metadata": {},
   "outputs": [],
   "source": [
    "import matplotlib.pyplot as plt"
   ]
  },
  {
   "cell_type": "code",
   "execution_count": 33,
   "metadata": {},
   "outputs": [
    {
     "data": {
      "text/plain": [
       "Text(0.5, 1.0, 'Hazards and their frequency of occurance')"
      ]
     },
     "execution_count": 33,
     "metadata": {},
     "output_type": "execute_result"
    },
    {
     "data": {
      "image/png": "[encoded data removed]",
      "text/plain": [
       "<Figure size 640x480 with 1 Axes>"
      ]
     },
     "metadata": {},
     "output_type": "display_data"
    }
   ],
   "source": [
    "earthquake['Type'].value_counts().plot(kind = 'bar')\n",
    "# plt.plot(earthquake['Type'].value_counts())\n",
    "plt.xlabel(\"Hazard type\")\n",
    "plt.ylabel(\"Frequency\")\n",
    "plt.title(\"Hazards and their frequency of occurance\")\n"
   ]
  },
  {
   "cell_type": "markdown",
   "metadata": {},
   "source": [
    "We cannot see other types apart from earthquakes as they have occured very less. We can filter data set to earthquake to further analyse earthquakes and its types"
   ]
  },
  {
   "cell_type": "code",
   "execution_count": 34,
   "metadata": {},
   "outputs": [
    {
     "data": {
      "text/plain": [
       "ID\n",
       "US10007NTD         1\n",
       "ISCGEM860706       1\n",
       "ISCGEM860737       1\n",
       "ISCGEM860762       1\n",
       "US200082PP         1\n",
       "                  ..\n",
       "ISCGEMSUP861125    1\n",
       "ISCGEM861111       1\n",
       "ISCGEM861007       1\n",
       "ISCGEM860922       1\n",
       "ISCGEM860890       1\n",
       "Name: count, Length: 23412, dtype: int64"
      ]
     },
     "execution_count": 34,
     "metadata": {},
     "output_type": "execute_result"
    }
   ],
   "source": [
    "earthquake['ID'].value_counts()"
   ]
  },
  {
   "cell_type": "markdown",
   "metadata": {},
   "source": [
    "It seems id is unique and we don't need it for analysis. So, we can drop Id column as well"
   ]
  },
  {
   "cell_type": "code",
   "execution_count": 35,
   "metadata": {},
   "outputs": [],
   "source": [
    "earthquake.drop('ID', axis=1, inplace = True)"
   ]
  },
  {
   "cell_type": "code",
   "execution_count": 36,
   "metadata": {},
   "outputs": [
    {
     "name": "stdout",
     "output_type": "stream",
     "text": [
      "<class 'pandas.core.frame.DataFrame'>\n",
      "RangeIndex: 23412 entries, 0 to 23411\n",
      "Data columns (total 12 columns):\n",
      " #   Column            Non-Null Count  Dtype         \n",
      "---  ------            --------------  -----         \n",
      " 0   Date              23412 non-null  datetime64[ns]\n",
      " 1   Time              23412 non-null  datetime64[ns]\n",
      " 2   Latitude          23412 non-null  float64       \n",
      " 3   Longitude         23412 non-null  float64       \n",
      " 4   Type              23412 non-null  object        \n",
      " 5   Depth             23412 non-null  float64       \n",
      " 6   Magnitude         23412 non-null  float64       \n",
      " 7   Magnitude Type    23412 non-null  object        \n",
      " 8   Source            23412 non-null  object        \n",
      " 9   Location Source   23412 non-null  object        \n",
      " 10  Magnitude Source  23412 non-null  object        \n",
      " 11  Status            23412 non-null  object        \n",
      "dtypes: datetime64[ns](2), float64(4), object(6)\n",
      "memory usage: 2.1+ MB\n"
     ]
    }
   ],
   "source": [
    "earthquake.info()"
   ]
  },
  {
   "cell_type": "code",
   "execution_count": 37,
   "metadata": {},
   "outputs": [
    {
     "data": {
      "text/plain": [
       "Source\n",
       "US           20630\n",
       "ISCGEM        2460\n",
       "ISCGEMSUP      120\n",
       "CI              61\n",
       "GCMT            55\n",
       "NC              51\n",
       "AK              12\n",
       "OFFICIAL         8\n",
       "UW               6\n",
       "NN               4\n",
       "ATLAS            3\n",
       "SE               1\n",
       "PR               1\n",
       "Name: count, dtype: int64"
      ]
     },
     "execution_count": 37,
     "metadata": {},
     "output_type": "execute_result"
    }
   ],
   "source": [
    "earthquake['Source'].value_counts()"
   ]
  },
  {
   "cell_type": "code",
   "execution_count": 38,
   "metadata": {},
   "outputs": [
    {
     "data": {
      "text/plain": [
       "Location Source\n",
       "US        20350\n",
       "ISCGEM     2581\n",
       "CI           61\n",
       "GCMT         56\n",
       "NC           54\n",
       "GUC          46\n",
       "AEIC         40\n",
       "UNM          21\n",
       "PGC          19\n",
       "WEL          18\n",
       "AGS          17\n",
       "ISK          15\n",
       "AK           14\n",
       "ATH          14\n",
       "HVO          12\n",
       "SPE          10\n",
       "ROM           7\n",
       "AEI           7\n",
       "TEH           7\n",
       "H             7\n",
       "UW            6\n",
       "US_WEL        4\n",
       "NN            4\n",
       "CASC          4\n",
       "RSPR          3\n",
       "THR           3\n",
       "THE           3\n",
       "JMA           3\n",
       "ATLAS         3\n",
       "G             2\n",
       "MDD           2\n",
       "B             2\n",
       "TUL           2\n",
       "BRK           1\n",
       "U             1\n",
       "AG            1\n",
       "CSEM          1\n",
       "OTT           1\n",
       "BOU           1\n",
       "SLC           1\n",
       "UCR           1\n",
       "BEO           1\n",
       "SJA           1\n",
       "CAR           1\n",
       "TAP           1\n",
       "SE            1\n",
       "LIM           1\n",
       "PR            1\n",
       "Name: count, dtype: int64"
      ]
     },
     "execution_count": 38,
     "metadata": {},
     "output_type": "execute_result"
    }
   ],
   "source": [
    "earthquake['Location Source'].value_counts()"
   ]
  },
  {
   "cell_type": "code",
   "execution_count": 39,
   "metadata": {},
   "outputs": [
    {
     "data": {
      "text/plain": [
       "Magnitude Source\n",
       "US          10458\n",
       "HRV          8223\n",
       "ISCGEM       2580\n",
       "GCMT         1489\n",
       "NC            533\n",
       "CI             61\n",
       "AK             12\n",
       "PAR             9\n",
       "OFFICIAL        8\n",
       "GUC             6\n",
       "UW              6\n",
       "NIED            4\n",
       "NN              4\n",
       "ATLAS           3\n",
       "1000            3\n",
       "US_GCMT         3\n",
       "PGC             2\n",
       "BRK             2\n",
       "1020            1\n",
       "1023            1\n",
       "1009            1\n",
       "SE              1\n",
       "US_PGC          1\n",
       "PR              1\n",
       "Name: count, dtype: int64"
      ]
     },
     "execution_count": 39,
     "metadata": {},
     "output_type": "execute_result"
    }
   ],
   "source": [
    "earthquake['Magnitude Source'].value_counts()"
   ]
  },
  {
   "cell_type": "markdown",
   "metadata": {},
   "source": [
    "It seems source and location source columns have similar values. We will try to analyse for 'US' as it has significant data points"
   ]
  },
  {
   "cell_type": "code",
   "execution_count": 40,
   "metadata": {},
   "outputs": [
    {
     "data": {
      "text/plain": [
       "Status\n",
       "Reviewed     20773\n",
       "Automatic     2639\n",
       "Name: count, dtype: int64"
      ]
     },
     "execution_count": 40,
     "metadata": {},
     "output_type": "execute_result"
    }
   ],
   "source": [
    "earthquake['Status'].value_counts()"
   ]
  },
  {
   "cell_type": "code",
   "execution_count": 41,
   "metadata": {},
   "outputs": [
    {
     "data": {
      "text/plain": [
       "Location Source\n",
       "ISCGEM    2581\n",
       "GCMT        55\n",
       "ATLAS        3\n",
       "Name: count, dtype: int64"
      ]
     },
     "execution_count": 41,
     "metadata": {},
     "output_type": "execute_result"
    }
   ],
   "source": [
    "earthquake[earthquake['Status']=='Automatic']['Location Source'].value_counts()"
   ]
  },
  {
   "cell_type": "markdown",
   "metadata": {},
   "source": [
    "It seems Status for all data related to US is reviewed. So, when we filter to 'US' location source we can drop status column as well"
   ]
  },
  {
   "cell_type": "code",
   "execution_count": 42,
   "metadata": {},
   "outputs": [
    {
     "data": {
      "text/html": [
       "<div>\n",
       "<style scoped>\n",
       "    .dataframe tbody tr th:only-of-type {\n",
       "        vertical-align: middle;\n",
       "    }\n",
       "\n",
       "    .dataframe tbody tr th {\n",
       "        vertical-align: top;\n",
       "    }\n",
       "\n",
       "    .dataframe thead th {\n",
       "        text-align: right;\n",
       "    }\n",
       "</style>\n",
       "<table border=\"1\" class=\"dataframe\">\n",
       "  <thead>\n",
       "    <tr style=\"text-align: right;\">\n",
       "      <th></th>\n",
       "      <th>Date</th>\n",
       "      <th>Time</th>\n",
       "      <th>Latitude</th>\n",
       "      <th>Longitude</th>\n",
       "      <th>Type</th>\n",
       "      <th>Depth</th>\n",
       "      <th>Magnitude</th>\n",
       "      <th>Magnitude Type</th>\n",
       "      <th>Source</th>\n",
       "      <th>Location Source</th>\n",
       "      <th>Magnitude Source</th>\n",
       "      <th>Status</th>\n",
       "    </tr>\n",
       "  </thead>\n",
       "  <tbody>\n",
       "    <tr>\n",
       "      <th>2575</th>\n",
       "      <td>1973-01-01</td>\n",
       "      <td>2025-02-15 11:42:37</td>\n",
       "      <td>-35.5130</td>\n",
       "      <td>-16.2110</td>\n",
       "      <td>Earthquake</td>\n",
       "      <td>33.00</td>\n",
       "      <td>6.0</td>\n",
       "      <td>MS</td>\n",
       "      <td>US</td>\n",
       "      <td>US</td>\n",
       "      <td>US</td>\n",
       "      <td>Reviewed</td>\n",
       "    </tr>\n",
       "    <tr>\n",
       "      <th>2576</th>\n",
       "      <td>1973-01-02</td>\n",
       "      <td>2025-02-15 00:53:20</td>\n",
       "      <td>-9.8540</td>\n",
       "      <td>117.4270</td>\n",
       "      <td>Earthquake</td>\n",
       "      <td>66.00</td>\n",
       "      <td>5.5</td>\n",
       "      <td>MB</td>\n",
       "      <td>US</td>\n",
       "      <td>US</td>\n",
       "      <td>US</td>\n",
       "      <td>Reviewed</td>\n",
       "    </tr>\n",
       "    <tr>\n",
       "      <th>2577</th>\n",
       "      <td>1973-01-03</td>\n",
       "      <td>2025-02-15 02:58:17</td>\n",
       "      <td>-27.7160</td>\n",
       "      <td>-63.2610</td>\n",
       "      <td>Earthquake</td>\n",
       "      <td>563.00</td>\n",
       "      <td>5.6</td>\n",
       "      <td>MB</td>\n",
       "      <td>US</td>\n",
       "      <td>US</td>\n",
       "      <td>US</td>\n",
       "      <td>Reviewed</td>\n",
       "    </tr>\n",
       "    <tr>\n",
       "      <th>2578</th>\n",
       "      <td>1973-01-03</td>\n",
       "      <td>2025-02-15 14:31:05</td>\n",
       "      <td>39.1140</td>\n",
       "      <td>71.8890</td>\n",
       "      <td>Earthquake</td>\n",
       "      <td>33.00</td>\n",
       "      <td>5.5</td>\n",
       "      <td>MB</td>\n",
       "      <td>US</td>\n",
       "      <td>US</td>\n",
       "      <td>US</td>\n",
       "      <td>Reviewed</td>\n",
       "    </tr>\n",
       "    <tr>\n",
       "      <th>2579</th>\n",
       "      <td>1973-01-05</td>\n",
       "      <td>2025-02-15 13:54:29</td>\n",
       "      <td>-38.9970</td>\n",
       "      <td>175.2320</td>\n",
       "      <td>Earthquake</td>\n",
       "      <td>150.00</td>\n",
       "      <td>6.2</td>\n",
       "      <td>MB</td>\n",
       "      <td>US</td>\n",
       "      <td>US</td>\n",
       "      <td>US</td>\n",
       "      <td>Reviewed</td>\n",
       "    </tr>\n",
       "    <tr>\n",
       "      <th>...</th>\n",
       "      <td>...</td>\n",
       "      <td>...</td>\n",
       "      <td>...</td>\n",
       "      <td>...</td>\n",
       "      <td>...</td>\n",
       "      <td>...</td>\n",
       "      <td>...</td>\n",
       "      <td>...</td>\n",
       "      <td>...</td>\n",
       "      <td>...</td>\n",
       "      <td>...</td>\n",
       "      <td>...</td>\n",
       "    </tr>\n",
       "    <tr>\n",
       "      <th>23404</th>\n",
       "      <td>2016-12-25</td>\n",
       "      <td>2025-02-15 14:32:13</td>\n",
       "      <td>-43.4810</td>\n",
       "      <td>-74.4771</td>\n",
       "      <td>Earthquake</td>\n",
       "      <td>14.93</td>\n",
       "      <td>5.6</td>\n",
       "      <td>MB</td>\n",
       "      <td>US</td>\n",
       "      <td>US</td>\n",
       "      <td>US</td>\n",
       "      <td>Reviewed</td>\n",
       "    </tr>\n",
       "    <tr>\n",
       "      <th>23405</th>\n",
       "      <td>2016-12-27</td>\n",
       "      <td>2025-02-15 23:20:56</td>\n",
       "      <td>45.7192</td>\n",
       "      <td>26.5230</td>\n",
       "      <td>Earthquake</td>\n",
       "      <td>97.00</td>\n",
       "      <td>5.6</td>\n",
       "      <td>MWW</td>\n",
       "      <td>US</td>\n",
       "      <td>US</td>\n",
       "      <td>US</td>\n",
       "      <td>Reviewed</td>\n",
       "    </tr>\n",
       "    <tr>\n",
       "      <th>23409</th>\n",
       "      <td>2016-12-28</td>\n",
       "      <td>2025-02-15 12:38:51</td>\n",
       "      <td>36.9179</td>\n",
       "      <td>140.4262</td>\n",
       "      <td>Earthquake</td>\n",
       "      <td>10.00</td>\n",
       "      <td>5.9</td>\n",
       "      <td>MWW</td>\n",
       "      <td>US</td>\n",
       "      <td>US</td>\n",
       "      <td>US</td>\n",
       "      <td>Reviewed</td>\n",
       "    </tr>\n",
       "    <tr>\n",
       "      <th>23410</th>\n",
       "      <td>2016-12-29</td>\n",
       "      <td>2025-02-15 22:30:19</td>\n",
       "      <td>-9.0283</td>\n",
       "      <td>118.6639</td>\n",
       "      <td>Earthquake</td>\n",
       "      <td>79.00</td>\n",
       "      <td>6.3</td>\n",
       "      <td>MWW</td>\n",
       "      <td>US</td>\n",
       "      <td>US</td>\n",
       "      <td>US</td>\n",
       "      <td>Reviewed</td>\n",
       "    </tr>\n",
       "    <tr>\n",
       "      <th>23411</th>\n",
       "      <td>2016-12-30</td>\n",
       "      <td>2025-02-15 20:08:28</td>\n",
       "      <td>37.3973</td>\n",
       "      <td>141.4103</td>\n",
       "      <td>Earthquake</td>\n",
       "      <td>11.94</td>\n",
       "      <td>5.5</td>\n",
       "      <td>MB</td>\n",
       "      <td>US</td>\n",
       "      <td>US</td>\n",
       "      <td>US</td>\n",
       "      <td>Reviewed</td>\n",
       "    </tr>\n",
       "  </tbody>\n",
       "</table>\n",
       "<p>20350 rows × 12 columns</p>\n",
       "</div>"
      ],
      "text/plain": [
       "            Date                Time  Latitude  Longitude        Type   Depth  \\\n",
       "2575  1973-01-01 2025-02-15 11:42:37  -35.5130   -16.2110  Earthquake   33.00   \n",
       "2576  1973-01-02 2025-02-15 00:53:20   -9.8540   117.4270  Earthquake   66.00   \n",
       "2577  1973-01-03 2025-02-15 02:58:17  -27.7160   -63.2610  Earthquake  563.00   \n",
       "2578  1973-01-03 2025-02-15 14:31:05   39.1140    71.8890  Earthquake   33.00   \n",
       "2579  1973-01-05 2025-02-15 13:54:29  -38.9970   175.2320  Earthquake  150.00   \n",
       "...          ...                 ...       ...        ...         ...     ...   \n",
       "23404 2016-12-25 2025-02-15 14:32:13  -43.4810   -74.4771  Earthquake   14.93   \n",
       "23405 2016-12-27 2025-02-15 23:20:56   45.7192    26.5230  Earthquake   97.00   \n",
       "23409 2016-12-28 2025-02-15 12:38:51   36.9179   140.4262  Earthquake   10.00   \n",
       "23410 2016-12-29 2025-02-15 22:30:19   -9.0283   118.6639  Earthquake   79.00   \n",
       "23411 2016-12-30 2025-02-15 20:08:28   37.3973   141.4103  Earthquake   11.94   \n",
       "\n",
       "       Magnitude Magnitude Type Source Location Source Magnitude Source  \\\n",
       "2575         6.0             MS     US              US               US   \n",
       "2576         5.5             MB     US              US               US   \n",
       "2577         5.6             MB     US              US               US   \n",
       "2578         5.5             MB     US              US               US   \n",
       "2579         6.2             MB     US              US               US   \n",
       "...          ...            ...    ...             ...              ...   \n",
       "23404        5.6             MB     US              US               US   \n",
       "23405        5.6            MWW     US              US               US   \n",
       "23409        5.9            MWW     US              US               US   \n",
       "23410        6.3            MWW     US              US               US   \n",
       "23411        5.5             MB     US              US               US   \n",
       "\n",
       "         Status  \n",
       "2575   Reviewed  \n",
       "2576   Reviewed  \n",
       "2577   Reviewed  \n",
       "2578   Reviewed  \n",
       "2579   Reviewed  \n",
       "...         ...  \n",
       "23404  Reviewed  \n",
       "23405  Reviewed  \n",
       "23409  Reviewed  \n",
       "23410  Reviewed  \n",
       "23411  Reviewed  \n",
       "\n",
       "[20350 rows x 12 columns]"
      ]
     },
     "execution_count": 42,
     "metadata": {},
     "output_type": "execute_result"
    }
   ],
   "source": [
    "earthquake[earthquake['Location Source']== 'US']"
   ]
  },
  {
   "cell_type": "code",
   "execution_count": 43,
   "metadata": {},
   "outputs": [
    {
     "data": {
      "text/html": [
       "<div>\n",
       "<style scoped>\n",
       "    .dataframe tbody tr th:only-of-type {\n",
       "        vertical-align: middle;\n",
       "    }\n",
       "\n",
       "    .dataframe tbody tr th {\n",
       "        vertical-align: top;\n",
       "    }\n",
       "\n",
       "    .dataframe thead th {\n",
       "        text-align: right;\n",
       "    }\n",
       "</style>\n",
       "<table border=\"1\" class=\"dataframe\">\n",
       "  <thead>\n",
       "    <tr style=\"text-align: right;\">\n",
       "      <th></th>\n",
       "      <th>Date</th>\n",
       "      <th>Time</th>\n",
       "      <th>Latitude</th>\n",
       "      <th>Longitude</th>\n",
       "      <th>Type</th>\n",
       "      <th>Depth</th>\n",
       "      <th>Magnitude</th>\n",
       "      <th>Magnitude Type</th>\n",
       "      <th>Source</th>\n",
       "      <th>Location Source</th>\n",
       "      <th>Magnitude Source</th>\n",
       "      <th>Status</th>\n",
       "    </tr>\n",
       "  </thead>\n",
       "  <tbody>\n",
       "    <tr>\n",
       "      <th>2575</th>\n",
       "      <td>1973-01-01</td>\n",
       "      <td>2025-02-15 11:42:37</td>\n",
       "      <td>-35.513</td>\n",
       "      <td>-16.211</td>\n",
       "      <td>Earthquake</td>\n",
       "      <td>33.0</td>\n",
       "      <td>6.0</td>\n",
       "      <td>MS</td>\n",
       "      <td>US</td>\n",
       "      <td>US</td>\n",
       "      <td>US</td>\n",
       "      <td>Reviewed</td>\n",
       "    </tr>\n",
       "    <tr>\n",
       "      <th>2576</th>\n",
       "      <td>1973-01-02</td>\n",
       "      <td>2025-02-15 00:53:20</td>\n",
       "      <td>-9.854</td>\n",
       "      <td>117.427</td>\n",
       "      <td>Earthquake</td>\n",
       "      <td>66.0</td>\n",
       "      <td>5.5</td>\n",
       "      <td>MB</td>\n",
       "      <td>US</td>\n",
       "      <td>US</td>\n",
       "      <td>US</td>\n",
       "      <td>Reviewed</td>\n",
       "    </tr>\n",
       "    <tr>\n",
       "      <th>2577</th>\n",
       "      <td>1973-01-03</td>\n",
       "      <td>2025-02-15 02:58:17</td>\n",
       "      <td>-27.716</td>\n",
       "      <td>-63.261</td>\n",
       "      <td>Earthquake</td>\n",
       "      <td>563.0</td>\n",
       "      <td>5.6</td>\n",
       "      <td>MB</td>\n",
       "      <td>US</td>\n",
       "      <td>US</td>\n",
       "      <td>US</td>\n",
       "      <td>Reviewed</td>\n",
       "    </tr>\n",
       "    <tr>\n",
       "      <th>2578</th>\n",
       "      <td>1973-01-03</td>\n",
       "      <td>2025-02-15 14:31:05</td>\n",
       "      <td>39.114</td>\n",
       "      <td>71.889</td>\n",
       "      <td>Earthquake</td>\n",
       "      <td>33.0</td>\n",
       "      <td>5.5</td>\n",
       "      <td>MB</td>\n",
       "      <td>US</td>\n",
       "      <td>US</td>\n",
       "      <td>US</td>\n",
       "      <td>Reviewed</td>\n",
       "    </tr>\n",
       "    <tr>\n",
       "      <th>2579</th>\n",
       "      <td>1973-01-05</td>\n",
       "      <td>2025-02-15 13:54:29</td>\n",
       "      <td>-38.997</td>\n",
       "      <td>175.232</td>\n",
       "      <td>Earthquake</td>\n",
       "      <td>150.0</td>\n",
       "      <td>6.2</td>\n",
       "      <td>MB</td>\n",
       "      <td>US</td>\n",
       "      <td>US</td>\n",
       "      <td>US</td>\n",
       "      <td>Reviewed</td>\n",
       "    </tr>\n",
       "  </tbody>\n",
       "</table>\n",
       "</div>"
      ],
      "text/plain": [
       "           Date                Time  Latitude  Longitude        Type  Depth  \\\n",
       "2575 1973-01-01 2025-02-15 11:42:37   -35.513    -16.211  Earthquake   33.0   \n",
       "2576 1973-01-02 2025-02-15 00:53:20    -9.854    117.427  Earthquake   66.0   \n",
       "2577 1973-01-03 2025-02-15 02:58:17   -27.716    -63.261  Earthquake  563.0   \n",
       "2578 1973-01-03 2025-02-15 14:31:05    39.114     71.889  Earthquake   33.0   \n",
       "2579 1973-01-05 2025-02-15 13:54:29   -38.997    175.232  Earthquake  150.0   \n",
       "\n",
       "      Magnitude Magnitude Type Source Location Source Magnitude Source  \\\n",
       "2575        6.0             MS     US              US               US   \n",
       "2576        5.5             MB     US              US               US   \n",
       "2577        5.6             MB     US              US               US   \n",
       "2578        5.5             MB     US              US               US   \n",
       "2579        6.2             MB     US              US               US   \n",
       "\n",
       "        Status  \n",
       "2575  Reviewed  \n",
       "2576  Reviewed  \n",
       "2577  Reviewed  \n",
       "2578  Reviewed  \n",
       "2579  Reviewed  "
      ]
     },
     "execution_count": 43,
     "metadata": {},
     "output_type": "execute_result"
    }
   ],
   "source": [
    "earthquake_usdata = earthquake[earthquake['Location Source']== 'US']\n",
    "earthquake_usdata.head()"
   ]
  },
  {
   "cell_type": "code",
   "execution_count": 44,
   "metadata": {},
   "outputs": [
    {
     "data": {
      "text/plain": [
       "Source\n",
       "US          20343\n",
       "OFFICIAL        7\n",
       "Name: count, dtype: int64"
      ]
     },
     "execution_count": 44,
     "metadata": {},
     "output_type": "execute_result"
    }
   ],
   "source": [
    "earthquake_usdata['Source'].value_counts()"
   ]
  },
  {
   "cell_type": "code",
   "execution_count": 45,
   "metadata": {},
   "outputs": [
    {
     "data": {
      "text/plain": [
       "Location Source\n",
       "US    20350\n",
       "Name: count, dtype: int64"
      ]
     },
     "execution_count": 45,
     "metadata": {},
     "output_type": "execute_result"
    }
   ],
   "source": [
    "earthquake_usdata['Location Source'].value_counts()"
   ]
  },
  {
   "cell_type": "markdown",
   "metadata": {},
   "source": [
    "After reviewing Source and Location Source columns it is clear that 'OFFICIAL' rows is same as 'US' we can replace them or drop the column as both of them represent the same data"
   ]
  },
  {
   "cell_type": "code",
   "execution_count": 46,
   "metadata": {},
   "outputs": [
    {
     "name": "stderr",
     "output_type": "stream",
     "text": [
      "C:\\Users\\Owner\\AppData\\Local\\Temp\\ipykernel_19140\\3609644838.py:1: SettingWithCopyWarning: \n",
      "A value is trying to be set on a copy of a slice from a DataFrame\n",
      "\n",
      "See the caveats in the documentation: https://pandas.pydata.org/pandas-docs/stable/user_guide/indexing.html#returning-a-view-versus-a-copy\n",
      "  earthquake_usdata.drop('Source', axis=1, inplace =True)\n"
     ]
    }
   ],
   "source": [
    "earthquake_usdata.drop('Source', axis=1, inplace =True)"
   ]
  },
  {
   "cell_type": "code",
   "execution_count": 47,
   "metadata": {},
   "outputs": [
    {
     "name": "stdout",
     "output_type": "stream",
     "text": [
      "<class 'pandas.core.frame.DataFrame'>\n",
      "Index: 20350 entries, 2575 to 23411\n",
      "Data columns (total 11 columns):\n",
      " #   Column            Non-Null Count  Dtype         \n",
      "---  ------            --------------  -----         \n",
      " 0   Date              20350 non-null  datetime64[ns]\n",
      " 1   Time              20350 non-null  datetime64[ns]\n",
      " 2   Latitude          20350 non-null  float64       \n",
      " 3   Longitude         20350 non-null  float64       \n",
      " 4   Type              20350 non-null  object        \n",
      " 5   Depth             20350 non-null  float64       \n",
      " 6   Magnitude         20350 non-null  float64       \n",
      " 7   Magnitude Type    20350 non-null  object        \n",
      " 8   Location Source   20350 non-null  object        \n",
      " 9   Magnitude Source  20350 non-null  object        \n",
      " 10  Status            20350 non-null  object        \n",
      "dtypes: datetime64[ns](2), float64(4), object(5)\n",
      "memory usage: 1.9+ MB\n"
     ]
    }
   ],
   "source": [
    "earthquake_usdata.info()"
   ]
  },
  {
   "cell_type": "code",
   "execution_count": 48,
   "metadata": {},
   "outputs": [
    {
     "data": {
      "text/plain": [
       "Magnitude Source\n",
       "US          10306\n",
       "HRV          8148\n",
       "GCMT         1383\n",
       "NC            477\n",
       "PAR             9\n",
       "OFFICIAL        7\n",
       "GUC             6\n",
       "NIED            3\n",
       "US_GCMT         3\n",
       "PGC             2\n",
       "1000            2\n",
       "1023            1\n",
       "BRK             1\n",
       "1020            1\n",
       "US_PGC          1\n",
       "Name: count, dtype: int64"
      ]
     },
     "execution_count": 48,
     "metadata": {},
     "output_type": "execute_result"
    }
   ],
   "source": [
    "earthquake_usdata['Magnitude Source'].value_counts()"
   ]
  },
  {
   "cell_type": "markdown",
   "metadata": {},
   "source": [
    "As mentioned above we can assume 'OFFICIAL' is same as 'US'"
   ]
  },
  {
   "cell_type": "code",
   "execution_count": 49,
   "metadata": {},
   "outputs": [
    {
     "data": {
      "text/html": [
       "<div>\n",
       "<style scoped>\n",
       "    .dataframe tbody tr th:only-of-type {\n",
       "        vertical-align: middle;\n",
       "    }\n",
       "\n",
       "    .dataframe tbody tr th {\n",
       "        vertical-align: top;\n",
       "    }\n",
       "\n",
       "    .dataframe thead th {\n",
       "        text-align: right;\n",
       "    }\n",
       "</style>\n",
       "<table border=\"1\" class=\"dataframe\">\n",
       "  <thead>\n",
       "    <tr style=\"text-align: right;\">\n",
       "      <th></th>\n",
       "      <th>Date</th>\n",
       "      <th>Time</th>\n",
       "      <th>Latitude</th>\n",
       "      <th>Longitude</th>\n",
       "      <th>Type</th>\n",
       "      <th>Depth</th>\n",
       "      <th>Magnitude</th>\n",
       "      <th>Magnitude Type</th>\n",
       "      <th>Location Source</th>\n",
       "      <th>Magnitude Source</th>\n",
       "      <th>Status</th>\n",
       "    </tr>\n",
       "  </thead>\n",
       "  <tbody>\n",
       "    <tr>\n",
       "      <th>15440</th>\n",
       "      <td>2001-06-23</td>\n",
       "      <td>2025-02-15 20:33:14</td>\n",
       "      <td>-16.265</td>\n",
       "      <td>-73.641</td>\n",
       "      <td>Earthquake</td>\n",
       "      <td>33.0</td>\n",
       "      <td>8.4</td>\n",
       "      <td>MWW</td>\n",
       "      <td>US</td>\n",
       "      <td>OFFICIAL</td>\n",
       "      <td>Reviewed</td>\n",
       "    </tr>\n",
       "    <tr>\n",
       "      <th>17083</th>\n",
       "      <td>2004-12-26</td>\n",
       "      <td>2025-02-15 00:58:53</td>\n",
       "      <td>3.295</td>\n",
       "      <td>95.982</td>\n",
       "      <td>Earthquake</td>\n",
       "      <td>30.0</td>\n",
       "      <td>9.1</td>\n",
       "      <td>MW</td>\n",
       "      <td>US</td>\n",
       "      <td>OFFICIAL</td>\n",
       "      <td>Reviewed</td>\n",
       "    </tr>\n",
       "    <tr>\n",
       "      <th>17329</th>\n",
       "      <td>2005-03-28</td>\n",
       "      <td>2025-02-15 16:09:37</td>\n",
       "      <td>2.085</td>\n",
       "      <td>97.108</td>\n",
       "      <td>Earthquake</td>\n",
       "      <td>30.0</td>\n",
       "      <td>8.6</td>\n",
       "      <td>MWW</td>\n",
       "      <td>US</td>\n",
       "      <td>OFFICIAL</td>\n",
       "      <td>Reviewed</td>\n",
       "    </tr>\n",
       "    <tr>\n",
       "      <th>18615</th>\n",
       "      <td>2007-09-12</td>\n",
       "      <td>2025-02-15 11:10:27</td>\n",
       "      <td>-4.438</td>\n",
       "      <td>101.367</td>\n",
       "      <td>Earthquake</td>\n",
       "      <td>34.0</td>\n",
       "      <td>8.4</td>\n",
       "      <td>MWW</td>\n",
       "      <td>US</td>\n",
       "      <td>OFFICIAL</td>\n",
       "      <td>Reviewed</td>\n",
       "    </tr>\n",
       "    <tr>\n",
       "      <th>19928</th>\n",
       "      <td>2010-02-27</td>\n",
       "      <td>2025-02-15 06:34:12</td>\n",
       "      <td>-36.122</td>\n",
       "      <td>-72.898</td>\n",
       "      <td>Earthquake</td>\n",
       "      <td>22.9</td>\n",
       "      <td>8.8</td>\n",
       "      <td>MWW</td>\n",
       "      <td>US</td>\n",
       "      <td>OFFICIAL</td>\n",
       "      <td>Reviewed</td>\n",
       "    </tr>\n",
       "    <tr>\n",
       "      <th>20501</th>\n",
       "      <td>2011-03-11</td>\n",
       "      <td>2025-02-15 05:46:24</td>\n",
       "      <td>38.297</td>\n",
       "      <td>142.373</td>\n",
       "      <td>Earthquake</td>\n",
       "      <td>29.0</td>\n",
       "      <td>9.1</td>\n",
       "      <td>MWW</td>\n",
       "      <td>US</td>\n",
       "      <td>OFFICIAL</td>\n",
       "      <td>Reviewed</td>\n",
       "    </tr>\n",
       "    <tr>\n",
       "      <th>21219</th>\n",
       "      <td>2012-04-11</td>\n",
       "      <td>2025-02-15 08:38:37</td>\n",
       "      <td>2.327</td>\n",
       "      <td>93.063</td>\n",
       "      <td>Earthquake</td>\n",
       "      <td>20.0</td>\n",
       "      <td>8.6</td>\n",
       "      <td>MW</td>\n",
       "      <td>US</td>\n",
       "      <td>OFFICIAL</td>\n",
       "      <td>Reviewed</td>\n",
       "    </tr>\n",
       "  </tbody>\n",
       "</table>\n",
       "</div>"
      ],
      "text/plain": [
       "            Date                Time  Latitude  Longitude        Type  Depth  \\\n",
       "15440 2001-06-23 2025-02-15 20:33:14   -16.265    -73.641  Earthquake   33.0   \n",
       "17083 2004-12-26 2025-02-15 00:58:53     3.295     95.982  Earthquake   30.0   \n",
       "17329 2005-03-28 2025-02-15 16:09:37     2.085     97.108  Earthquake   30.0   \n",
       "18615 2007-09-12 2025-02-15 11:10:27    -4.438    101.367  Earthquake   34.0   \n",
       "19928 2010-02-27 2025-02-15 06:34:12   -36.122    -72.898  Earthquake   22.9   \n",
       "20501 2011-03-11 2025-02-15 05:46:24    38.297    142.373  Earthquake   29.0   \n",
       "21219 2012-04-11 2025-02-15 08:38:37     2.327     93.063  Earthquake   20.0   \n",
       "\n",
       "       Magnitude Magnitude Type Location Source Magnitude Source    Status  \n",
       "15440        8.4            MWW              US         OFFICIAL  Reviewed  \n",
       "17083        9.1             MW              US         OFFICIAL  Reviewed  \n",
       "17329        8.6            MWW              US         OFFICIAL  Reviewed  \n",
       "18615        8.4            MWW              US         OFFICIAL  Reviewed  \n",
       "19928        8.8            MWW              US         OFFICIAL  Reviewed  \n",
       "20501        9.1            MWW              US         OFFICIAL  Reviewed  \n",
       "21219        8.6             MW              US         OFFICIAL  Reviewed  "
      ]
     },
     "execution_count": 49,
     "metadata": {},
     "output_type": "execute_result"
    }
   ],
   "source": [
    "earthquake_usdata[earthquake_usdata['Magnitude Source'] == 'OFFICIAL']"
   ]
  },
  {
   "cell_type": "code",
   "execution_count": 50,
   "metadata": {},
   "outputs": [],
   "source": [
    "earthquake_usdata.loc[earthquake_usdata['Magnitude Source']=='OFFICIAL', 'Magnitude Source'] = \"US\""
   ]
  },
  {
   "cell_type": "markdown",
   "metadata": {},
   "source": [
    "I tried to filter rows based on row value 'OFFICIAL' and replaced it with 'US'"
   ]
  },
  {
   "cell_type": "code",
   "execution_count": 51,
   "metadata": {},
   "outputs": [
    {
     "data": {
      "text/plain": [
       "Magnitude Source\n",
       "US         10313\n",
       "HRV         8148\n",
       "GCMT        1383\n",
       "NC           477\n",
       "PAR            9\n",
       "GUC            6\n",
       "NIED           3\n",
       "US_GCMT        3\n",
       "PGC            2\n",
       "1000           2\n",
       "1023           1\n",
       "BRK            1\n",
       "1020           1\n",
       "US_PGC         1\n",
       "Name: count, dtype: int64"
      ]
     },
     "execution_count": 51,
     "metadata": {},
     "output_type": "execute_result"
    }
   ],
   "source": [
    "earthquake_usdata['Magnitude Source'].value_counts()"
   ]
  },
  {
   "cell_type": "markdown",
   "metadata": {},
   "source": [
    "Above information shows I have successfully replaced data with 'OFFICIAL' name to 'US'."
   ]
  },
  {
   "cell_type": "markdown",
   "metadata": {},
   "source": [
    "On observing above data it shows some of categorical values seems in appropriate such as 1020,1000,1023 as well as short form PAR, GUC, NIED..etc., \n",
    "\n",
    "As they represent very small proportion of data I am removing them"
   ]
  },
  {
   "cell_type": "code",
   "execution_count": 52,
   "metadata": {},
   "outputs": [
    {
     "data": {
      "text/html": [
       "<div>\n",
       "<style scoped>\n",
       "    .dataframe tbody tr th:only-of-type {\n",
       "        vertical-align: middle;\n",
       "    }\n",
       "\n",
       "    .dataframe tbody tr th {\n",
       "        vertical-align: top;\n",
       "    }\n",
       "\n",
       "    .dataframe thead th {\n",
       "        text-align: right;\n",
       "    }\n",
       "</style>\n",
       "<table border=\"1\" class=\"dataframe\">\n",
       "  <thead>\n",
       "    <tr style=\"text-align: right;\">\n",
       "      <th></th>\n",
       "      <th>Date</th>\n",
       "      <th>Time</th>\n",
       "      <th>Latitude</th>\n",
       "      <th>Longitude</th>\n",
       "      <th>Type</th>\n",
       "      <th>Depth</th>\n",
       "      <th>Magnitude</th>\n",
       "      <th>Magnitude Type</th>\n",
       "      <th>Location Source</th>\n",
       "      <th>Magnitude Source</th>\n",
       "      <th>Status</th>\n",
       "    </tr>\n",
       "  </thead>\n",
       "  <tbody>\n",
       "    <tr>\n",
       "      <th>2575</th>\n",
       "      <td>1973-01-01</td>\n",
       "      <td>2025-02-15 11:42:37</td>\n",
       "      <td>-35.5130</td>\n",
       "      <td>-16.2110</td>\n",
       "      <td>Earthquake</td>\n",
       "      <td>33.00</td>\n",
       "      <td>6.0</td>\n",
       "      <td>MS</td>\n",
       "      <td>US</td>\n",
       "      <td>US</td>\n",
       "      <td>Reviewed</td>\n",
       "    </tr>\n",
       "    <tr>\n",
       "      <th>2576</th>\n",
       "      <td>1973-01-02</td>\n",
       "      <td>2025-02-15 00:53:20</td>\n",
       "      <td>-9.8540</td>\n",
       "      <td>117.4270</td>\n",
       "      <td>Earthquake</td>\n",
       "      <td>66.00</td>\n",
       "      <td>5.5</td>\n",
       "      <td>MB</td>\n",
       "      <td>US</td>\n",
       "      <td>US</td>\n",
       "      <td>Reviewed</td>\n",
       "    </tr>\n",
       "    <tr>\n",
       "      <th>2577</th>\n",
       "      <td>1973-01-03</td>\n",
       "      <td>2025-02-15 02:58:17</td>\n",
       "      <td>-27.7160</td>\n",
       "      <td>-63.2610</td>\n",
       "      <td>Earthquake</td>\n",
       "      <td>563.00</td>\n",
       "      <td>5.6</td>\n",
       "      <td>MB</td>\n",
       "      <td>US</td>\n",
       "      <td>US</td>\n",
       "      <td>Reviewed</td>\n",
       "    </tr>\n",
       "    <tr>\n",
       "      <th>2578</th>\n",
       "      <td>1973-01-03</td>\n",
       "      <td>2025-02-15 14:31:05</td>\n",
       "      <td>39.1140</td>\n",
       "      <td>71.8890</td>\n",
       "      <td>Earthquake</td>\n",
       "      <td>33.00</td>\n",
       "      <td>5.5</td>\n",
       "      <td>MB</td>\n",
       "      <td>US</td>\n",
       "      <td>US</td>\n",
       "      <td>Reviewed</td>\n",
       "    </tr>\n",
       "    <tr>\n",
       "      <th>2579</th>\n",
       "      <td>1973-01-05</td>\n",
       "      <td>2025-02-15 13:54:29</td>\n",
       "      <td>-38.9970</td>\n",
       "      <td>175.2320</td>\n",
       "      <td>Earthquake</td>\n",
       "      <td>150.00</td>\n",
       "      <td>6.2</td>\n",
       "      <td>MB</td>\n",
       "      <td>US</td>\n",
       "      <td>US</td>\n",
       "      <td>Reviewed</td>\n",
       "    </tr>\n",
       "    <tr>\n",
       "      <th>...</th>\n",
       "      <td>...</td>\n",
       "      <td>...</td>\n",
       "      <td>...</td>\n",
       "      <td>...</td>\n",
       "      <td>...</td>\n",
       "      <td>...</td>\n",
       "      <td>...</td>\n",
       "      <td>...</td>\n",
       "      <td>...</td>\n",
       "      <td>...</td>\n",
       "      <td>...</td>\n",
       "    </tr>\n",
       "    <tr>\n",
       "      <th>23404</th>\n",
       "      <td>2016-12-25</td>\n",
       "      <td>2025-02-15 14:32:13</td>\n",
       "      <td>-43.4810</td>\n",
       "      <td>-74.4771</td>\n",
       "      <td>Earthquake</td>\n",
       "      <td>14.93</td>\n",
       "      <td>5.6</td>\n",
       "      <td>MB</td>\n",
       "      <td>US</td>\n",
       "      <td>US</td>\n",
       "      <td>Reviewed</td>\n",
       "    </tr>\n",
       "    <tr>\n",
       "      <th>23405</th>\n",
       "      <td>2016-12-27</td>\n",
       "      <td>2025-02-15 23:20:56</td>\n",
       "      <td>45.7192</td>\n",
       "      <td>26.5230</td>\n",
       "      <td>Earthquake</td>\n",
       "      <td>97.00</td>\n",
       "      <td>5.6</td>\n",
       "      <td>MWW</td>\n",
       "      <td>US</td>\n",
       "      <td>US</td>\n",
       "      <td>Reviewed</td>\n",
       "    </tr>\n",
       "    <tr>\n",
       "      <th>23409</th>\n",
       "      <td>2016-12-28</td>\n",
       "      <td>2025-02-15 12:38:51</td>\n",
       "      <td>36.9179</td>\n",
       "      <td>140.4262</td>\n",
       "      <td>Earthquake</td>\n",
       "      <td>10.00</td>\n",
       "      <td>5.9</td>\n",
       "      <td>MWW</td>\n",
       "      <td>US</td>\n",
       "      <td>US</td>\n",
       "      <td>Reviewed</td>\n",
       "    </tr>\n",
       "    <tr>\n",
       "      <th>23410</th>\n",
       "      <td>2016-12-29</td>\n",
       "      <td>2025-02-15 22:30:19</td>\n",
       "      <td>-9.0283</td>\n",
       "      <td>118.6639</td>\n",
       "      <td>Earthquake</td>\n",
       "      <td>79.00</td>\n",
       "      <td>6.3</td>\n",
       "      <td>MWW</td>\n",
       "      <td>US</td>\n",
       "      <td>US</td>\n",
       "      <td>Reviewed</td>\n",
       "    </tr>\n",
       "    <tr>\n",
       "      <th>23411</th>\n",
       "      <td>2016-12-30</td>\n",
       "      <td>2025-02-15 20:08:28</td>\n",
       "      <td>37.3973</td>\n",
       "      <td>141.4103</td>\n",
       "      <td>Earthquake</td>\n",
       "      <td>11.94</td>\n",
       "      <td>5.5</td>\n",
       "      <td>MB</td>\n",
       "      <td>US</td>\n",
       "      <td>US</td>\n",
       "      <td>Reviewed</td>\n",
       "    </tr>\n",
       "  </tbody>\n",
       "</table>\n",
       "<p>20321 rows × 11 columns</p>\n",
       "</div>"
      ],
      "text/plain": [
       "            Date                Time  Latitude  Longitude        Type   Depth  \\\n",
       "2575  1973-01-01 2025-02-15 11:42:37  -35.5130   -16.2110  Earthquake   33.00   \n",
       "2576  1973-01-02 2025-02-15 00:53:20   -9.8540   117.4270  Earthquake   66.00   \n",
       "2577  1973-01-03 2025-02-15 02:58:17  -27.7160   -63.2610  Earthquake  563.00   \n",
       "2578  1973-01-03 2025-02-15 14:31:05   39.1140    71.8890  Earthquake   33.00   \n",
       "2579  1973-01-05 2025-02-15 13:54:29  -38.9970   175.2320  Earthquake  150.00   \n",
       "...          ...                 ...       ...        ...         ...     ...   \n",
       "23404 2016-12-25 2025-02-15 14:32:13  -43.4810   -74.4771  Earthquake   14.93   \n",
       "23405 2016-12-27 2025-02-15 23:20:56   45.7192    26.5230  Earthquake   97.00   \n",
       "23409 2016-12-28 2025-02-15 12:38:51   36.9179   140.4262  Earthquake   10.00   \n",
       "23410 2016-12-29 2025-02-15 22:30:19   -9.0283   118.6639  Earthquake   79.00   \n",
       "23411 2016-12-30 2025-02-15 20:08:28   37.3973   141.4103  Earthquake   11.94   \n",
       "\n",
       "       Magnitude Magnitude Type Location Source Magnitude Source    Status  \n",
       "2575         6.0             MS              US               US  Reviewed  \n",
       "2576         5.5             MB              US               US  Reviewed  \n",
       "2577         5.6             MB              US               US  Reviewed  \n",
       "2578         5.5             MB              US               US  Reviewed  \n",
       "2579         6.2             MB              US               US  Reviewed  \n",
       "...          ...            ...             ...              ...       ...  \n",
       "23404        5.6             MB              US               US  Reviewed  \n",
       "23405        5.6            MWW              US               US  Reviewed  \n",
       "23409        5.9            MWW              US               US  Reviewed  \n",
       "23410        6.3            MWW              US               US  Reviewed  \n",
       "23411        5.5             MB              US               US  Reviewed  \n",
       "\n",
       "[20321 rows x 11 columns]"
      ]
     },
     "execution_count": 52,
     "metadata": {},
     "output_type": "execute_result"
    }
   ],
   "source": [
    "earthquake_usdata[earthquake_usdata['Magnitude Source'].isin(['US', 'HRV', 'GCMT', 'NC' ])]"
   ]
  },
  {
   "cell_type": "code",
   "execution_count": 53,
   "metadata": {},
   "outputs": [],
   "source": [
    "earthquake_usdata_filtered = earthquake_usdata[earthquake_usdata['Magnitude Source'].isin(['US', 'HRV', 'GCMT', 'NC' ])]"
   ]
  },
  {
   "cell_type": "code",
   "execution_count": 54,
   "metadata": {},
   "outputs": [
    {
     "data": {
      "text/plain": [
       "Magnitude Source\n",
       "US      10313\n",
       "HRV      8148\n",
       "GCMT     1383\n",
       "NC        477\n",
       "Name: count, dtype: int64"
      ]
     },
     "execution_count": 54,
     "metadata": {},
     "output_type": "execute_result"
    }
   ],
   "source": [
    "earthquake_usdata_filtered['Magnitude Source'].value_counts()"
   ]
  },
  {
   "cell_type": "markdown",
   "metadata": {},
   "source": [
    "We have finally filtered data according to my need"
   ]
  },
  {
   "cell_type": "code",
   "execution_count": 55,
   "metadata": {},
   "outputs": [
    {
     "data": {
      "text/html": [
       "<div>\n",
       "<style scoped>\n",
       "    .dataframe tbody tr th:only-of-type {\n",
       "        vertical-align: middle;\n",
       "    }\n",
       "\n",
       "    .dataframe tbody tr th {\n",
       "        vertical-align: top;\n",
       "    }\n",
       "\n",
       "    .dataframe thead th {\n",
       "        text-align: right;\n",
       "    }\n",
       "</style>\n",
       "<table border=\"1\" class=\"dataframe\">\n",
       "  <thead>\n",
       "    <tr style=\"text-align: right;\">\n",
       "      <th></th>\n",
       "      <th>Date</th>\n",
       "      <th>Time</th>\n",
       "      <th>Latitude</th>\n",
       "      <th>Longitude</th>\n",
       "      <th>Type</th>\n",
       "      <th>Depth</th>\n",
       "      <th>Magnitude</th>\n",
       "      <th>Magnitude Type</th>\n",
       "      <th>Location Source</th>\n",
       "      <th>Magnitude Source</th>\n",
       "      <th>Status</th>\n",
       "    </tr>\n",
       "  </thead>\n",
       "  <tbody>\n",
       "    <tr>\n",
       "      <th>2575</th>\n",
       "      <td>1973-01-01</td>\n",
       "      <td>2025-02-15 11:42:37</td>\n",
       "      <td>-35.513</td>\n",
       "      <td>-16.211</td>\n",
       "      <td>Earthquake</td>\n",
       "      <td>33.0</td>\n",
       "      <td>6.0</td>\n",
       "      <td>MS</td>\n",
       "      <td>US</td>\n",
       "      <td>US</td>\n",
       "      <td>Reviewed</td>\n",
       "    </tr>\n",
       "    <tr>\n",
       "      <th>2576</th>\n",
       "      <td>1973-01-02</td>\n",
       "      <td>2025-02-15 00:53:20</td>\n",
       "      <td>-9.854</td>\n",
       "      <td>117.427</td>\n",
       "      <td>Earthquake</td>\n",
       "      <td>66.0</td>\n",
       "      <td>5.5</td>\n",
       "      <td>MB</td>\n",
       "      <td>US</td>\n",
       "      <td>US</td>\n",
       "      <td>Reviewed</td>\n",
       "    </tr>\n",
       "    <tr>\n",
       "      <th>2577</th>\n",
       "      <td>1973-01-03</td>\n",
       "      <td>2025-02-15 02:58:17</td>\n",
       "      <td>-27.716</td>\n",
       "      <td>-63.261</td>\n",
       "      <td>Earthquake</td>\n",
       "      <td>563.0</td>\n",
       "      <td>5.6</td>\n",
       "      <td>MB</td>\n",
       "      <td>US</td>\n",
       "      <td>US</td>\n",
       "      <td>Reviewed</td>\n",
       "    </tr>\n",
       "    <tr>\n",
       "      <th>2578</th>\n",
       "      <td>1973-01-03</td>\n",
       "      <td>2025-02-15 14:31:05</td>\n",
       "      <td>39.114</td>\n",
       "      <td>71.889</td>\n",
       "      <td>Earthquake</td>\n",
       "      <td>33.0</td>\n",
       "      <td>5.5</td>\n",
       "      <td>MB</td>\n",
       "      <td>US</td>\n",
       "      <td>US</td>\n",
       "      <td>Reviewed</td>\n",
       "    </tr>\n",
       "    <tr>\n",
       "      <th>2579</th>\n",
       "      <td>1973-01-05</td>\n",
       "      <td>2025-02-15 13:54:29</td>\n",
       "      <td>-38.997</td>\n",
       "      <td>175.232</td>\n",
       "      <td>Earthquake</td>\n",
       "      <td>150.0</td>\n",
       "      <td>6.2</td>\n",
       "      <td>MB</td>\n",
       "      <td>US</td>\n",
       "      <td>US</td>\n",
       "      <td>Reviewed</td>\n",
       "    </tr>\n",
       "  </tbody>\n",
       "</table>\n",
       "</div>"
      ],
      "text/plain": [
       "           Date                Time  Latitude  Longitude        Type  Depth  \\\n",
       "2575 1973-01-01 2025-02-15 11:42:37   -35.513    -16.211  Earthquake   33.0   \n",
       "2576 1973-01-02 2025-02-15 00:53:20    -9.854    117.427  Earthquake   66.0   \n",
       "2577 1973-01-03 2025-02-15 02:58:17   -27.716    -63.261  Earthquake  563.0   \n",
       "2578 1973-01-03 2025-02-15 14:31:05    39.114     71.889  Earthquake   33.0   \n",
       "2579 1973-01-05 2025-02-15 13:54:29   -38.997    175.232  Earthquake  150.0   \n",
       "\n",
       "      Magnitude Magnitude Type Location Source Magnitude Source    Status  \n",
       "2575        6.0             MS              US               US  Reviewed  \n",
       "2576        5.5             MB              US               US  Reviewed  \n",
       "2577        5.6             MB              US               US  Reviewed  \n",
       "2578        5.5             MB              US               US  Reviewed  \n",
       "2579        6.2             MB              US               US  Reviewed  "
      ]
     },
     "execution_count": 55,
     "metadata": {},
     "output_type": "execute_result"
    }
   ],
   "source": [
    "earthquake_usdata_filtered.head()"
   ]
  },
  {
   "cell_type": "code",
   "execution_count": 56,
   "metadata": {},
   "outputs": [
    {
     "data": {
      "text/plain": [
       "Magnitude Type\n",
       "MWC    5499\n",
       "MW     5054\n",
       "MB     3726\n",
       "MWB    2416\n",
       "MWW    1930\n",
       "MS     1687\n",
       "MWR       9\n",
       "Name: count, dtype: int64"
      ]
     },
     "execution_count": 56,
     "metadata": {},
     "output_type": "execute_result"
    }
   ],
   "source": [
    "earthquake_usdata_filtered['Magnitude Type'].value_counts()"
   ]
  },
  {
   "cell_type": "code",
   "execution_count": 57,
   "metadata": {},
   "outputs": [
    {
     "data": {
      "text/plain": [
       "Text(0, 0.5, 'Frequency of occurance')"
      ]
     },
     "execution_count": 57,
     "metadata": {},
     "output_type": "execute_result"
    },
    {
     "data": {
      "image/png": "[encoded data removed]",
      "text/plain": [
       "<Figure size 640x480 with 1 Axes>"
      ]
     },
     "metadata": {},
     "output_type": "display_data"
    }
   ],
   "source": [
    "earthquake_usdata_filtered['Magnitude Type'].value_counts().plot(kind = 'bar')\n",
    "plt.xlabel(\"Magnitude Type\")\n",
    "plt.ylabel(\"Frequency of occurance\")"
   ]
  },
  {
   "cell_type": "code",
   "execution_count": 58,
   "metadata": {},
   "outputs": [
    {
     "data": {
      "text/plain": [
       "Text(0, 0.5, 'Frequency of occurance')"
      ]
     },
     "execution_count": 58,
     "metadata": {},
     "output_type": "execute_result"
    },
    {
     "data": {
      "image/png": "[encoded data removed]",
      "text/plain": [
       "<Figure size 640x480 with 1 Axes>"
      ]
     },
     "metadata": {},
     "output_type": "display_data"
    }
   ],
   "source": [
    "earthquake_usdata_filtered['Magnitude Source'].value_counts().plot(kind = 'bar')\n",
    "plt.xlabel(\"Location\")\n",
    "plt.ylabel(\"Frequency of occurance\")"
   ]
  },
  {
   "cell_type": "markdown",
   "metadata": {},
   "source": [
    "Within location source 'US' we can see the occurance of magnitude source within US. \n",
    "\n",
    "Within US, it was mmentioned HRV, GCMT, NC which are other places within US"
   ]
  }
 ],
 "metadata": {
  "kernelspec": {
   "display_name": "Python 3",
   "language": "python",
   "name": "python3"
  },
  "language_info": {
   "codemirror_mode": {
    "name": "ipython",
    "version": 3
   },
   "file_extension": ".py",
   "mimetype": "text/x-python",
   "name": "python",
   "nbconvert_exporter": "python",
   "pygments_lexer": "ipython3",
   "version": "3.13.2"
  }
 },
 "nbformat": 4,
 "nbformat_minor": 2
}
